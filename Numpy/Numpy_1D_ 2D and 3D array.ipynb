{
 "cells": [
  {
   "cell_type": "code",
   "execution_count": 2,
   "id": "d776c38f",
   "metadata": {},
   "outputs": [],
   "source": [
    "import numpy as np"
   ]
  },
  {
   "cell_type": "code",
   "execution_count": 14,
   "id": "142b7350",
   "metadata": {},
   "outputs": [
    {
     "name": "stdout",
     "output_type": "stream",
     "text": [
      "[3 4 5 6 7]\n",
      "<class 'numpy.ndarray'>\n"
     ]
    },
    {
     "data": {
      "text/plain": [
       "1"
      ]
     },
     "execution_count": 14,
     "metadata": {},
     "output_type": "execute_result"
    }
   ],
   "source": [
    "# 1D array\n",
    "\n",
    "array_1 = np.array([3, 4, 5, 6, 7])\n",
    "\n",
    "print(array_1)                        #This print the array\n",
    "print(type(array_1))                  #function to print type of array\n",
    "array_1.ndim                          #This output the dimension of the array\n"
   ]
  },
  {
   "cell_type": "code",
   "execution_count": 16,
   "id": "5e6b031e",
   "metadata": {},
   "outputs": [
    {
     "data": {
      "text/plain": [
       "5"
      ]
     },
     "execution_count": 16,
     "metadata": {},
     "output_type": "execute_result"
    }
   ],
   "source": [
    "array_1.size                          #This gives the numbers of element in the array"
   ]
  },
  {
   "cell_type": "code",
   "execution_count": 19,
   "id": "bdfc22d1",
   "metadata": {},
   "outputs": [
    {
     "data": {
      "text/plain": [
       "(5,)"
      ]
     },
     "execution_count": 19,
     "metadata": {},
     "output_type": "execute_result"
    }
   ],
   "source": [
    "array_1.shape                        #This give us the number of rows and shape of the array(rows, columns)\n",
    "                                     #but for this it only gives us the number of column as row "
   ]
  },
  {
   "cell_type": "code",
   "execution_count": 30,
   "id": "b1ef15f6",
   "metadata": {},
   "outputs": [
    {
     "data": {
      "text/plain": [
       "(3, 4, 5, 6, 7)"
      ]
     },
     "execution_count": 30,
     "metadata": {},
     "output_type": "execute_result"
    }
   ],
   "source": [
    "# 1d array needs 1 index to access each element.\n",
    "\n",
    "array_1[0], array_1[1], array_1[2], array_1[3], array_1[4]"
   ]
  },
  {
   "cell_type": "code",
   "execution_count": 44,
   "id": "aa737aa7",
   "metadata": {},
   "outputs": [
    {
     "name": "stdout",
     "output_type": "stream",
     "text": [
      "3 4 5 6 7\n"
     ]
    }
   ],
   "source": [
    "# The use of print \n",
    "\n",
    "print(array_1[0], array_1[1], array_1[2], array_1[3], array_1[4])"
   ]
  },
  {
   "cell_type": "code",
   "execution_count": 36,
   "id": "31624d2f",
   "metadata": {},
   "outputs": [
    {
     "data": {
      "text/plain": [
       "dtype('int32')"
      ]
     },
     "execution_count": 36,
     "metadata": {},
     "output_type": "execute_result"
    }
   ],
   "source": [
    "array_1.dtype                          #finding thw int type of an array\n"
   ]
  },
  {
   "cell_type": "code",
   "execution_count": 46,
   "id": "2ccbadfe",
   "metadata": {},
   "outputs": [
    {
     "name": "stdout",
     "output_type": "stream",
     "text": [
      "[20  4  5 -9  7]\n"
     ]
    }
   ],
   "source": [
    "#To change the values inside an array\n",
    "\n",
    "array_1[0] = 20\n",
    "array_1[-2] = -9\n",
    "\n",
    "print(array_1)"
   ]
  },
  {
   "cell_type": "code",
   "execution_count": 49,
   "id": "b7abe97d",
   "metadata": {},
   "outputs": [
    {
     "name": "stdout",
     "output_type": "stream",
     "text": [
      "[[1 4 5 8]\n",
      " [2 5 6 9]]\n"
     ]
    }
   ],
   "source": [
    "# 2D array\n",
    "\n",
    "array_2 = np.array([[1,4,5,8], [2,5,6,9]])\n",
    "\n",
    "print(array_2)"
   ]
  },
  {
   "cell_type": "code",
   "execution_count": 51,
   "id": "3f9ab4d5",
   "metadata": {},
   "outputs": [
    {
     "data": {
      "text/plain": [
       "array([[1, 4, 5, 8],\n",
       "       [2, 5, 6, 9]])"
      ]
     },
     "execution_count": 51,
     "metadata": {},
     "output_type": "execute_result"
    }
   ],
   "source": [
    "array_2 = np.array([[1,4,5,8], [2,5,6,9]])\n",
    "\n",
    "array_2                         #using output tyerminal"
   ]
  },
  {
   "cell_type": "code",
   "execution_count": 53,
   "id": "a82ea7e4",
   "metadata": {},
   "outputs": [
    {
     "data": {
      "text/plain": [
       "2"
      ]
     },
     "execution_count": 53,
     "metadata": {},
     "output_type": "execute_result"
    }
   ],
   "source": [
    "array_2.ndim"
   ]
  },
  {
   "cell_type": "code",
   "execution_count": 55,
   "id": "172f5e4d",
   "metadata": {},
   "outputs": [
    {
     "data": {
      "text/plain": [
       "8"
      ]
     },
     "execution_count": 55,
     "metadata": {},
     "output_type": "execute_result"
    }
   ],
   "source": [
    "array_2.size"
   ]
  },
  {
   "cell_type": "code",
   "execution_count": 57,
   "id": "fd1155ac",
   "metadata": {},
   "outputs": [
    {
     "data": {
      "text/plain": [
       "(2, 4)"
      ]
     },
     "execution_count": 57,
     "metadata": {},
     "output_type": "execute_result"
    }
   ],
   "source": [
    "array_2.shape "
   ]
  },
  {
   "cell_type": "code",
   "execution_count": 59,
   "id": "83319b71",
   "metadata": {},
   "outputs": [
    {
     "data": {
      "text/plain": [
       "dtype('int32')"
      ]
     },
     "execution_count": 59,
     "metadata": {},
     "output_type": "execute_result"
    }
   ],
   "source": [
    "array_2.dtype"
   ]
  },
  {
   "cell_type": "code",
   "execution_count": 63,
   "id": "fa92d339",
   "metadata": {},
   "outputs": [
    {
     "data": {
      "text/plain": [
       "array([[1, 4, 5, 8],\n",
       "       [2, 5, 6, 9]])"
      ]
     },
     "execution_count": 63,
     "metadata": {},
     "output_type": "execute_result"
    }
   ],
   "source": [
    "array_2"
   ]
  },
  {
   "cell_type": "code",
   "execution_count": 66,
   "id": "30030c55",
   "metadata": {},
   "outputs": [
    {
     "data": {
      "text/plain": [
       "9"
      ]
     },
     "execution_count": 66,
     "metadata": {},
     "output_type": "execute_result"
    }
   ],
   "source": [
    "#Accessing or retrieving 2D array\n",
    "array_2[1,3]                   #it is in the index of[row, column]             "
   ]
  },
  {
   "cell_type": "code",
   "execution_count": 68,
   "id": "474608ff",
   "metadata": {},
   "outputs": [
    {
     "name": "stdout",
     "output_type": "stream",
     "text": [
      "[[[ 1  4  8 12]\n",
      "  [ 2  5  9 13]\n",
      "  [ 3  6  9  7]\n",
      "  [ 4  7  8 10]]]\n"
     ]
    }
   ],
   "source": [
    "# 3D Array\n",
    "\n",
    "array_3 = np.array([[[1,4,8,12],[2,5,9,13],[3,6,9,7],[4,7,8,10]]])\n",
    "\n",
    "print(array_3)"
   ]
  },
  {
   "cell_type": "code",
   "execution_count": 70,
   "id": "d30f5bc0",
   "metadata": {},
   "outputs": [
    {
     "data": {
      "text/plain": [
       "numpy.ndarray"
      ]
     },
     "execution_count": 70,
     "metadata": {},
     "output_type": "execute_result"
    }
   ],
   "source": [
    "type(array_3)"
   ]
  },
  {
   "cell_type": "code",
   "execution_count": 73,
   "id": "2678f0f1",
   "metadata": {},
   "outputs": [
    {
     "name": "stdout",
     "output_type": "stream",
     "text": [
      "<class 'numpy.ndarray'>\n"
     ]
    }
   ],
   "source": [
    "print(type(array_3))"
   ]
  },
  {
   "cell_type": "code",
   "execution_count": 75,
   "id": "2eb083b7",
   "metadata": {},
   "outputs": [
    {
     "data": {
      "text/plain": [
       "16"
      ]
     },
     "execution_count": 75,
     "metadata": {},
     "output_type": "execute_result"
    }
   ],
   "source": [
    "array_3.size"
   ]
  },
  {
   "cell_type": "code",
   "execution_count": 77,
   "id": "ef6d75f0",
   "metadata": {},
   "outputs": [
    {
     "data": {
      "text/plain": [
       "3"
      ]
     },
     "execution_count": 77,
     "metadata": {},
     "output_type": "execute_result"
    }
   ],
   "source": [
    "array_3.ndim"
   ]
  },
  {
   "cell_type": "code",
   "execution_count": 79,
   "id": "54ffee95",
   "metadata": {},
   "outputs": [
    {
     "data": {
      "text/plain": [
       "(1, 4, 4)"
      ]
     },
     "execution_count": 79,
     "metadata": {},
     "output_type": "execute_result"
    }
   ],
   "source": [
    "array_3.shape"
   ]
  },
  {
   "cell_type": "code",
   "execution_count": 82,
   "id": "886908bc",
   "metadata": {},
   "outputs": [
    {
     "name": "stdout",
     "output_type": "stream",
     "text": [
      "[[[ 1  4  8 12]\n",
      "  [ 2  5  9 13]\n",
      "  [ 4  7  8 10]]]\n"
     ]
    }
   ],
   "source": [
    "# 3D Array samp;e\n",
    "\n",
    "b = np.array([[[1,4,8,12],[2,5,9,13],[4,7,8,10]]])\n",
    "\n",
    "print(b)"
   ]
  },
  {
   "cell_type": "code",
   "execution_count": 83,
   "id": "aba49d7e",
   "metadata": {},
   "outputs": [
    {
     "data": {
      "text/plain": [
       "(1, 3, 4)"
      ]
     },
     "execution_count": 83,
     "metadata": {},
     "output_type": "execute_result"
    }
   ],
   "source": [
    "b.shape"
   ]
  }
 ],
 "metadata": {
  "kernelspec": {
   "display_name": "Python 3 (ipykernel)",
   "language": "python",
   "name": "python3"
  },
  "language_info": {
   "codemirror_mode": {
    "name": "ipython",
    "version": 3
   },
   "file_extension": ".py",
   "mimetype": "text/x-python",
   "name": "python",
   "nbconvert_exporter": "python",
   "pygments_lexer": "ipython3",
   "version": "3.10.9"
  }
 },
 "nbformat": 4,
 "nbformat_minor": 5
}
