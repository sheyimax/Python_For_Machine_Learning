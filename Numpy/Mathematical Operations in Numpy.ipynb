{
 "cells": [
  {
   "cell_type": "code",
   "execution_count": 3,
   "id": "36d36d3f",
   "metadata": {},
   "outputs": [
    {
     "name": "stdout",
     "output_type": "stream",
     "text": [
      "[[1 2 3]\n",
      " [4 5 6]\n",
      " [7 8 9]]\n",
      "[[11 12 13]\n",
      " [14 15 16]\n",
      " [15 18 19]]\n"
     ]
    }
   ],
   "source": [
    "import numpy as np\n",
    "\n",
    "array_1 = np.array([[1,2,3],[4,5,6],[7,8,9]])\n",
    "array_2 = np.array([[11,12,13],[14,15,16],[15,18,19]])\n",
    "\n",
    "print(array_1)\n",
    "print(array_2)"
   ]
  },
  {
   "cell_type": "code",
   "execution_count": 9,
   "id": "b80d9d0f",
   "metadata": {},
   "outputs": [
    {
     "name": "stdout",
     "output_type": "stream",
     "text": [
      "[[1 2 3]\n",
      " [4 5 6]\n",
      " [7 8 9]]\n",
      "[[11 12 13]\n",
      " [14 15 16]\n",
      " [17 18 19]]\n"
     ]
    }
   ],
   "source": [
    "array_3 = np.arange(1,10).reshape(3,3)\n",
    "array_4 = np.arange(11,20).reshape(3,3)\n",
    "\n",
    "print(array_3)\n",
    "print(array_4)"
   ]
  },
  {
   "cell_type": "code",
   "execution_count": 13,
   "id": "2814469e",
   "metadata": {},
   "outputs": [
    {
     "name": "stdout",
     "output_type": "stream",
     "text": [
      "[[12 14 16]\n",
      " [18 20 22]\n",
      " [24 26 28]]\n",
      "[[12 14 16]\n",
      " [18 20 22]\n",
      " [24 26 28]]\n"
     ]
    }
   ],
   "source": [
    "# Addition of two matrices\n",
    "\n",
    "a = array_3 + array_4       #using the normal addition meetings\n",
    "b = np.add(array_3, array_4)\n",
    "\n",
    "print(a)\n",
    "print(b)"
   ]
  },
  {
   "cell_type": "code",
   "execution_count": 16,
   "id": "e140fc1e",
   "metadata": {},
   "outputs": [
    {
     "data": {
      "text/plain": [
       "45"
      ]
     },
     "execution_count": 16,
     "metadata": {},
     "output_type": "execute_result"
    }
   ],
   "source": [
    "# Sum function of a matrix\n",
    "\n",
    "np.sum(array_3)               #total number of the whole matrix"
   ]
  },
  {
   "cell_type": "code",
   "execution_count": 18,
   "id": "2f525c17",
   "metadata": {},
   "outputs": [
    {
     "data": {
      "text/plain": [
       "array([12, 15, 18])"
      ]
     },
     "execution_count": 18,
     "metadata": {},
     "output_type": "execute_result"
    }
   ],
   "source": [
    "np.sum(array_3, axis=0)      #the sum of each column to array"
   ]
  },
  {
   "cell_type": "code",
   "execution_count": 19,
   "id": "85579fdb",
   "metadata": {},
   "outputs": [
    {
     "data": {
      "text/plain": [
       "array([ 6, 15, 24])"
      ]
     },
     "execution_count": 19,
     "metadata": {},
     "output_type": "execute_result"
    }
   ],
   "source": [
    "np.sum(array_3, axis=1)      #the sum of each row to array"
   ]
  },
  {
   "cell_type": "code",
   "execution_count": 24,
   "id": "99aded77",
   "metadata": {},
   "outputs": [
    {
     "name": "stdout",
     "output_type": "stream",
     "text": [
      "[[-10 -10 -10]\n",
      " [-10 -10 -10]\n",
      " [-10 -10 -10]]\n",
      "[[-10 -10 -10]\n",
      " [-10 -10 -10]\n",
      " [-10 -10 -10]]\n"
     ]
    }
   ],
   "source": [
    "# To subtract two matrices\n",
    "\n",
    "c = array_3 - array_4\n",
    "d = np.subtract(array_3, array_4)\n",
    "\n",
    "print(c)\n",
    "print(d)"
   ]
  },
  {
   "cell_type": "code",
   "execution_count": 27,
   "id": "6f31b14b",
   "metadata": {},
   "outputs": [
    {
     "name": "stdout",
     "output_type": "stream",
     "text": [
      "[[0.09090909 0.16666667 0.23076923]\n",
      " [0.28571429 0.33333333 0.375     ]\n",
      " [0.41176471 0.44444444 0.47368421]]\n",
      "[[0.09090909 0.16666667 0.23076923]\n",
      " [0.28571429 0.33333333 0.375     ]\n",
      " [0.41176471 0.44444444 0.47368421]]\n"
     ]
    }
   ],
   "source": [
    "# Using division function\n",
    "\n",
    "e = array_3 / array_4\n",
    "f = np.divide(array_3,array_4)\n",
    "\n",
    "print(e)\n",
    "print(f)"
   ]
  },
  {
   "cell_type": "code",
   "execution_count": 30,
   "id": "d0bb33e7",
   "metadata": {},
   "outputs": [
    {
     "name": "stdout",
     "output_type": "stream",
     "text": [
      "5.0\n",
      "5.0\n"
     ]
    }
   ],
   "source": [
    "# Mean function of numpy\n",
    "\n",
    "g = array_3.mean()                        #using mean function\n",
    "h = np.mean(array_3)                      #using the numpy mean function\n",
    "\n",
    "print(g)\n",
    "print(h)"
   ]
  },
  {
   "cell_type": "code",
   "execution_count": 32,
   "id": "3aeab126",
   "metadata": {},
   "outputs": [
    {
     "data": {
      "text/plain": [
       "array([4., 5., 6.])"
      ]
     },
     "execution_count": 32,
     "metadata": {},
     "output_type": "execute_result"
    }
   ],
   "source": [
    "np.mean(array_3, axis=0)            #mean of the matrix column"
   ]
  },
  {
   "cell_type": "code",
   "execution_count": 34,
   "id": "53bd06f5",
   "metadata": {},
   "outputs": [
    {
     "data": {
      "text/plain": [
       "array([2., 5., 8.])"
      ]
     },
     "execution_count": 34,
     "metadata": {},
     "output_type": "execute_result"
    }
   ],
   "source": [
    "np.mean(array_3, axis=1)            # #mean of the matrix row"
   ]
  },
  {
   "cell_type": "code",
   "execution_count": 39,
   "id": "ca4b414d",
   "metadata": {},
   "outputs": [
    {
     "name": "stdout",
     "output_type": "stream",
     "text": [
      "5.0\n"
     ]
    }
   ],
   "source": [
    "# Using Median Numpy function\n",
    "\n",
    "i = np.median(array_3)\n",
    "\n",
    "print(i)\n",
    "\n",
    "#for the axis column and row follow the same pattern as that of the mean"
   ]
  },
  {
   "cell_type": "code",
   "execution_count": 41,
   "id": "f0c27e6c",
   "metadata": {},
   "outputs": [
    {
     "name": "stdout",
     "output_type": "stream",
     "text": [
      "[[ 11  24  39]\n",
      " [ 56  75  96]\n",
      " [119 144 171]]\n",
      "[[ 90  96 102]\n",
      " [216 231 246]\n",
      " [342 366 390]]\n",
      "[[ 90  96 102]\n",
      " [216 231 246]\n",
      " [342 366 390]]\n"
     ]
    }
   ],
   "source": [
    "# Multiplication of two matrices\n",
    "\n",
    "j = np.multiply(array_3, array_4)   #this is for multiplying the corresponding axis\n",
    "k = array_3 @ array_4               #using @ functiom\n",
    "l = array_3.dot(array_4)            #using the .dot multiplication\n",
    "\n",
    "print(j)\n",
    "print(k)\n",
    "print(l)"
   ]
  },
  {
   "cell_type": "code",
   "execution_count": 43,
   "id": "a1671ba6",
   "metadata": {},
   "outputs": [
    {
     "name": "stdout",
     "output_type": "stream",
     "text": [
      "[[  1   2   3   4   5   6   7   8   9  10]\n",
      " [ 11  12  13  14  15  16  17  18  19  20]\n",
      " [ 21  22  23  24  25  26  27  28  29  30]\n",
      " [ 31  32  33  34  35  36  37  38  39  40]\n",
      " [ 41  42  43  44  45  46  47  48  49  50]\n",
      " [ 51  52  53  54  55  56  57  58  59  60]\n",
      " [ 61  62  63  64  65  66  67  68  69  70]\n",
      " [ 71  72  73  74  75  76  77  78  79  80]\n",
      " [ 81  82  83  84  85  86  87  88  89  90]\n",
      " [ 91  92  93  94  95  96  97  98  99 100]]\n"
     ]
    }
   ],
   "source": [
    "# Finding the max, min using the numpy function\n",
    "\n",
    "array_5 = np.arange(1, 101).reshape(10,10)\n",
    "print(array_5)"
   ]
  },
  {
   "cell_type": "code",
   "execution_count": 51,
   "id": "785be0ca",
   "metadata": {},
   "outputs": [
    {
     "name": "stdout",
     "output_type": "stream",
     "text": [
      "1\n",
      "100\n",
      "0\n",
      "99\n",
      "[ 1  2  3  4  5  6  7  8  9 10]\n",
      "[ 10  20  30  40  50  60  70  80  90 100]\n"
     ]
    }
   ],
   "source": [
    "m = array_5.min()                        #min of the matrix\n",
    "n = array_5.max()                        #max of the matrix\n",
    "o = array_5.argmin()                     #index of the min matrix\n",
    "p = array_5.argmax()                     #index of the max matrix \n",
    "q = array_5.min(axis=0)                  #max of each column\n",
    "r = array_5.max(axis=1)                  #min of each column\n",
    "\n",
    "print(m)\n",
    "print(n)\n",
    "print(o)\n",
    "print(p)\n",
    "print(q)\n",
    "print(r)"
   ]
  },
  {
   "cell_type": "code",
   "execution_count": 54,
   "id": "ff08a05b",
   "metadata": {},
   "outputs": [
    {
     "name": "stdout",
     "output_type": "stream",
     "text": [
      "[[1 2 3]\n",
      " [4 5 6]\n",
      " [7 8 9]]\n",
      "[[1.         1.41421356 1.73205081]\n",
      " [2.         2.23606798 2.44948974]\n",
      " [2.64575131 2.82842712 3.        ]]\n",
      "2.581988897471611\n",
      "[[2.71828183e+00 7.38905610e+00 2.00855369e+01]\n",
      " [5.45981500e+01 1.48413159e+02 4.03428793e+02]\n",
      " [1.09663316e+03 2.98095799e+03 8.10308393e+03]]\n",
      "[[0.         0.69314718 1.09861229]\n",
      " [1.38629436 1.60943791 1.79175947]\n",
      " [1.94591015 2.07944154 2.19722458]]\n",
      "[[0.         0.30103    0.47712125]\n",
      " [0.60205999 0.69897    0.77815125]\n",
      " [0.84509804 0.90308999 0.95424251]]\n"
     ]
    }
   ],
   "source": [
    "# Square root, standard deviation , exponential, longrithmic function\n",
    "\n",
    "s = np.sqrt(array_3)                 #sqare root function\n",
    "t = np.std(array_3)                  #standard deviation function\n",
    "u = np.exp(array_3)                  #exponential function\n",
    "v = np.log(array_3)                  #longrithmic fuction\n",
    "w = np.log10(array_3)                #log into base 10 function\n",
    "\n",
    "print(array_3)\n",
    "print(s)\n",
    "print(t)\n",
    "print(u)\n",
    "print(v)\n",
    "print(w)"
   ]
  },
  {
   "cell_type": "code",
   "execution_count": null,
   "id": "2a2ce6a6",
   "metadata": {},
   "outputs": [],
   "source": []
  }
 ],
 "metadata": {
  "kernelspec": {
   "display_name": "Python 3 (ipykernel)",
   "language": "python",
   "name": "python3"
  },
  "language_info": {
   "codemirror_mode": {
    "name": "ipython",
    "version": 3
   },
   "file_extension": ".py",
   "mimetype": "text/x-python",
   "name": "python",
   "nbconvert_exporter": "python",
   "pygments_lexer": "ipython3",
   "version": "3.10.9"
  }
 },
 "nbformat": 4,
 "nbformat_minor": 5
}
