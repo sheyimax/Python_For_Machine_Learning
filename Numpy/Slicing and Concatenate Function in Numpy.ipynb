{
 "cells": [
  {
   "cell_type": "code",
   "execution_count": 5,
   "id": "33fbec4b",
   "metadata": {},
   "outputs": [
    {
     "name": "stdout",
     "output_type": "stream",
     "text": [
      "[[101 102 103 104 105 106 107 108 109 110]\n",
      " [111 112 113 114 115 116 117 118 119 120]\n",
      " [121 122 123 124 125 126 127 128 129 130]\n",
      " [131 132 133 134 135 136 137 138 139 140]\n",
      " [141 142 143 144 145 146 147 148 149 150]\n",
      " [151 152 153 154 155 156 157 158 159 160]\n",
      " [161 162 163 164 165 166 167 168 169 170]\n",
      " [171 172 173 174 175 176 177 178 179 180]\n",
      " [181 182 183 184 185 186 187 188 189 190]\n",
      " [191 192 193 194 195 196 197 198 199 200]]\n"
     ]
    }
   ],
   "source": [
    "import numpy as np\n",
    "\n",
    "array_1 = np.arange(101, 201).reshape(10, 10)\n",
    "\n",
    "print(array_1)"
   ]
  },
  {
   "cell_type": "code",
   "execution_count": 24,
   "id": "1aaaddf5",
   "metadata": {},
   "outputs": [
    {
     "name": "stdout",
     "output_type": "stream",
     "text": [
      "Array_1[0,0] is 101 with the dimensional matrix of 0\n",
      "Array_1[9,0] is 191 with the dimensional matrix of 0\n",
      "Array_1[9,9] is 200 with the dimensional matrix of 0\n"
     ]
    }
   ],
   "source": [
    "#using the index slicing with comma (',')\n",
    "\n",
    "a = array_1[0,0]\n",
    "b = array_1[9,0]\n",
    "c = array_1[9,9]\n",
    "\n",
    "#for the dimension number\n",
    "a1 = array_1[0,0].ndim\n",
    "b1 = array_1[9,4].ndim\n",
    "c1 = array_1[9,9].ndim\n",
    "\n",
    "print(f'Array_1[0,0] is {a} with the dimensional matrix of {a1}')\n",
    "print(f'Array_1[9,0] is {b} with the dimensional matrix of {b1}')\n",
    "print(f'Array_1[9,9] is {c} with the dimensional matrix of {c1}' )"
   ]
  },
  {
   "cell_type": "code",
   "execution_count": 32,
   "id": "e5e8ed8e",
   "metadata": {},
   "outputs": [
    {
     "name": "stdout",
     "output_type": "stream",
     "text": [
      "[101 102 103 104 105 106 107 108 109 110] dim:1\n",
      "[161 162 163 164 165 166 167 168 169 170] dim:1\n"
     ]
    }
   ],
   "source": [
    "# To get a single row\n",
    "\n",
    "e = array_1[0]\n",
    "f = array_1[6]\n",
    "\n",
    "#to get the dimensional of the single row(.ndim)\n",
    "e1 = array_1[0].ndim\n",
    "f1 = array_1[6].ndim\n",
    "\n",
    "print(f'{e} dim:{e1}')\n",
    "print(f'{f} dim:{f1}')"
   ]
  },
  {
   "cell_type": "code",
   "execution_count": 33,
   "id": "a7980064",
   "metadata": {},
   "outputs": [
    {
     "name": "stdout",
     "output_type": "stream",
     "text": [
      "[101 111 121 131 141 151 161 171 181 191]\n",
      "[107 117 127 137 147 157 167 177 187 197]\n"
     ]
    }
   ],
   "source": [
    "# To get a single column\n",
    "\n",
    "g = array_1[:,0]                  #this give the first column\n",
    "h = array_1[:,6]                  #this give the sixth column\n",
    "\n",
    "print(g)\n",
    "print(h)                          #this gives the answer in form of 1D"
   ]
  },
  {
   "cell_type": "code",
   "execution_count": 46,
   "id": "cd8db263",
   "metadata": {},
   "outputs": [
    {
     "name": "stdout",
     "output_type": "stream",
     "text": [
      "[[101]\n",
      " [111]\n",
      " [121]\n",
      " [131]\n",
      " [141]\n",
      " [151]\n",
      " [161]\n",
      " [171]\n",
      " [181]\n",
      " [191]]\n",
      "[[107]\n",
      " [117]\n",
      " [127]\n",
      " [137]\n",
      " [147]\n",
      " [157]\n",
      " [167]\n",
      " [177]\n",
      " [187]\n",
      " [197]]\n"
     ]
    }
   ],
   "source": [
    "# Convertion of the column array 1D into 2D\n",
    "\n",
    "g1 = array_1[:,0:1]             # slicing the column alone\n",
    "h1 = array_1[:,6:7]             #slicing the column alone\n",
    "\n",
    "print(g1)\n",
    "print(h1)"
   ]
  },
  {
   "cell_type": "code",
   "execution_count": 51,
   "id": "b1ab4b02",
   "metadata": {
    "scrolled": true
   },
   "outputs": [
    {
     "data": {
      "text/plain": [
       "array([[101, 102, 103, 104, 105, 106, 107, 108, 109, 110],\n",
       "       [111, 112, 113, 114, 115, 116, 117, 118, 119, 120],\n",
       "       [121, 122, 123, 124, 125, 126, 127, 128, 129, 130],\n",
       "       [131, 132, 133, 134, 135, 136, 137, 138, 139, 140],\n",
       "       [141, 142, 143, 144, 145, 146, 147, 148, 149, 150],\n",
       "       [151, 152, 153, 154, 155, 156, 157, 158, 159, 160],\n",
       "       [161, 162, 163, 164, 165, 166, 167, 168, 169, 170],\n",
       "       [171, 172, 173, 174, 175, 176, 177, 178, 179, 180],\n",
       "       [181, 182, 183, 184, 185, 186, 187, 188, 189, 190],\n",
       "       [191, 192, 193, 194, 195, 196, 197, 198, 199, 200]])"
      ]
     },
     "execution_count": 51,
     "metadata": {},
     "output_type": "execute_result"
    }
   ],
   "source": [
    "array_1"
   ]
  },
  {
   "cell_type": "code",
   "execution_count": 55,
   "id": "cd2280d6",
   "metadata": {},
   "outputs": [
    {
     "name": "stdout",
     "output_type": "stream",
     "text": [
      "[[121 122 123 124 125]\n",
      " [131 132 133 134 135]\n",
      " [141 142 143 144 145]]\n",
      "[[151 152 153 154 155 156 157 158 159 160]\n",
      " [161 162 163 164 165 166 167 168 169 170]\n",
      " [171 172 173 174 175 176 177 178 179 180]\n",
      " [181 182 183 184 185 186 187 188 189 190]]\n"
     ]
    }
   ],
   "source": [
    "# To get the slice of matrix\n",
    "\n",
    "i = array_1[2:5,0:5]              # slicing the rows and column\n",
    "j = array_1[5:9,:]                # slicing the row alone\n",
    "\n",
    "print(i)\n",
    "print(j)"
   ]
  },
  {
   "cell_type": "code",
   "execution_count": 61,
   "id": "de6194d1",
   "metadata": {},
   "outputs": [],
   "source": [
    "# To access whole matrix using different functions\n",
    "\n",
    "#array_1[:]\n",
    "#array_1[::]\n",
    "#array_1[:,:]\n",
    "#array_1[:,0:11]\n",
    "#array_1[0:11,:]"
   ]
  },
  {
   "cell_type": "code",
   "execution_count": null,
   "id": "e2f3159d",
   "metadata": {},
   "outputs": [],
   "source": []
  },
  {
   "cell_type": "code",
   "execution_count": 66,
   "id": "5fd740cd",
   "metadata": {},
   "outputs": [
    {
     "name": "stdout",
     "output_type": "stream",
     "text": [
      "[5, 6, 7, 8, 4, 3, 6, 5]\n"
     ]
    }
   ],
   "source": [
    "# Concatenate Function in Numpy\n",
    "\n",
    "#consider two list addition\n",
    "list_1 = [5,6,7,8]\n",
    "list_2 = [4,3,6,5]\n",
    "\n",
    "m = list_1 + list_2\n",
    "print(m)"
   ]
  },
  {
   "cell_type": "code",
   "execution_count": 73,
   "id": "68deab20",
   "metadata": {},
   "outputs": [
    {
     "name": "stdout",
     "output_type": "stream",
     "text": [
      "[[ 1  2  3  4  5]\n",
      " [ 6  7  8  9 10]\n",
      " [11 12 13 14 15]\n",
      " [16 17 18 19 20]\n",
      " [21 22 23 24 25]\n",
      " [26 27 28 29 30]\n",
      " [31 32 33 34 35]\n",
      " [36 37 38 39 40]]\n",
      "[[ 1  2  3  4  5 21 22 23 24 25]\n",
      " [ 6  7  8  9 10 26 27 28 29 30]\n",
      " [11 12 13 14 15 31 32 33 34 35]\n",
      " [16 17 18 19 20 36 37 38 39 40]]\n"
     ]
    }
   ],
   "source": [
    "#using the concatenate function of numpy\n",
    "\n",
    "array_3 = np.arange(1,21).reshape(4,5)\n",
    "array_4 = np.arange(21,41).reshape(4,5)\n",
    "\n",
    "#lets concatenate this array\n",
    "w = np.concatenate((array_3,array_4), axis=0)  #this concatenate in vertical(column)\n",
    "x = np.concatenate((array_3,array_4), axis=1)  #this concatenate to horizontal sides(row)\n",
    "\n",
    "print(w)\n",
    "print(x)"
   ]
  },
  {
   "cell_type": "code",
   "execution_count": 83,
   "id": "ac43ee78",
   "metadata": {},
   "outputs": [
    {
     "name": "stdout",
     "output_type": "stream",
     "text": [
      "[[ True  True  True  True  True]\n",
      " [ True  True  True  True  True]\n",
      " [ True  True  True  True  True]\n",
      " [ True  True  True  True  True]\n",
      " [ True  True  True  True  True]\n",
      " [ True  True  True  True  True]\n",
      " [ True  True  True  True  True]\n",
      " [ True  True  True  True  True]]\n",
      "[[ True  True  True  True  True  True  True  True  True  True]\n",
      " [ True  True  True  True  True  True  True  True  True  True]\n",
      " [ True  True  True  True  True  True  True  True  True  True]\n",
      " [ True  True  True  True  True  True  True  True  True  True]]\n"
     ]
    }
   ],
   "source": [
    "# using another method of function to concatenate the the array\n",
    "\n",
    "w1 = np.vstack((array_3,array_4))       #for column\n",
    "x1 = np.hstack((array_3,array_4))       #for row\n",
    "\n",
    "print(w==w1)\n",
    "print(x==x1)\n",
    "    "
   ]
  }
 ],
 "metadata": {
  "kernelspec": {
   "display_name": "Python 3 (ipykernel)",
   "language": "python",
   "name": "python3"
  },
  "language_info": {
   "codemirror_mode": {
    "name": "ipython",
    "version": 3
   },
   "file_extension": ".py",
   "mimetype": "text/x-python",
   "name": "python",
   "nbconvert_exporter": "python",
   "pygments_lexer": "ipython3",
   "version": "3.10.9"
  }
 },
 "nbformat": 4,
 "nbformat_minor": 5
}
