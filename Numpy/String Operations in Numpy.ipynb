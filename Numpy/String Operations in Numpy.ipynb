{
 "cells": [
  {
   "cell_type": "code",
   "execution_count": 4,
   "id": "2a2519bf",
   "metadata": {},
   "outputs": [],
   "source": [
    "import numpy as np"
   ]
  },
  {
   "cell_type": "code",
   "execution_count": 8,
   "id": "fd8eff53",
   "metadata": {},
   "outputs": [
    {
     "name": "stdout",
     "output_type": "stream",
     "text": [
      "What are you doing? I am jumping\n"
     ]
    }
   ],
   "source": [
    "string_1 = 'What are you doing?'\n",
    "string_2 = ' I am jumping'\n",
    "a = np.char.add(string_1, string_2)\n",
    "\n",
    "print(a)"
   ]
  },
  {
   "cell_type": "code",
   "execution_count": 16,
   "id": "13763cfc",
   "metadata": {},
   "outputs": [
    {
     "name": "stdout",
     "output_type": "stream",
     "text": [
      " MICHAEL ADESHINAWhat is your name?\n",
      "What is your name? MICHAEL ADESHINA\n"
     ]
    }
   ],
   "source": [
    "string_3 = 'What is your name?'\n",
    "string_4 = ' MICHAEL ADESHINA'\n",
    "b = np.char.add(string_4, string_3)\n",
    "c = np.char.add(string_3, string_4)\n",
    "\n",
    "print(b)\n",
    "print(c)"
   ]
  },
  {
   "cell_type": "code",
   "execution_count": 13,
   "id": "83137725",
   "metadata": {},
   "outputs": [
    {
     "name": "stdout",
     "output_type": "stream",
     "text": [
      " michael adeshina\n",
      "WHAT IS YOUR NAME?\n"
     ]
    }
   ],
   "source": [
    "# Uppercase and Lowercase\n",
    "\n",
    "d = np.char.lower(string_4)          #changes string_4 from uppercas to lowercase  \n",
    "e = np.char.upper(string_3)          #changes string_3 from lowercase to uppercase\n",
    "\n",
    "print(d)\n",
    "print(e)"
   ]
  },
  {
   "cell_type": "code",
   "execution_count": 26,
   "id": "55c035c5",
   "metadata": {},
   "outputs": [
    {
     "name": "stdout",
     "output_type": "stream",
     "text": [
      "                STRING OPERATIONS IN PYTHON                 \n",
      "****************STRING OPERATIONS IN PYTHON*****************\n",
      "----------------STRING OPERATIONS IN PYTHON-----------------\n"
     ]
    }
   ],
   "source": [
    "# How to center-align string\n",
    "\n",
    "string_5 = 'STRING OPERATIONS IN PYTHON'\n",
    "f = np.char.center(string_5, 60)\n",
    "g = np.char.center(string_5,60,fillchar='*')        #filling the spacing with astericks\n",
    "h = np.char.center(string_5,60,fillchar='-')        #filling the spacing with dash\n",
    "\n",
    "print(f)\n",
    "print(g)\n",
    "print(h)"
   ]
  },
  {
   "cell_type": "code",
   "execution_count": 28,
   "id": "8457fdd8",
   "metadata": {},
   "outputs": [
    {
     "name": "stdout",
     "output_type": "stream",
     "text": [
      "['What', 'are', 'you', 'doing?']\n",
      "['hi', 'can we meet', 'I am Sheyi']\n"
     ]
    }
   ],
   "source": [
    "#Split functions\n",
    "\n",
    "i = np.char.split(string_1)                                #this split sentences into words\n",
    "j = np.char.splitlines('hi\\ncan we meet\\nI am Sheyi')      #this splits lines\n",
    "\n",
    "print(i)\n",
    "print(j)"
   ]
  },
  {
   "cell_type": "code",
   "execution_count": 41,
   "id": "963ed3ba",
   "metadata": {},
   "outputs": [
    {
     "name": "stdout",
     "output_type": "stream",
     "text": [
      "['Y/M/D']\n",
      "Y/M/D\n",
      "['Y/M/D' 'D:M:Y']\n"
     ]
    }
   ],
   "source": [
    "# Join function\n",
    "\n",
    "k = 'YMD'\n",
    "l = 'DMY'\n",
    "m = np.char.join(['/'],[k])\n",
    "n = np.char.join('/', k)\n",
    "o = np.char.join(['/',':'],[k,l])   #adding two words with symbols together in one call\n",
    "\n",
    "print(m)\n",
    "print(n)\n",
    "print(o)"
   ]
  },
  {
   "cell_type": "code",
   "execution_count": 54,
   "id": "950823f3",
   "metadata": {},
   "outputs": [
    {
     "name": "stdout",
     "output_type": "stream",
     "text": [
      "STRING OPERATIONS IN PYTHON\n",
      "STRING OPERATIONS IN NUMPY\n",
      "STRING OPERATIONS IN jupyter\n"
     ]
    }
   ],
   "source": [
    "# Replace function\n",
    "print(string_5)\n",
    "p = np.char.replace(string_5,'PYTHON','NUMPY')\n",
    "q = np.char.replace(string_5, 'PYTHON', 'jupyter')\n",
    "\n",
    "print(p)\n",
    "print(q)"
   ]
  },
  {
   "cell_type": "code",
   "execution_count": 63,
   "id": "21432bef",
   "metadata": {},
   "outputs": [
    {
     "name": "stdout",
     "output_type": "stream",
     "text": [
      "is k=YMD and l=DMY equal: False\n",
      "is r=Michael and s=Michael equal: True\n"
     ]
    }
   ],
   "source": [
    "# Equal function\n",
    "r = 'Michaael'\n",
    "s = 'Michaael'\n",
    "t = np.char.equal(k,l)\n",
    "u = np.char.equal(r,s)\n",
    "\n",
    "print(f'is k=YMD and l=DMY equal: {t}')\n",
    "print(f'is r=Michaael and s=Michaael equal: {u}')"
   ]
  },
  {
   "cell_type": "code",
   "execution_count": 97,
   "id": "4ae5b8f6",
   "metadata": {},
   "outputs": [
    {
     "name": "stdout",
     "output_type": "stream",
     "text": [
      "M count:1 and a count:2\n",
      "The index number of a is: 4\n",
      "True\n",
      "True\n"
     ]
    }
   ],
   "source": [
    "# Other functions in string operation\n",
    "\n",
    "v = np.char.count(r,'M')      #This count the letter 'M'\n",
    "w = np.char.count(r, 'a')     #Note: this is case sensitive\n",
    "x = np.char.find(r, 'a')      #this gives the index number of the letter\n",
    "y = np.char.isalpha('M')      #this check if the letter is uppercase\n",
    "z = np.char.islower('a')        #This check if the letter is lowercase\n",
    "\n",
    "print(f'M count:{v} and a count:{w}')\n",
    "print(f'The index number of a is: {x}')\n",
    "print(y)\n",
    "print(z)"
   ]
  },
  {
   "cell_type": "code",
   "execution_count": null,
   "id": "c77f0c35",
   "metadata": {},
   "outputs": [],
   "source": []
  }
 ],
 "metadata": {
  "kernelspec": {
   "display_name": "Python 3 (ipykernel)",
   "language": "python",
   "name": "python3"
  },
  "language_info": {
   "codemirror_mode": {
    "name": "ipython",
    "version": 3
   },
   "file_extension": ".py",
   "mimetype": "text/x-python",
   "name": "python",
   "nbconvert_exporter": "python",
   "pygments_lexer": "ipython3",
   "version": "3.10.9"
  }
 },
 "nbformat": 4,
 "nbformat_minor": 5
}
