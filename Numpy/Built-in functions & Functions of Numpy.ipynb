{
 "cells": [
  {
   "cell_type": "code",
   "execution_count": 3,
   "id": "a7be7e26",
   "metadata": {},
   "outputs": [
    {
     "name": "stdout",
     "output_type": "stream",
     "text": [
      "[[7 7 7 7]\n",
      " [7 7 7 7]\n",
      " [7 7 7 7]]\n"
     ]
    }
   ],
   "source": [
    "# Full Function matrix\n",
    "\n",
    "import numpy as np\n",
    "\n",
    "full_mat = np.full((3,4),7)\n",
    "\n",
    "print(full_mat)"
   ]
  },
  {
   "cell_type": "code",
   "execution_count": 6,
   "id": "3afee676",
   "metadata": {},
   "outputs": [
    {
     "name": "stdout",
     "output_type": "stream",
     "text": [
      "[[6.3 6.3 6.3 6.3]\n",
      " [6.3 6.3 6.3 6.3]\n",
      " [6.3 6.3 6.3 6.3]\n",
      " [6.3 6.3 6.3 6.3]\n",
      " [6.3 6.3 6.3 6.3]\n",
      " [6.3 6.3 6.3 6.3]]\n"
     ]
    }
   ],
   "source": [
    "full_mat = np.full((6,4),6.3)\n",
    "\n",
    "print(full_mat)"
   ]
  },
  {
   "cell_type": "code",
   "execution_count": 10,
   "id": "16968e88",
   "metadata": {},
   "outputs": [
    {
     "name": "stdout",
     "output_type": "stream",
     "text": [
      "[[0. 0. 0.]\n",
      " [0. 0. 0.]\n",
      " [0. 0. 0.]\n",
      " [0. 0. 0.]]\n"
     ]
    }
   ],
   "source": [
    "# Zeros Function matrix\n",
    "\n",
    "zero_mat = np.zeros((4,3))\n",
    "\n",
    "print(zero_mat)"
   ]
  },
  {
   "cell_type": "code",
   "execution_count": 14,
   "id": "5f956d0b",
   "metadata": {},
   "outputs": [
    {
     "data": {
      "text/plain": [
       "dtype('float64')"
      ]
     },
     "execution_count": 14,
     "metadata": {},
     "output_type": "execute_result"
    }
   ],
   "source": [
    "zero_mat.dtype"
   ]
  },
  {
   "cell_type": "code",
   "execution_count": 16,
   "id": "644960b1",
   "metadata": {},
   "outputs": [
    {
     "name": "stdout",
     "output_type": "stream",
     "text": [
      "[[False False False]\n",
      " [False False False]\n",
      " [False False False]\n",
      " [False False False]]\n"
     ]
    }
   ],
   "source": [
    "# To convert the zero function mat from one variabe form to another\n",
    "\n",
    "zero_mat = np.zeros((4,3), dtype=bool)\n",
    "\n",
    "print(zero_mat)"
   ]
  },
  {
   "cell_type": "code",
   "execution_count": 21,
   "id": "6203eb08",
   "metadata": {},
   "outputs": [
    {
     "name": "stdout",
     "output_type": "stream",
     "text": [
      "[['' '' '']\n",
      " ['' '' '']\n",
      " ['' '' '']\n",
      " ['' '' '']]\n"
     ]
    }
   ],
   "source": [
    "zero_mat = np.zeros((4,3), dtype=str)\n",
    "\n",
    "print(zero_mat)"
   ]
  },
  {
   "cell_type": "code",
   "execution_count": 26,
   "id": "08d0a4a1",
   "metadata": {},
   "outputs": [
    {
     "name": "stdout",
     "output_type": "stream",
     "text": [
      "False\n"
     ]
    }
   ],
   "source": [
    "empt_str = ''\n",
    "\n",
    "print(bool(empt_str))"
   ]
  },
  {
   "cell_type": "code",
   "execution_count": 32,
   "id": "5e9647fd",
   "metadata": {},
   "outputs": [
    {
     "name": "stdout",
     "output_type": "stream",
     "text": [
      "[[1. 1. 1.]\n",
      " [1. 1. 1.]\n",
      " [1. 1. 1.]]\n"
     ]
    }
   ],
   "source": [
    "# Ones's function matrix\n",
    "\n",
    "ones_mat = np.ones((3,3))\n",
    "\n",
    "print(ones_mat)"
   ]
  },
  {
   "cell_type": "code",
   "execution_count": 33,
   "id": "f54405be",
   "metadata": {},
   "outputs": [
    {
     "data": {
      "text/plain": [
       "dtype('float64')"
      ]
     },
     "execution_count": 33,
     "metadata": {},
     "output_type": "execute_result"
    }
   ],
   "source": [
    "ones_mat.dtype"
   ]
  },
  {
   "cell_type": "code",
   "execution_count": 35,
   "id": "16b3bbe4",
   "metadata": {},
   "outputs": [
    {
     "name": "stdout",
     "output_type": "stream",
     "text": [
      "[[ True  True  True]\n",
      " [ True  True  True]\n",
      " [ True  True  True]]\n"
     ]
    }
   ],
   "source": [
    "ones_mat = np.ones((3,3), dtype=bool)          #converting to boolean form\n",
    "\n",
    "print(ones_mat)"
   ]
  },
  {
   "cell_type": "code",
   "execution_count": 38,
   "id": "9643ea3b",
   "metadata": {},
   "outputs": [
    {
     "name": "stdout",
     "output_type": "stream",
     "text": [
      "[['1' '1' '1']\n",
      " ['1' '1' '1']\n",
      " ['1' '1' '1']]\n"
     ]
    }
   ],
   "source": [
    "ones_mat = np.ones((3,3), dtype=str)\n",
    "\n",
    "print(ones_mat)"
   ]
  },
  {
   "cell_type": "code",
   "execution_count": 40,
   "id": "3d9fbbab",
   "metadata": {},
   "outputs": [
    {
     "name": "stdout",
     "output_type": "stream",
     "text": [
      "[[1 1 1]\n",
      " [1 1 1]\n",
      " [1 1 1]]\n"
     ]
    }
   ],
   "source": [
    "ones_matc = np.array([[1,1,1],[1,1,1],[1,1,1]])\n",
    "\n",
    "print(ones_matc)"
   ]
  },
  {
   "cell_type": "code",
   "execution_count": 42,
   "id": "0cd50754",
   "metadata": {},
   "outputs": [
    {
     "name": "stdout",
     "output_type": "stream",
     "text": [
      "[[1 1 1]\n",
      " [1 1 1]\n",
      " [1 1 1]]\n"
     ]
    }
   ],
   "source": [
    "ones_mat = np.ones((3,3), dtype=int)\n",
    "\n",
    "print(ones_mat)"
   ]
  },
  {
   "cell_type": "code",
   "execution_count": 48,
   "id": "c79fc5b1",
   "metadata": {},
   "outputs": [
    {
     "name": "stdout",
     "output_type": "stream",
     "text": [
      "[[1. 0. 0. 0.]\n",
      " [0. 1. 0. 0.]\n",
      " [0. 0. 1. 0.]\n",
      " [0. 0. 0. 1.]]\n"
     ]
    }
   ],
   "source": [
    "# Eye's function matrix\n",
    "\n",
    "eye_mat = np.eye(4,4)\n",
    "\n",
    "print(eye_mat)"
   ]
  },
  {
   "cell_type": "code",
   "execution_count": 147,
   "id": "3f4940a3",
   "metadata": {},
   "outputs": [
    {
     "name": "stdout",
     "output_type": "stream",
     "text": [
      "[[0.920535   0.38867577 0.0821332 ]\n",
      " [0.37372875 0.22683452 0.36072369]\n",
      " [0.99182401 0.86987603 0.72303218]\n",
      " [0.32370902 0.86065452 0.39788005]]\n"
     ]
    }
   ],
   "source": [
    "# Random function matrix\n",
    "\n",
    "random_mat = np.random.random((4,3))\n",
    "\n",
    "print(random_mat)"
   ]
  },
  {
   "cell_type": "code",
   "execution_count": 69,
   "id": "8452e417",
   "metadata": {},
   "outputs": [
    {
     "data": {
      "text/plain": [
       "array([[0.4016372 , 0.72047223, 0.67846441],\n",
       "       [0.42743742, 0.23505226, 0.221344  ],\n",
       "       [0.05781606, 0.68544365, 0.2281067 ],\n",
       "       [0.35500264, 0.05913621, 0.76794514]])"
      ]
     },
     "execution_count": 69,
     "metadata": {},
     "output_type": "execute_result"
    }
   ],
   "source": [
    "# Empty function matrix\n",
    "\n",
    "emp_mat1 = np.empty((4,3))\n",
    "\n",
    "emp_mat1"
   ]
  },
  {
   "cell_type": "code",
   "execution_count": null,
   "id": "5b2ca21b",
   "metadata": {},
   "outputs": [],
   "source": []
  },
  {
   "cell_type": "code",
   "execution_count": 72,
   "id": "9f88147e",
   "metadata": {},
   "outputs": [
    {
     "name": "stdout",
     "output_type": "stream",
     "text": [
      "[ 1  4  7 10 13 16 19]\n"
     ]
    }
   ],
   "source": [
    "# Functions of Numpy(Arrange function)\n",
    "\n",
    "a = np.arange(1, 21, 3)    #np.arange(start, end, step) can make a 1D array\n",
    "print(a)"
   ]
  },
  {
   "cell_type": "code",
   "execution_count": 75,
   "id": "9cde80eb",
   "metadata": {},
   "outputs": [
    {
     "name": "stdout",
     "output_type": "stream",
     "text": [
      "[ 1  2  3  4  5  6  7  8  9 10 11 12 13 14 15 16 17 18 19 20]\n"
     ]
    }
   ],
   "source": [
    "b = np.arange(1, 21)       #np.arange(start, end)\n",
    "print(b)"
   ]
  },
  {
   "cell_type": "code",
   "execution_count": 145,
   "id": "ef759c66",
   "metadata": {},
   "outputs": [
    {
     "name": "stdout",
     "output_type": "stream",
     "text": [
      "[ 1.   6.8 12.6 18.4 24.2 30. ]\n",
      "[  1.           3.02040816   5.04081633   7.06122449   9.08163265\n",
      "  11.10204082  13.12244898  15.14285714  17.16326531  19.18367347\n",
      "  21.20408163  23.2244898   25.24489796  27.26530612  29.28571429\n",
      "  31.30612245  33.32653061  35.34693878  37.36734694  39.3877551\n",
      "  41.40816327  43.42857143  45.44897959  47.46938776  49.48979592\n",
      "  51.51020408  53.53061224  55.55102041  57.57142857  59.59183673\n",
      "  61.6122449   63.63265306  65.65306122  67.67346939  69.69387755\n",
      "  71.71428571  73.73469388  75.75510204  77.7755102   79.79591837\n",
      "  81.81632653  83.83673469  85.85714286  87.87755102  89.89795918\n",
      "  91.91836735  93.93877551  95.95918367  97.97959184 100.        ]\n",
      "50\n"
     ]
    }
   ],
   "source": [
    "#Lin space function\n",
    "\n",
    "lin_sp = np.linspace(1, 30, 6)             #np.linspace(start, stop, range)\n",
    "x = np.linspace(1, 100)\n",
    "y = x.size\n",
    "print(lin_sp)\n",
    "print(x)\n",
    "print(y)"
   ]
  },
  {
   "cell_type": "code",
   "execution_count": 83,
   "id": "a45c2056",
   "metadata": {},
   "outputs": [
    {
     "data": {
      "text/plain": [
       "array([ 1,  2,  3,  4,  5,  6,  7,  8,  9, 10, 11, 12, 13, 14, 15, 16, 17,\n",
       "       18, 19, 20])"
      ]
     },
     "execution_count": 83,
     "metadata": {},
     "output_type": "execute_result"
    }
   ],
   "source": [
    "# Reshape function, conversts 1D arrauy into 2D\n",
    "\n",
    "array_1 = np.arange(1,21)\n",
    "\n",
    "array_1"
   ]
  },
  {
   "cell_type": "code",
   "execution_count": 86,
   "id": "a548bdf9",
   "metadata": {},
   "outputs": [
    {
     "name": "stdout",
     "output_type": "stream",
     "text": [
      "[[ 1  2  3  4]\n",
      " [ 5  6  7  8]\n",
      " [ 9 10 11 12]\n",
      " [13 14 15 16]\n",
      " [17 18 19 20]]\n"
     ]
    }
   ],
   "source": [
    "reshape_2D = array_1.reshape(5,4)    #2D array\n",
    "\n",
    "print(reshape_2D)"
   ]
  },
  {
   "cell_type": "code",
   "execution_count": 95,
   "id": "c2d940a0",
   "metadata": {},
   "outputs": [
    {
     "name": "stdout",
     "output_type": "stream",
     "text": [
      "[[[ 1  2  3  4]\n",
      "  [ 5  6  7  8]\n",
      "  [ 9 10 11 12]\n",
      "  [13 14 15 16]\n",
      "  [17 18 19 20]]]\n"
     ]
    }
   ],
   "source": [
    "reshape_3D = array_1.reshape(1, 5, 4)     #3D array\n",
    "\n",
    "print(reshape_3D)"
   ]
  },
  {
   "cell_type": "code",
   "execution_count": 109,
   "id": "6a743f4c",
   "metadata": {},
   "outputs": [
    {
     "name": "stdout",
     "output_type": "stream",
     "text": [
      "[[ 1  2  3  4  5  6]\n",
      " [ 7  8  9 10 11 12]\n",
      " [13 14 15 16 17 18]\n",
      " [19 20 21 22 23 24]\n",
      " [25 26 27 28 29 30]]\n",
      "[[[ 1  2  3  4  5]\n",
      "  [ 6  7  8  9 10]\n",
      "  [11 12 13 14 15]]\n",
      "\n",
      " [[16 17 18 19 20]\n",
      "  [21 22 23 24 25]\n",
      "  [26 27 28 29 30]]]\n"
     ]
    }
   ],
   "source": [
    "# Creatin 2D or 3D array using arange function\n",
    "\n",
    "x = np.arange(1,31).reshape(5,6)      #2D(row, column)\n",
    "y = np.arange(1,31).reshape(2,3,5)    #3D(section, row, column)\n",
    "\n",
    "print(x)\n",
    "print(y)"
   ]
  },
  {
   "cell_type": "code",
   "execution_count": 114,
   "id": "eabf942b",
   "metadata": {},
   "outputs": [
    {
     "data": {
      "text/plain": [
       "array([ 1,  2,  3,  4,  5,  6,  7,  8,  9, 10, 11, 12, 13, 14, 15, 16, 17,\n",
       "       18, 19, 20, 21, 22, 23, 24, 25, 26, 27, 28, 29, 30])"
      ]
     },
     "execution_count": 114,
     "metadata": {},
     "output_type": "execute_result"
    }
   ],
   "source": [
    "# Ravel function\n",
    "\n",
    "x.ravel()\n",
    "y.ravel()\n"
   ]
  },
  {
   "cell_type": "code",
   "execution_count": 119,
   "id": "92338436",
   "metadata": {},
   "outputs": [
    {
     "data": {
      "text/plain": [
       "array([ 1,  2,  3,  4,  5,  6,  7,  8,  9, 10, 11, 12, 13, 14, 15, 16, 17,\n",
       "       18, 19, 20, 21, 22, 23, 24, 25, 26, 27, 28, 29, 30])"
      ]
     },
     "execution_count": 119,
     "metadata": {},
     "output_type": "execute_result"
    }
   ],
   "source": [
    "# Flatten function\n",
    "\n",
    "y.flatten()\n"
   ]
  },
  {
   "cell_type": "code",
   "execution_count": 124,
   "id": "0d0c0770",
   "metadata": {},
   "outputs": [
    {
     "name": "stdout",
     "output_type": "stream",
     "text": [
      "[[1 2 3]\n",
      " [4 5 6]\n",
      " [7 8 9]]\n"
     ]
    },
    {
     "data": {
      "text/plain": [
       "array([[1, 4, 7],\n",
       "       [2, 5, 8],\n",
       "       [3, 6, 9]])"
      ]
     },
     "execution_count": 124,
     "metadata": {},
     "output_type": "execute_result"
    }
   ],
   "source": [
    "# Transpose function\n",
    "\n",
    "my_value = np.array([[1,2,3], [4,5,6], [7,8,9]])\n",
    "print(my_value)\n",
    "\n",
    "#using transpose function\n",
    "my_value.transpose()"
   ]
  }
 ],
 "metadata": {
  "kernelspec": {
   "display_name": "Python 3 (ipykernel)",
   "language": "python",
   "name": "python3"
  },
  "language_info": {
   "codemirror_mode": {
    "name": "ipython",
    "version": 3
   },
   "file_extension": ".py",
   "mimetype": "text/x-python",
   "name": "python",
   "nbconvert_exporter": "python",
   "pygments_lexer": "ipython3",
   "version": "3.10.9"
  }
 },
 "nbformat": 4,
 "nbformat_minor": 5
}
