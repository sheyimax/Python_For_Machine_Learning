{
 "cells": [
  {
   "cell_type": "code",
   "execution_count": 2,
   "id": "3636185d",
   "metadata": {},
   "outputs": [],
   "source": [
    "import sklearn\n",
    "from sklearn import datasets\n",
    "from sklearn.datasets import fetch_openml"
   ]
  },
  {
   "cell_type": "code",
   "execution_count": 4,
   "id": "83ea71df",
   "metadata": {},
   "outputs": [
    {
     "name": "stderr",
     "output_type": "stream",
     "text": [
      "C:\\ProgramData\\anaconda3\\lib\\site-packages\\sklearn\\datasets\\_openml.py:932: FutureWarning: The default value of `parser` will change from `'liac-arff'` to `'auto'` in 1.4. You can set `parser='auto'` to silence this warning. Therefore, an `ImportError` will be raised from 1.4 if the dataset is dense and pandas is not installed. Note that the pandas parser may return different data types. See the Notes Section in fetch_openml's API doc for details.\n",
      "  warn(\n"
     ]
    }
   ],
   "source": [
    "#Now lets load the dataset mice\n",
    "\n",
    "mice = fetch_openml(name='miceprotein',version=4)"
   ]
  },
  {
   "cell_type": "code",
   "execution_count": 6,
   "id": "d2a20db7",
   "metadata": {},
   "outputs": [
    {
     "data": {
      "text/plain": [
       "{'id': '40966',\n",
       " 'name': 'MiceProtein',\n",
       " 'version': '4',\n",
       " 'description_version': '1',\n",
       " 'format': 'ARFF',\n",
       " 'upload_date': '2017-11-08T16:00:15',\n",
       " 'licence': 'Public',\n",
       " 'url': 'https://api.openml.org/data/v1/download/17928620/MiceProtein.arff',\n",
       " 'parquet_url': 'http://openml1.win.tue.nl/dataset40966/dataset_40966.pq',\n",
       " 'file_id': '17928620',\n",
       " 'default_target_attribute': 'class',\n",
       " 'row_id_attribute': 'MouseID',\n",
       " 'ignore_attribute': ['Genotype', 'Treatment', 'Behavior'],\n",
       " 'tag': ['OpenML-CC18', 'study_135', 'study_98', 'study_99'],\n",
       " 'visibility': 'public',\n",
       " 'minio_url': 'http://openml1.win.tue.nl/dataset40966/dataset_40966.pq',\n",
       " 'status': 'active',\n",
       " 'processing_date': '2018-10-04 00:49:58',\n",
       " 'md5_checksum': '3c479a6885bfa0438971388283a1ce32'}"
      ]
     },
     "execution_count": 6,
     "metadata": {},
     "output_type": "execute_result"
    }
   ],
   "source": [
    "#To check the details of the dataset\n",
    "\n",
    "mice.details"
   ]
  },
  {
   "cell_type": "code",
   "execution_count": null,
   "id": "a496c70a",
   "metadata": {},
   "outputs": [],
   "source": []
  }
 ],
 "metadata": {
  "kernelspec": {
   "display_name": "Python 3 (ipykernel)",
   "language": "python",
   "name": "python3"
  },
  "language_info": {
   "codemirror_mode": {
    "name": "ipython",
    "version": 3
   },
   "file_extension": ".py",
   "mimetype": "text/x-python",
   "name": "python",
   "nbconvert_exporter": "python",
   "pygments_lexer": "ipython3",
   "version": "3.10.9"
  }
 },
 "nbformat": 4,
 "nbformat_minor": 5
}
