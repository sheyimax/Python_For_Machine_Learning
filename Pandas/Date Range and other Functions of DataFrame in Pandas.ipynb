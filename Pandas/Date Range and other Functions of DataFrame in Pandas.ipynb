{
 "cells": [
  {
   "cell_type": "code",
   "execution_count": 2,
   "id": "2775dfee",
   "metadata": {},
   "outputs": [],
   "source": [
    "import pandas as pd\n",
    "import numpy as np"
   ]
  },
  {
   "cell_type": "code",
   "execution_count": 3,
   "id": "f5b36d83",
   "metadata": {},
   "outputs": [
    {
     "name": "stdout",
     "output_type": "stream",
     "text": [
      "DatetimeIndex(['2023-12-31', '2024-12-31', '2025-12-31', '2026-12-31',\n",
      "               '2027-12-31', '2028-12-31', '2029-12-31', '2030-12-31',\n",
      "               '2031-12-31', '2032-12-31', '2033-12-31', '2034-12-31'],\n",
      "              dtype='datetime64[ns]', freq='A-DEC')\n"
     ]
    }
   ],
   "source": [
    "#Creating a range of date using pandas(generating a date)\n",
    "\n",
    "a = pd.date_range('20230727', periods=12, freq='Y')   #pd.date_range(date,periods,freq)\n",
    "print(a)"
   ]
  },
  {
   "cell_type": "code",
   "execution_count": 4,
   "id": "129d861e",
   "metadata": {},
   "outputs": [
    {
     "name": "stdout",
     "output_type": "stream",
     "text": [
      "                   A         B         C         D\n",
      "2023-12-31  0.257745  1.329116 -0.604536 -0.444419\n",
      "2024-12-31  0.301003  0.091395  0.486265 -0.387883\n",
      "2025-12-31 -0.804150 -0.653833 -0.087194  0.053014\n",
      "2026-12-31 -0.033653 -0.708977  0.976674  0.769223\n",
      "2027-12-31  0.092031  1.024583 -0.106667  0.379752\n",
      "2028-12-31 -1.740405  0.246261 -0.196473 -0.329534\n",
      "2029-12-31 -0.006534 -0.326683  0.946912  2.577222\n",
      "2030-12-31  1.292778  0.491238 -0.841472 -0.048381\n",
      "2031-12-31  0.589971 -0.456979 -0.122262  1.352779\n",
      "2032-12-31  1.424908  0.892540  0.361869  0.183101\n",
      "2033-12-31  0.187481  0.547269 -0.605285  1.657141\n",
      "2034-12-31  0.987986  1.979229  0.185269 -0.340764\n",
      "Index(['A', 'B', 'C', 'D'], dtype='object')\n"
     ]
    }
   ],
   "source": [
    "#Lets create a DataFrame and assigning date_range(a) to it\n",
    "\n",
    "b = np.random.randn(12, 4)\n",
    "\n",
    "df = pd.DataFrame(b, index=a, columns=['A','B','C','D'])   #You can also represent the columns as 'columns=list('ABCD')'    \n",
    "print(df)\n",
    "print(df.columns)"
   ]
  },
  {
   "cell_type": "code",
   "execution_count": 35,
   "id": "25c12242",
   "metadata": {},
   "outputs": [
    {
     "name": "stdout",
     "output_type": "stream",
     "text": [
      "<class 'pandas.core.frame.DataFrame'>\n",
      "DatetimeIndex: 12 entries, 2023-12-31 to 2034-12-31\n",
      "Freq: A-DEC\n",
      "Data columns (total 4 columns):\n",
      " #   Column  Non-Null Count  Dtype  \n",
      "---  ------  --------------  -----  \n",
      " 0   A       12 non-null     float64\n",
      " 1   B       12 non-null     float64\n",
      " 2   C       12 non-null     float64\n",
      " 3   D       12 non-null     float64\n",
      "dtypes: float64(4)\n",
      "memory usage: 480.0 bytes\n",
      "None\n",
      "                   A         B         C         D\n",
      "2023-12-31  0.899514  0.059491  1.328749 -2.411299\n",
      "2024-12-31  0.033029 -0.468038  0.014669 -0.353335\n",
      "2025-12-31  0.755364  0.793184  0.099807  1.155756\n",
      "2026-12-31 -1.224550 -0.460747 -1.465465 -0.551943\n"
     ]
    }
   ],
   "source": [
    "#To check the complete info of the DataFrame\n",
    "\n",
    "c = df.info()\n",
    "\n",
    "print(c)"
   ]
  },
  {
   "cell_type": "code",
   "execution_count": 40,
   "id": "7e7ade9e",
   "metadata": {},
   "outputs": [
    {
     "data": {
      "text/html": [
       "<div>\n",
       "<style scoped>\n",
       "    .dataframe tbody tr th:only-of-type {\n",
       "        vertical-align: middle;\n",
       "    }\n",
       "\n",
       "    .dataframe tbody tr th {\n",
       "        vertical-align: top;\n",
       "    }\n",
       "\n",
       "    .dataframe thead th {\n",
       "        text-align: right;\n",
       "    }\n",
       "</style>\n",
       "<table border=\"1\" class=\"dataframe\">\n",
       "  <thead>\n",
       "    <tr style=\"text-align: right;\">\n",
       "      <th></th>\n",
       "      <th>A</th>\n",
       "      <th>B</th>\n",
       "      <th>C</th>\n",
       "      <th>D</th>\n",
       "    </tr>\n",
       "  </thead>\n",
       "  <tbody>\n",
       "    <tr>\n",
       "      <th>2023-12-31</th>\n",
       "      <td>0.899514</td>\n",
       "      <td>0.059491</td>\n",
       "      <td>1.328749</td>\n",
       "      <td>-2.411299</td>\n",
       "    </tr>\n",
       "    <tr>\n",
       "      <th>2024-12-31</th>\n",
       "      <td>0.033029</td>\n",
       "      <td>-0.468038</td>\n",
       "      <td>0.014669</td>\n",
       "      <td>-0.353335</td>\n",
       "    </tr>\n",
       "    <tr>\n",
       "      <th>2025-12-31</th>\n",
       "      <td>0.755364</td>\n",
       "      <td>0.793184</td>\n",
       "      <td>0.099807</td>\n",
       "      <td>1.155756</td>\n",
       "    </tr>\n",
       "    <tr>\n",
       "      <th>2026-12-31</th>\n",
       "      <td>-1.224550</td>\n",
       "      <td>-0.460747</td>\n",
       "      <td>-1.465465</td>\n",
       "      <td>-0.551943</td>\n",
       "    </tr>\n",
       "  </tbody>\n",
       "</table>\n",
       "</div>"
      ],
      "text/plain": [
       "                   A         B         C         D\n",
       "2023-12-31  0.899514  0.059491  1.328749 -2.411299\n",
       "2024-12-31  0.033029 -0.468038  0.014669 -0.353335\n",
       "2025-12-31  0.755364  0.793184  0.099807  1.155756\n",
       "2026-12-31 -1.224550 -0.460747 -1.465465 -0.551943"
      ]
     },
     "execution_count": 40,
     "metadata": {},
     "output_type": "execute_result"
    }
   ],
   "source": [
    "#Using the .head(n) function, this called the index of the DataFrame from the top as the numbers you give 'n' \n",
    "\n",
    "df.head(4)                  #you can also used alternatives df.head(n=4)"
   ]
  },
  {
   "cell_type": "code",
   "execution_count": 49,
   "id": "6b7be6bf",
   "metadata": {},
   "outputs": [
    {
     "data": {
      "text/html": [
       "<div>\n",
       "<style scoped>\n",
       "    .dataframe tbody tr th:only-of-type {\n",
       "        vertical-align: middle;\n",
       "    }\n",
       "\n",
       "    .dataframe tbody tr th {\n",
       "        vertical-align: top;\n",
       "    }\n",
       "\n",
       "    .dataframe thead th {\n",
       "        text-align: right;\n",
       "    }\n",
       "</style>\n",
       "<table border=\"1\" class=\"dataframe\">\n",
       "  <thead>\n",
       "    <tr style=\"text-align: right;\">\n",
       "      <th></th>\n",
       "      <th>A</th>\n",
       "      <th>B</th>\n",
       "      <th>C</th>\n",
       "      <th>D</th>\n",
       "    </tr>\n",
       "  </thead>\n",
       "  <tbody>\n",
       "    <tr>\n",
       "      <th>2033-12-31</th>\n",
       "      <td>-0.797800</td>\n",
       "      <td>0.413675</td>\n",
       "      <td>-0.580502</td>\n",
       "      <td>0.192171</td>\n",
       "    </tr>\n",
       "    <tr>\n",
       "      <th>2034-12-31</th>\n",
       "      <td>-0.576513</td>\n",
       "      <td>-0.062757</td>\n",
       "      <td>0.458807</td>\n",
       "      <td>0.420366</td>\n",
       "    </tr>\n",
       "  </tbody>\n",
       "</table>\n",
       "</div>"
      ],
      "text/plain": [
       "                   A         B         C         D\n",
       "2033-12-31 -0.797800  0.413675 -0.580502  0.192171\n",
       "2034-12-31 -0.576513 -0.062757  0.458807  0.420366"
      ]
     },
     "execution_count": 49,
     "metadata": {},
     "output_type": "execute_result"
    }
   ],
   "source": [
    "#Using the .tail(n) function, this called the index of the DataFrame from the bottom as the numbers you give 'n'\n",
    "\n",
    "df.tail(2)"
   ]
  },
  {
   "cell_type": "code",
   "execution_count": 51,
   "id": "a14bfebd",
   "metadata": {},
   "outputs": [
    {
     "data": {
      "text/html": [
       "<div>\n",
       "<style scoped>\n",
       "    .dataframe tbody tr th:only-of-type {\n",
       "        vertical-align: middle;\n",
       "    }\n",
       "\n",
       "    .dataframe tbody tr th {\n",
       "        vertical-align: top;\n",
       "    }\n",
       "\n",
       "    .dataframe thead th {\n",
       "        text-align: right;\n",
       "    }\n",
       "</style>\n",
       "<table border=\"1\" class=\"dataframe\">\n",
       "  <thead>\n",
       "    <tr style=\"text-align: right;\">\n",
       "      <th></th>\n",
       "      <th>A</th>\n",
       "      <th>B</th>\n",
       "      <th>C</th>\n",
       "      <th>D</th>\n",
       "    </tr>\n",
       "  </thead>\n",
       "  <tbody>\n",
       "    <tr>\n",
       "      <th>2023-12-31</th>\n",
       "      <td>False</td>\n",
       "      <td>False</td>\n",
       "      <td>False</td>\n",
       "      <td>False</td>\n",
       "    </tr>\n",
       "    <tr>\n",
       "      <th>2024-12-31</th>\n",
       "      <td>False</td>\n",
       "      <td>False</td>\n",
       "      <td>False</td>\n",
       "      <td>False</td>\n",
       "    </tr>\n",
       "    <tr>\n",
       "      <th>2025-12-31</th>\n",
       "      <td>False</td>\n",
       "      <td>False</td>\n",
       "      <td>False</td>\n",
       "      <td>False</td>\n",
       "    </tr>\n",
       "    <tr>\n",
       "      <th>2026-12-31</th>\n",
       "      <td>False</td>\n",
       "      <td>False</td>\n",
       "      <td>False</td>\n",
       "      <td>False</td>\n",
       "    </tr>\n",
       "    <tr>\n",
       "      <th>2027-12-31</th>\n",
       "      <td>False</td>\n",
       "      <td>False</td>\n",
       "      <td>False</td>\n",
       "      <td>False</td>\n",
       "    </tr>\n",
       "    <tr>\n",
       "      <th>2028-12-31</th>\n",
       "      <td>False</td>\n",
       "      <td>False</td>\n",
       "      <td>False</td>\n",
       "      <td>False</td>\n",
       "    </tr>\n",
       "    <tr>\n",
       "      <th>2029-12-31</th>\n",
       "      <td>False</td>\n",
       "      <td>False</td>\n",
       "      <td>False</td>\n",
       "      <td>False</td>\n",
       "    </tr>\n",
       "    <tr>\n",
       "      <th>2030-12-31</th>\n",
       "      <td>False</td>\n",
       "      <td>False</td>\n",
       "      <td>False</td>\n",
       "      <td>False</td>\n",
       "    </tr>\n",
       "    <tr>\n",
       "      <th>2031-12-31</th>\n",
       "      <td>False</td>\n",
       "      <td>False</td>\n",
       "      <td>False</td>\n",
       "      <td>False</td>\n",
       "    </tr>\n",
       "    <tr>\n",
       "      <th>2032-12-31</th>\n",
       "      <td>False</td>\n",
       "      <td>False</td>\n",
       "      <td>False</td>\n",
       "      <td>False</td>\n",
       "    </tr>\n",
       "    <tr>\n",
       "      <th>2033-12-31</th>\n",
       "      <td>False</td>\n",
       "      <td>False</td>\n",
       "      <td>False</td>\n",
       "      <td>False</td>\n",
       "    </tr>\n",
       "    <tr>\n",
       "      <th>2034-12-31</th>\n",
       "      <td>False</td>\n",
       "      <td>False</td>\n",
       "      <td>False</td>\n",
       "      <td>False</td>\n",
       "    </tr>\n",
       "  </tbody>\n",
       "</table>\n",
       "</div>"
      ],
      "text/plain": [
       "                A      B      C      D\n",
       "2023-12-31  False  False  False  False\n",
       "2024-12-31  False  False  False  False\n",
       "2025-12-31  False  False  False  False\n",
       "2026-12-31  False  False  False  False\n",
       "2027-12-31  False  False  False  False\n",
       "2028-12-31  False  False  False  False\n",
       "2029-12-31  False  False  False  False\n",
       "2030-12-31  False  False  False  False\n",
       "2031-12-31  False  False  False  False\n",
       "2032-12-31  False  False  False  False\n",
       "2033-12-31  False  False  False  False\n",
       "2034-12-31  False  False  False  False"
      ]
     },
     "execution_count": 51,
     "metadata": {},
     "output_type": "execute_result"
    }
   ],
   "source": [
    "#Using the .isnull() to find if there is a missing value\n",
    "\n",
    "df.isnull()"
   ]
  },
  {
   "cell_type": "code",
   "execution_count": 53,
   "id": "6b73690f",
   "metadata": {},
   "outputs": [
    {
     "data": {
      "text/plain": [
       "A    0\n",
       "B    0\n",
       "C    0\n",
       "D    0\n",
       "dtype: int64"
      ]
     },
     "execution_count": 53,
     "metadata": {},
     "output_type": "execute_result"
    }
   ],
   "source": [
    "#To know the sum of the missing value using the .isnull().sum function\n",
    "\n",
    "df.isnull().sum()"
   ]
  },
  {
   "cell_type": "code",
   "execution_count": 70,
   "id": "83e81531",
   "metadata": {},
   "outputs": [
    {
     "name": "stdout",
     "output_type": "stream",
     "text": [
      "   Age  Frequency\n",
      "1   18         22\n",
      "2   24         13\n",
      "3   28          6\n",
      "4   34         20\n",
      "5   36          8\n",
      "6   40         19\n",
      "7   45          9\n",
      "8   50          2\n"
     ]
    }
   ],
   "source": [
    "e = [[18,22],[24,13],[28,6],[34,20],[36,8],[40,19],[45,9],[50,2]]\n",
    "\n",
    "f= pd.DataFrame(a, index=[1,2,3,4,5,6,7,8], columns=['Age','Frequency'])\n",
    "\n",
    "print(f)"
   ]
  },
  {
   "cell_type": "code",
   "execution_count": 79,
   "id": "bbb9d23c",
   "metadata": {},
   "outputs": [
    {
     "data": {
      "text/html": [
       "<div>\n",
       "<style scoped>\n",
       "    .dataframe tbody tr th:only-of-type {\n",
       "        vertical-align: middle;\n",
       "    }\n",
       "\n",
       "    .dataframe tbody tr th {\n",
       "        vertical-align: top;\n",
       "    }\n",
       "\n",
       "    .dataframe thead th {\n",
       "        text-align: right;\n",
       "    }\n",
       "</style>\n",
       "<table border=\"1\" class=\"dataframe\">\n",
       "  <thead>\n",
       "    <tr style=\"text-align: right;\">\n",
       "      <th></th>\n",
       "      <th>A</th>\n",
       "      <th>B</th>\n",
       "      <th>C</th>\n",
       "      <th>D</th>\n",
       "    </tr>\n",
       "  </thead>\n",
       "  <tbody>\n",
       "    <tr>\n",
       "      <th>2023-12-31</th>\n",
       "      <td>0.033353</td>\n",
       "      <td>0.815906</td>\n",
       "      <td>0.664968</td>\n",
       "      <td>-0.438662</td>\n",
       "    </tr>\n",
       "    <tr>\n",
       "      <th>2024-12-31</th>\n",
       "      <td>-0.737716</td>\n",
       "      <td>-0.537503</td>\n",
       "      <td>-1.117012</td>\n",
       "      <td>-0.296334</td>\n",
       "    </tr>\n",
       "    <tr>\n",
       "      <th>2025-12-31</th>\n",
       "      <td>0.736537</td>\n",
       "      <td>1.867591</td>\n",
       "      <td>-1.532890</td>\n",
       "      <td>-1.076876</td>\n",
       "    </tr>\n",
       "    <tr>\n",
       "      <th>2026-12-31</th>\n",
       "      <td>0.690551</td>\n",
       "      <td>-0.894351</td>\n",
       "      <td>-0.748408</td>\n",
       "      <td>2.512325</td>\n",
       "    </tr>\n",
       "    <tr>\n",
       "      <th>2027-12-31</th>\n",
       "      <td>0.234131</td>\n",
       "      <td>-0.326795</td>\n",
       "      <td>-0.051751</td>\n",
       "      <td>-0.621760</td>\n",
       "    </tr>\n",
       "    <tr>\n",
       "      <th>2028-12-31</th>\n",
       "      <td>1.134142</td>\n",
       "      <td>0.274306</td>\n",
       "      <td>-1.185760</td>\n",
       "      <td>0.070079</td>\n",
       "    </tr>\n",
       "    <tr>\n",
       "      <th>2029-12-31</th>\n",
       "      <td>0.445750</td>\n",
       "      <td>1.119629</td>\n",
       "      <td>-0.875631</td>\n",
       "      <td>0.481102</td>\n",
       "    </tr>\n",
       "    <tr>\n",
       "      <th>2030-12-31</th>\n",
       "      <td>0.719060</td>\n",
       "      <td>-1.541393</td>\n",
       "      <td>-1.323994</td>\n",
       "      <td>0.305910</td>\n",
       "    </tr>\n",
       "    <tr>\n",
       "      <th>2031-12-31</th>\n",
       "      <td>0.633697</td>\n",
       "      <td>2.158151</td>\n",
       "      <td>-0.064939</td>\n",
       "      <td>-0.314850</td>\n",
       "    </tr>\n",
       "    <tr>\n",
       "      <th>2032-12-31</th>\n",
       "      <td>-1.584877</td>\n",
       "      <td>1.187791</td>\n",
       "      <td>-1.707832</td>\n",
       "      <td>-0.190275</td>\n",
       "    </tr>\n",
       "    <tr>\n",
       "      <th>2033-12-31</th>\n",
       "      <td>1.500563</td>\n",
       "      <td>0.008222</td>\n",
       "      <td>0.076935</td>\n",
       "      <td>-0.291424</td>\n",
       "    </tr>\n",
       "    <tr>\n",
       "      <th>2034-12-31</th>\n",
       "      <td>0.390573</td>\n",
       "      <td>0.000161</td>\n",
       "      <td>-1.646765</td>\n",
       "      <td>0.821343</td>\n",
       "    </tr>\n",
       "  </tbody>\n",
       "</table>\n",
       "</div>"
      ],
      "text/plain": [
       "                   A         B         C         D\n",
       "2023-12-31  0.033353  0.815906  0.664968 -0.438662\n",
       "2024-12-31 -0.737716 -0.537503 -1.117012 -0.296334\n",
       "2025-12-31  0.736537  1.867591 -1.532890 -1.076876\n",
       "2026-12-31  0.690551 -0.894351 -0.748408  2.512325\n",
       "2027-12-31  0.234131 -0.326795 -0.051751 -0.621760\n",
       "2028-12-31  1.134142  0.274306 -1.185760  0.070079\n",
       "2029-12-31  0.445750  1.119629 -0.875631  0.481102\n",
       "2030-12-31  0.719060 -1.541393 -1.323994  0.305910\n",
       "2031-12-31  0.633697  2.158151 -0.064939 -0.314850\n",
       "2032-12-31 -1.584877  1.187791 -1.707832 -0.190275\n",
       "2033-12-31  1.500563  0.008222  0.076935 -0.291424\n",
       "2034-12-31  0.390573  0.000161 -1.646765  0.821343"
      ]
     },
     "execution_count": 79,
     "metadata": {},
     "output_type": "execute_result"
    }
   ],
   "source": [
    "#Using the .dropna() function to fill in missing value(s)\n",
    "\n",
    "df.dropna(axis=1)"
   ]
  },
  {
   "cell_type": "code",
   "execution_count": 87,
   "id": "17154708",
   "metadata": {},
   "outputs": [
    {
     "data": {
      "text/plain": [
       "-2.477999    1\n",
       "-0.934212    1\n",
       " 0.893462    1\n",
       " 0.434573    1\n",
       " 0.494885    1\n",
       " 0.318059    1\n",
       "-1.647709    1\n",
       "-0.182303    1\n",
       "-0.434271    1\n",
       "-0.331855    1\n",
       "-1.072986    1\n",
       " 0.594096    1\n",
       "Name: A, dtype: int64"
      ]
     },
     "execution_count": 87,
     "metadata": {},
     "output_type": "execute_result"
    }
   ],
   "source": [
    "#counting the value of a column head using .value_counts() function\n",
    "\n",
    "df['A'].value_counts()"
   ]
  },
  {
   "cell_type": "code",
   "execution_count": 89,
   "id": "0453f54a",
   "metadata": {},
   "outputs": [
    {
     "data": {
      "text/html": [
       "<div>\n",
       "<style scoped>\n",
       "    .dataframe tbody tr th:only-of-type {\n",
       "        vertical-align: middle;\n",
       "    }\n",
       "\n",
       "    .dataframe tbody tr th {\n",
       "        vertical-align: top;\n",
       "    }\n",
       "\n",
       "    .dataframe thead th {\n",
       "        text-align: right;\n",
       "    }\n",
       "</style>\n",
       "<table border=\"1\" class=\"dataframe\">\n",
       "  <thead>\n",
       "    <tr style=\"text-align: right;\">\n",
       "      <th></th>\n",
       "      <th>A</th>\n",
       "      <th>B</th>\n",
       "      <th>C</th>\n",
       "      <th>D</th>\n",
       "    </tr>\n",
       "  </thead>\n",
       "  <tbody>\n",
       "    <tr>\n",
       "      <th>A</th>\n",
       "      <td>1.000000</td>\n",
       "      <td>-0.423710</td>\n",
       "      <td>0.418661</td>\n",
       "      <td>-0.555601</td>\n",
       "    </tr>\n",
       "    <tr>\n",
       "      <th>B</th>\n",
       "      <td>-0.423710</td>\n",
       "      <td>1.000000</td>\n",
       "      <td>-0.475088</td>\n",
       "      <td>0.719954</td>\n",
       "    </tr>\n",
       "    <tr>\n",
       "      <th>C</th>\n",
       "      <td>0.418661</td>\n",
       "      <td>-0.475088</td>\n",
       "      <td>1.000000</td>\n",
       "      <td>-0.283376</td>\n",
       "    </tr>\n",
       "    <tr>\n",
       "      <th>D</th>\n",
       "      <td>-0.555601</td>\n",
       "      <td>0.719954</td>\n",
       "      <td>-0.283376</td>\n",
       "      <td>1.000000</td>\n",
       "    </tr>\n",
       "  </tbody>\n",
       "</table>\n",
       "</div>"
      ],
      "text/plain": [
       "          A         B         C         D\n",
       "A  1.000000 -0.423710  0.418661 -0.555601\n",
       "B -0.423710  1.000000 -0.475088  0.719954\n",
       "C  0.418661 -0.475088  1.000000 -0.283376\n",
       "D -0.555601  0.719954 -0.283376  1.000000"
      ]
     },
     "execution_count": 89,
     "metadata": {},
     "output_type": "execute_result"
    }
   ],
   "source": [
    "#using the correlation method\n",
    "\n",
    "df.corr()"
   ]
  },
  {
   "cell_type": "code",
   "execution_count": 91,
   "id": "69460752",
   "metadata": {},
   "outputs": [
    {
     "name": "stdout",
     "output_type": "stream",
     "text": [
      "                   A         B         C         D\n",
      "2023-12-31 -2.477999  1.027695  0.655405  1.590708\n",
      "2024-12-31 -0.934212  0.063595 -0.868371  0.811361\n",
      "2025-12-31  0.893462 -0.046961  0.328703 -0.214531\n",
      "2026-12-31  0.434573  0.577112  0.560039  0.964605\n",
      "2027-12-31  0.494885 -0.229926  0.762877 -1.272246\n",
      "2028-12-31  0.318059 -0.596559  1.476020  0.083618\n",
      "2029-12-31 -1.647709  0.232969 -2.070209  0.778344\n",
      "2030-12-31 -0.182303  0.188759  0.551846  0.792982\n",
      "2031-12-31 -0.434271 -1.330972  2.386825 -0.574254\n",
      "2032-12-31 -0.331855  0.078491 -0.151813  0.941115\n",
      "2033-12-31 -1.072986 -0.079874 -1.227924 -0.442247\n",
      "2034-12-31  0.594096 -0.238940  0.530269 -0.413171\n"
     ]
    }
   ],
   "source": [
    "#Using the describe function .decribe()\n",
    "\n",
    "print(df)"
   ]
  },
  {
   "cell_type": "code",
   "execution_count": 93,
   "id": "08e5b5be",
   "metadata": {},
   "outputs": [
    {
     "data": {
      "text/html": [
       "<div>\n",
       "<style scoped>\n",
       "    .dataframe tbody tr th:only-of-type {\n",
       "        vertical-align: middle;\n",
       "    }\n",
       "\n",
       "    .dataframe tbody tr th {\n",
       "        vertical-align: top;\n",
       "    }\n",
       "\n",
       "    .dataframe thead th {\n",
       "        text-align: right;\n",
       "    }\n",
       "</style>\n",
       "<table border=\"1\" class=\"dataframe\">\n",
       "  <thead>\n",
       "    <tr style=\"text-align: right;\">\n",
       "      <th></th>\n",
       "      <th>A</th>\n",
       "      <th>B</th>\n",
       "      <th>C</th>\n",
       "      <th>D</th>\n",
       "    </tr>\n",
       "  </thead>\n",
       "  <tbody>\n",
       "    <tr>\n",
       "      <th>count</th>\n",
       "      <td>12.000000</td>\n",
       "      <td>12.000000</td>\n",
       "      <td>12.000000</td>\n",
       "      <td>12.000000</td>\n",
       "    </tr>\n",
       "    <tr>\n",
       "      <th>mean</th>\n",
       "      <td>-0.362188</td>\n",
       "      <td>-0.029551</td>\n",
       "      <td>0.244472</td>\n",
       "      <td>0.253857</td>\n",
       "    </tr>\n",
       "    <tr>\n",
       "      <th>std</th>\n",
       "      <td>1.014594</td>\n",
       "      <td>0.581906</td>\n",
       "      <td>1.196510</td>\n",
       "      <td>0.843899</td>\n",
       "    </tr>\n",
       "    <tr>\n",
       "      <th>min</th>\n",
       "      <td>-2.477999</td>\n",
       "      <td>-1.330972</td>\n",
       "      <td>-2.070209</td>\n",
       "      <td>-1.272246</td>\n",
       "    </tr>\n",
       "    <tr>\n",
       "      <th>25%</th>\n",
       "      <td>-0.968905</td>\n",
       "      <td>-0.232179</td>\n",
       "      <td>-0.330952</td>\n",
       "      <td>-0.420440</td>\n",
       "    </tr>\n",
       "    <tr>\n",
       "      <th>50%</th>\n",
       "      <td>-0.257079</td>\n",
       "      <td>0.008317</td>\n",
       "      <td>0.541057</td>\n",
       "      <td>0.430981</td>\n",
       "    </tr>\n",
       "    <tr>\n",
       "      <th>75%</th>\n",
       "      <td>0.449651</td>\n",
       "      <td>0.199811</td>\n",
       "      <td>0.682273</td>\n",
       "      <td>0.843800</td>\n",
       "    </tr>\n",
       "    <tr>\n",
       "      <th>max</th>\n",
       "      <td>0.893462</td>\n",
       "      <td>1.027695</td>\n",
       "      <td>2.386825</td>\n",
       "      <td>1.590708</td>\n",
       "    </tr>\n",
       "  </tbody>\n",
       "</table>\n",
       "</div>"
      ],
      "text/plain": [
       "               A          B          C          D\n",
       "count  12.000000  12.000000  12.000000  12.000000\n",
       "mean   -0.362188  -0.029551   0.244472   0.253857\n",
       "std     1.014594   0.581906   1.196510   0.843899\n",
       "min    -2.477999  -1.330972  -2.070209  -1.272246\n",
       "25%    -0.968905  -0.232179  -0.330952  -0.420440\n",
       "50%    -0.257079   0.008317   0.541057   0.430981\n",
       "75%     0.449651   0.199811   0.682273   0.843800\n",
       "max     0.893462   1.027695   2.386825   1.590708"
      ]
     },
     "execution_count": 93,
     "metadata": {},
     "output_type": "execute_result"
    }
   ],
   "source": [
    "df.describe()                 #this sumarizes all numerical data"
   ]
  },
  {
   "cell_type": "code",
   "execution_count": 97,
   "id": "c6bb0b80",
   "metadata": {},
   "outputs": [
    {
     "ename": "AttributeError",
     "evalue": "'DataFrame' object has no attribute 'decribe'",
     "output_type": "error",
     "traceback": [
      "\u001b[1;31m---------------------------------------------------------------------------\u001b[0m",
      "\u001b[1;31mAttributeError\u001b[0m                            Traceback (most recent call last)",
      "Cell \u001b[1;32mIn[97], line 1\u001b[0m\n\u001b[1;32m----> 1\u001b[0m \u001b[43mdf\u001b[49m\u001b[38;5;241;43m.\u001b[39;49m\u001b[43mdecribe\u001b[49m(include\u001b[38;5;241m=\u001b[39m\u001b[38;5;124m'\u001b[39m\u001b[38;5;124mall\u001b[39m\u001b[38;5;124m'\u001b[39m)          \u001b[38;5;66;03m#used to view alll the columns together when they are mixed\u001b[39;00m\n\u001b[0;32m      2\u001b[0m df\u001b[38;5;241m.\u001b[39mdecribe(include\u001b[38;5;241m=\u001b[39m[\u001b[38;5;124m'\u001b[39m\u001b[38;5;124mobject\u001b[39m\u001b[38;5;124m'\u001b[39m])\n",
      "File \u001b[1;32mC:\\ProgramData\\anaconda3\\lib\\site-packages\\pandas\\core\\generic.py:5902\u001b[0m, in \u001b[0;36mNDFrame.__getattr__\u001b[1;34m(self, name)\u001b[0m\n\u001b[0;32m   5895\u001b[0m \u001b[38;5;28;01mif\u001b[39;00m (\n\u001b[0;32m   5896\u001b[0m     name \u001b[38;5;129;01mnot\u001b[39;00m \u001b[38;5;129;01min\u001b[39;00m \u001b[38;5;28mself\u001b[39m\u001b[38;5;241m.\u001b[39m_internal_names_set\n\u001b[0;32m   5897\u001b[0m     \u001b[38;5;129;01mand\u001b[39;00m name \u001b[38;5;129;01mnot\u001b[39;00m \u001b[38;5;129;01min\u001b[39;00m \u001b[38;5;28mself\u001b[39m\u001b[38;5;241m.\u001b[39m_metadata\n\u001b[0;32m   5898\u001b[0m     \u001b[38;5;129;01mand\u001b[39;00m name \u001b[38;5;129;01mnot\u001b[39;00m \u001b[38;5;129;01min\u001b[39;00m \u001b[38;5;28mself\u001b[39m\u001b[38;5;241m.\u001b[39m_accessors\n\u001b[0;32m   5899\u001b[0m     \u001b[38;5;129;01mand\u001b[39;00m \u001b[38;5;28mself\u001b[39m\u001b[38;5;241m.\u001b[39m_info_axis\u001b[38;5;241m.\u001b[39m_can_hold_identifiers_and_holds_name(name)\n\u001b[0;32m   5900\u001b[0m ):\n\u001b[0;32m   5901\u001b[0m     \u001b[38;5;28;01mreturn\u001b[39;00m \u001b[38;5;28mself\u001b[39m[name]\n\u001b[1;32m-> 5902\u001b[0m \u001b[38;5;28;01mreturn\u001b[39;00m \u001b[38;5;28;43mobject\u001b[39;49m\u001b[38;5;241;43m.\u001b[39;49m\u001b[38;5;21;43m__getattribute__\u001b[39;49m\u001b[43m(\u001b[49m\u001b[38;5;28;43mself\u001b[39;49m\u001b[43m,\u001b[49m\u001b[43m \u001b[49m\u001b[43mname\u001b[49m\u001b[43m)\u001b[49m\n",
      "\u001b[1;31mAttributeError\u001b[0m: 'DataFrame' object has no attribute 'decribe'"
     ]
    }
   ],
   "source": [
    "df.decribe(include='all')          #used to summarizes all the columns together when they are mixed\n",
    "df.decribe(include=['object'])     #used to summarizes all strings data"
   ]
  },
  {
   "cell_type": "code",
   "execution_count": 101,
   "id": "c46bde8d",
   "metadata": {},
   "outputs": [
    {
     "name": "stdout",
     "output_type": "stream",
     "text": [
      "2023-12-31   -2.477999\n",
      "2024-12-31   -0.934212\n",
      "2025-12-31    0.893462\n",
      "2026-12-31    0.434573\n",
      "2027-12-31    0.494885\n",
      "2028-12-31    0.318059\n",
      "2029-12-31   -1.647709\n",
      "2030-12-31   -0.182303\n",
      "2031-12-31   -0.434271\n",
      "2032-12-31   -0.331855\n",
      "2033-12-31   -1.072986\n",
      "2034-12-31    0.594096\n",
      "Freq: A-DEC, Name: A, dtype: float64\n",
      "2023-12-31    1.590708\n",
      "2024-12-31    0.811361\n",
      "2025-12-31   -0.214531\n",
      "2026-12-31    0.964605\n",
      "2027-12-31   -1.272246\n",
      "2028-12-31    0.083618\n",
      "2029-12-31    0.778344\n",
      "2030-12-31    0.792982\n",
      "2031-12-31   -0.574254\n",
      "2032-12-31    0.941115\n",
      "2033-12-31   -0.442247\n",
      "2034-12-31   -0.413171\n",
      "Freq: A-DEC, Name: D, dtype: float64\n"
     ]
    }
   ],
   "source": [
    "#slicing Data\n",
    "\n",
    "g = df['A']           #This is used to call the column A\n",
    "h = df['D']\n",
    "\n",
    "print(g)\n",
    "print(h)"
   ]
  },
  {
   "cell_type": "code",
   "execution_count": 105,
   "id": "c5c9531f",
   "metadata": {},
   "outputs": [
    {
     "data": {
      "text/html": [
       "<div>\n",
       "<style scoped>\n",
       "    .dataframe tbody tr th:only-of-type {\n",
       "        vertical-align: middle;\n",
       "    }\n",
       "\n",
       "    .dataframe tbody tr th {\n",
       "        vertical-align: top;\n",
       "    }\n",
       "\n",
       "    .dataframe thead th {\n",
       "        text-align: right;\n",
       "    }\n",
       "</style>\n",
       "<table border=\"1\" class=\"dataframe\">\n",
       "  <thead>\n",
       "    <tr style=\"text-align: right;\">\n",
       "      <th></th>\n",
       "      <th>A</th>\n",
       "      <th>D</th>\n",
       "      <th>C</th>\n",
       "    </tr>\n",
       "  </thead>\n",
       "  <tbody>\n",
       "    <tr>\n",
       "      <th>2023-12-31</th>\n",
       "      <td>-2.477999</td>\n",
       "      <td>1.590708</td>\n",
       "      <td>0.655405</td>\n",
       "    </tr>\n",
       "    <tr>\n",
       "      <th>2024-12-31</th>\n",
       "      <td>-0.934212</td>\n",
       "      <td>0.811361</td>\n",
       "      <td>-0.868371</td>\n",
       "    </tr>\n",
       "    <tr>\n",
       "      <th>2025-12-31</th>\n",
       "      <td>0.893462</td>\n",
       "      <td>-0.214531</td>\n",
       "      <td>0.328703</td>\n",
       "    </tr>\n",
       "    <tr>\n",
       "      <th>2026-12-31</th>\n",
       "      <td>0.434573</td>\n",
       "      <td>0.964605</td>\n",
       "      <td>0.560039</td>\n",
       "    </tr>\n",
       "    <tr>\n",
       "      <th>2027-12-31</th>\n",
       "      <td>0.494885</td>\n",
       "      <td>-1.272246</td>\n",
       "      <td>0.762877</td>\n",
       "    </tr>\n",
       "    <tr>\n",
       "      <th>2028-12-31</th>\n",
       "      <td>0.318059</td>\n",
       "      <td>0.083618</td>\n",
       "      <td>1.476020</td>\n",
       "    </tr>\n",
       "    <tr>\n",
       "      <th>2029-12-31</th>\n",
       "      <td>-1.647709</td>\n",
       "      <td>0.778344</td>\n",
       "      <td>-2.070209</td>\n",
       "    </tr>\n",
       "    <tr>\n",
       "      <th>2030-12-31</th>\n",
       "      <td>-0.182303</td>\n",
       "      <td>0.792982</td>\n",
       "      <td>0.551846</td>\n",
       "    </tr>\n",
       "    <tr>\n",
       "      <th>2031-12-31</th>\n",
       "      <td>-0.434271</td>\n",
       "      <td>-0.574254</td>\n",
       "      <td>2.386825</td>\n",
       "    </tr>\n",
       "    <tr>\n",
       "      <th>2032-12-31</th>\n",
       "      <td>-0.331855</td>\n",
       "      <td>0.941115</td>\n",
       "      <td>-0.151813</td>\n",
       "    </tr>\n",
       "    <tr>\n",
       "      <th>2033-12-31</th>\n",
       "      <td>-1.072986</td>\n",
       "      <td>-0.442247</td>\n",
       "      <td>-1.227924</td>\n",
       "    </tr>\n",
       "    <tr>\n",
       "      <th>2034-12-31</th>\n",
       "      <td>0.594096</td>\n",
       "      <td>-0.413171</td>\n",
       "      <td>0.530269</td>\n",
       "    </tr>\n",
       "  </tbody>\n",
       "</table>\n",
       "</div>"
      ],
      "text/plain": [
       "                   A         D         C\n",
       "2023-12-31 -2.477999  1.590708  0.655405\n",
       "2024-12-31 -0.934212  0.811361 -0.868371\n",
       "2025-12-31  0.893462 -0.214531  0.328703\n",
       "2026-12-31  0.434573  0.964605  0.560039\n",
       "2027-12-31  0.494885 -1.272246  0.762877\n",
       "2028-12-31  0.318059  0.083618  1.476020\n",
       "2029-12-31 -1.647709  0.778344 -2.070209\n",
       "2030-12-31 -0.182303  0.792982  0.551846\n",
       "2031-12-31 -0.434271 -0.574254  2.386825\n",
       "2032-12-31 -0.331855  0.941115 -0.151813\n",
       "2033-12-31 -1.072986 -0.442247 -1.227924\n",
       "2034-12-31  0.594096 -0.413171  0.530269"
      ]
     },
     "execution_count": 105,
     "metadata": {},
     "output_type": "execute_result"
    }
   ],
   "source": [
    "#To call multiple columns, we used df[[..., ...]]\n",
    "\n",
    "df[['A','D','C']]"
   ]
  },
  {
   "cell_type": "code",
   "execution_count": 116,
   "id": "44652c83",
   "metadata": {},
   "outputs": [
    {
     "data": {
      "text/html": [
       "<div>\n",
       "<style scoped>\n",
       "    .dataframe tbody tr th:only-of-type {\n",
       "        vertical-align: middle;\n",
       "    }\n",
       "\n",
       "    .dataframe tbody tr th {\n",
       "        vertical-align: top;\n",
       "    }\n",
       "\n",
       "    .dataframe thead th {\n",
       "        text-align: right;\n",
       "    }\n",
       "</style>\n",
       "<table border=\"1\" class=\"dataframe\">\n",
       "  <thead>\n",
       "    <tr style=\"text-align: right;\">\n",
       "      <th></th>\n",
       "      <th>A</th>\n",
       "      <th>B</th>\n",
       "      <th>C</th>\n",
       "      <th>D</th>\n",
       "    </tr>\n",
       "  </thead>\n",
       "  <tbody>\n",
       "    <tr>\n",
       "      <th>2023-12-31</th>\n",
       "      <td>-2.477999</td>\n",
       "      <td>1.027695</td>\n",
       "      <td>0.655405</td>\n",
       "      <td>1.590708</td>\n",
       "    </tr>\n",
       "    <tr>\n",
       "      <th>2024-12-31</th>\n",
       "      <td>-0.934212</td>\n",
       "      <td>0.063595</td>\n",
       "      <td>-0.868371</td>\n",
       "      <td>0.811361</td>\n",
       "    </tr>\n",
       "    <tr>\n",
       "      <th>2025-12-31</th>\n",
       "      <td>0.893462</td>\n",
       "      <td>-0.046961</td>\n",
       "      <td>0.328703</td>\n",
       "      <td>-0.214531</td>\n",
       "    </tr>\n",
       "  </tbody>\n",
       "</table>\n",
       "</div>"
      ],
      "text/plain": [
       "                   A         B         C         D\n",
       "2023-12-31 -2.477999  1.027695  0.655405  1.590708\n",
       "2024-12-31 -0.934212  0.063595 -0.868371  0.811361\n",
       "2025-12-31  0.893462 -0.046961  0.328703 -0.214531"
      ]
     },
     "execution_count": 116,
     "metadata": {},
     "output_type": "execute_result"
    }
   ],
   "source": [
    "#Slicing the Data\n",
    "\n",
    "df[0:3]                          #this is for rows alone"
   ]
  },
  {
   "cell_type": "code",
   "execution_count": 8,
   "id": "dce8ae1f",
   "metadata": {},
   "outputs": [
    {
     "name": "stdout",
     "output_type": "stream",
     "text": [
      "                   A         B         C         D\n",
      "2023-12-31  0.257745  1.329116 -0.604536 -0.444419\n",
      "2024-12-31  0.301003  0.091395  0.486265 -0.387883\n",
      "2025-12-31 -0.804150 -0.653833 -0.087194  0.053014\n",
      "2026-12-31 -0.033653 -0.708977  0.976674  0.769223\n",
      "2027-12-31  0.092031  1.024583 -0.106667  0.379752\n",
      "2028-12-31 -1.740405  0.246261 -0.196473 -0.329534\n",
      "2029-12-31 -0.006534 -0.326683  0.946912  2.577222\n",
      "2030-12-31  1.292778  0.491238 -0.841472 -0.048381\n",
      "2031-12-31  0.589971 -0.456979 -0.122262  1.352779\n",
      "2032-12-31  1.424908  0.892540  0.361869  0.183101\n",
      "2033-12-31  0.187481  0.547269 -0.605285  1.657141\n",
      "2034-12-31  0.987986  1.979229  0.185269 -0.340764\n"
     ]
    }
   ],
   "source": [
    "#for slicing row and column.. We will use the:\n",
    "#.loc[] to select columns by names\n",
    "#.iloc[] to select columns by indexes\n",
    "\n",
    "print(df)"
   ]
  },
  {
   "cell_type": "code",
   "execution_count": 129,
   "id": "736ff839",
   "metadata": {},
   "outputs": [
    {
     "data": {
      "text/plain": [
       "0.893461583008787"
      ]
     },
     "execution_count": 129,
     "metadata": {},
     "output_type": "execute_result"
    }
   ],
   "source": [
    "#slicing by index\n",
    "\n",
    "df.iloc[2,0]"
   ]
  },
  {
   "cell_type": "code",
   "execution_count": 25,
   "id": "226748c1",
   "metadata": {},
   "outputs": [
    {
     "data": {
      "text/plain": [
       "A    0.187481\n",
       "B    0.547269\n",
       "C   -0.605285\n",
       "D    1.657141\n",
       "Name: 2033-12-31 00:00:00, dtype: float64"
      ]
     },
     "execution_count": 25,
     "metadata": {},
     "output_type": "execute_result"
    }
   ],
   "source": [
    "#slicing by index\n",
    "\n",
    "df.iloc[10,0:4]"
   ]
  },
  {
   "cell_type": "code",
   "execution_count": 33,
   "id": "66ef838f",
   "metadata": {},
   "outputs": [
    {
     "data": {
      "text/html": [
       "<div>\n",
       "<style scoped>\n",
       "    .dataframe tbody tr th:only-of-type {\n",
       "        vertical-align: middle;\n",
       "    }\n",
       "\n",
       "    .dataframe tbody tr th {\n",
       "        vertical-align: top;\n",
       "    }\n",
       "\n",
       "    .dataframe thead th {\n",
       "        text-align: right;\n",
       "    }\n",
       "</style>\n",
       "<table border=\"1\" class=\"dataframe\">\n",
       "  <thead>\n",
       "    <tr style=\"text-align: right;\">\n",
       "      <th></th>\n",
       "      <th>A</th>\n",
       "      <th>B</th>\n",
       "    </tr>\n",
       "  </thead>\n",
       "  <tbody>\n",
       "    <tr>\n",
       "      <th>2023-12-31</th>\n",
       "      <td>0.257745</td>\n",
       "      <td>1.329116</td>\n",
       "    </tr>\n",
       "    <tr>\n",
       "      <th>2024-12-31</th>\n",
       "      <td>0.301003</td>\n",
       "      <td>0.091395</td>\n",
       "    </tr>\n",
       "    <tr>\n",
       "      <th>2025-12-31</th>\n",
       "      <td>-0.804150</td>\n",
       "      <td>-0.653833</td>\n",
       "    </tr>\n",
       "    <tr>\n",
       "      <th>2026-12-31</th>\n",
       "      <td>-0.033653</td>\n",
       "      <td>-0.708977</td>\n",
       "    </tr>\n",
       "    <tr>\n",
       "      <th>2027-12-31</th>\n",
       "      <td>0.092031</td>\n",
       "      <td>1.024583</td>\n",
       "    </tr>\n",
       "    <tr>\n",
       "      <th>2028-12-31</th>\n",
       "      <td>-1.740405</td>\n",
       "      <td>0.246261</td>\n",
       "    </tr>\n",
       "  </tbody>\n",
       "</table>\n",
       "</div>"
      ],
      "text/plain": [
       "                   A         B\n",
       "2023-12-31  0.257745  1.329116\n",
       "2024-12-31  0.301003  0.091395\n",
       "2025-12-31 -0.804150 -0.653833\n",
       "2026-12-31 -0.033653 -0.708977\n",
       "2027-12-31  0.092031  1.024583\n",
       "2028-12-31 -1.740405  0.246261"
      ]
     },
     "execution_count": 33,
     "metadata": {},
     "output_type": "execute_result"
    }
   ],
   "source": [
    "#slicing by and calling more column by index\n",
    "\n",
    "df.iloc[0:6,0:2]"
   ]
  },
  {
   "cell_type": "code",
   "execution_count": 57,
   "id": "33832ed6",
   "metadata": {},
   "outputs": [
    {
     "data": {
      "text/html": [
       "<div>\n",
       "<style scoped>\n",
       "    .dataframe tbody tr th:only-of-type {\n",
       "        vertical-align: middle;\n",
       "    }\n",
       "\n",
       "    .dataframe tbody tr th {\n",
       "        vertical-align: top;\n",
       "    }\n",
       "\n",
       "    .dataframe thead th {\n",
       "        text-align: right;\n",
       "    }\n",
       "</style>\n",
       "<table border=\"1\" class=\"dataframe\">\n",
       "  <thead>\n",
       "    <tr style=\"text-align: right;\">\n",
       "      <th></th>\n",
       "      <th>A</th>\n",
       "      <th>B</th>\n",
       "      <th>C</th>\n",
       "      <th>D</th>\n",
       "    </tr>\n",
       "  </thead>\n",
       "  <tbody>\n",
       "    <tr>\n",
       "      <th>2023-12-31</th>\n",
       "      <td>0.257745</td>\n",
       "      <td>1.329116</td>\n",
       "      <td>-0.604536</td>\n",
       "      <td>-0.444419</td>\n",
       "    </tr>\n",
       "    <tr>\n",
       "      <th>2024-12-31</th>\n",
       "      <td>0.301003</td>\n",
       "      <td>0.091395</td>\n",
       "      <td>0.486265</td>\n",
       "      <td>-0.387883</td>\n",
       "    </tr>\n",
       "    <tr>\n",
       "      <th>2026-12-31</th>\n",
       "      <td>-0.033653</td>\n",
       "      <td>-0.708977</td>\n",
       "      <td>0.976674</td>\n",
       "      <td>0.769223</td>\n",
       "    </tr>\n",
       "    <tr>\n",
       "      <th>2027-12-31</th>\n",
       "      <td>0.092031</td>\n",
       "      <td>1.024583</td>\n",
       "      <td>-0.106667</td>\n",
       "      <td>0.379752</td>\n",
       "    </tr>\n",
       "    <tr>\n",
       "      <th>2030-12-31</th>\n",
       "      <td>1.292778</td>\n",
       "      <td>0.491238</td>\n",
       "      <td>-0.841472</td>\n",
       "      <td>-0.048381</td>\n",
       "    </tr>\n",
       "    <tr>\n",
       "      <th>2031-12-31</th>\n",
       "      <td>0.589971</td>\n",
       "      <td>-0.456979</td>\n",
       "      <td>-0.122262</td>\n",
       "      <td>1.352779</td>\n",
       "    </tr>\n",
       "  </tbody>\n",
       "</table>\n",
       "</div>"
      ],
      "text/plain": [
       "                   A         B         C         D\n",
       "2023-12-31  0.257745  1.329116 -0.604536 -0.444419\n",
       "2024-12-31  0.301003  0.091395  0.486265 -0.387883\n",
       "2026-12-31 -0.033653 -0.708977  0.976674  0.769223\n",
       "2027-12-31  0.092031  1.024583 -0.106667  0.379752\n",
       "2030-12-31  1.292778  0.491238 -0.841472 -0.048381\n",
       "2031-12-31  0.589971 -0.456979 -0.122262  1.352779"
      ]
     },
     "execution_count": 57,
     "metadata": {},
     "output_type": "execute_result"
    }
   ],
   "source": [
    "#slicing by index\n",
    "\n",
    "df.iloc[[0,1,3,4,7,8]]"
   ]
  },
  {
   "cell_type": "code",
   "execution_count": 39,
   "id": "9481556b",
   "metadata": {},
   "outputs": [
    {
     "data": {
      "text/html": [
       "<div>\n",
       "<style scoped>\n",
       "    .dataframe tbody tr th:only-of-type {\n",
       "        vertical-align: middle;\n",
       "    }\n",
       "\n",
       "    .dataframe tbody tr th {\n",
       "        vertical-align: top;\n",
       "    }\n",
       "\n",
       "    .dataframe thead th {\n",
       "        text-align: right;\n",
       "    }\n",
       "</style>\n",
       "<table border=\"1\" class=\"dataframe\">\n",
       "  <thead>\n",
       "    <tr style=\"text-align: right;\">\n",
       "      <th></th>\n",
       "      <th>A</th>\n",
       "      <th>B</th>\n",
       "      <th>C</th>\n",
       "    </tr>\n",
       "  </thead>\n",
       "  <tbody>\n",
       "    <tr>\n",
       "      <th>2023-12-31</th>\n",
       "      <td>0.257745</td>\n",
       "      <td>1.329116</td>\n",
       "      <td>-0.604536</td>\n",
       "    </tr>\n",
       "    <tr>\n",
       "      <th>2025-12-31</th>\n",
       "      <td>-0.804150</td>\n",
       "      <td>-0.653833</td>\n",
       "      <td>-0.087194</td>\n",
       "    </tr>\n",
       "    <tr>\n",
       "      <th>2027-12-31</th>\n",
       "      <td>0.092031</td>\n",
       "      <td>1.024583</td>\n",
       "      <td>-0.106667</td>\n",
       "    </tr>\n",
       "    <tr>\n",
       "      <th>2029-12-31</th>\n",
       "      <td>-0.006534</td>\n",
       "      <td>-0.326683</td>\n",
       "      <td>0.946912</td>\n",
       "    </tr>\n",
       "  </tbody>\n",
       "</table>\n",
       "</div>"
      ],
      "text/plain": [
       "                   A         B         C\n",
       "2023-12-31  0.257745  1.329116 -0.604536\n",
       "2025-12-31 -0.804150 -0.653833 -0.087194\n",
       "2027-12-31  0.092031  1.024583 -0.106667\n",
       "2029-12-31 -0.006534 -0.326683  0.946912"
      ]
     },
     "execution_count": 39,
     "metadata": {},
     "output_type": "execute_result"
    }
   ],
   "source": [
    "#slicing by index\n",
    "\n",
    "df.iloc[0:7:2,:3]"
   ]
  },
  {
   "cell_type": "code",
   "execution_count": 9,
   "id": "bdcb2cf7",
   "metadata": {},
   "outputs": [
    {
     "data": {
      "text/plain": [
       "2023-12-31    0.257745\n",
       "2024-12-31    0.301003\n",
       "2025-12-31   -0.804150\n",
       "2026-12-31   -0.033653\n",
       "2027-12-31    0.092031\n",
       "2028-12-31   -1.740405\n",
       "2029-12-31   -0.006534\n",
       "2030-12-31    1.292778\n",
       "2031-12-31    0.589971\n",
       "2032-12-31    1.424908\n",
       "2033-12-31    0.187481\n",
       "2034-12-31    0.987986\n",
       "Freq: A-DEC, Name: A, dtype: float64"
      ]
     },
     "execution_count": 9,
     "metadata": {},
     "output_type": "execute_result"
    }
   ],
   "source": [
    "#slicing by names\n",
    "\n",
    "df.loc[:,'A']    #printing all column in section A"
   ]
  },
  {
   "cell_type": "code",
   "execution_count": 13,
   "id": "0b781777",
   "metadata": {},
   "outputs": [
    {
     "data": {
      "text/plain": [
       "1.2927776822241153"
      ]
     },
     "execution_count": 13,
     "metadata": {},
     "output_type": "execute_result"
    }
   ],
   "source": [
    "df.loc['20301231','A']                #This will print the A column with the row as given\n",
    "                                      #or ['2030-12-31','A']\n"
   ]
  },
  {
   "cell_type": "code",
   "execution_count": 98,
   "id": "4f8bbbb6",
   "metadata": {},
   "outputs": [
    {
     "data": {
      "text/html": [
       "<div>\n",
       "<style scoped>\n",
       "    .dataframe tbody tr th:only-of-type {\n",
       "        vertical-align: middle;\n",
       "    }\n",
       "\n",
       "    .dataframe tbody tr th {\n",
       "        vertical-align: top;\n",
       "    }\n",
       "\n",
       "    .dataframe thead th {\n",
       "        text-align: right;\n",
       "    }\n",
       "</style>\n",
       "<table border=\"1\" class=\"dataframe\">\n",
       "  <thead>\n",
       "    <tr style=\"text-align: right;\">\n",
       "      <th></th>\n",
       "      <th>D</th>\n",
       "      <th>C</th>\n",
       "    </tr>\n",
       "  </thead>\n",
       "  <tbody>\n",
       "    <tr>\n",
       "      <th>2023-12-31</th>\n",
       "      <td>-0.444419</td>\n",
       "      <td>-0.604536</td>\n",
       "    </tr>\n",
       "    <tr>\n",
       "      <th>2024-12-31</th>\n",
       "      <td>-0.387883</td>\n",
       "      <td>0.486265</td>\n",
       "    </tr>\n",
       "    <tr>\n",
       "      <th>2025-12-31</th>\n",
       "      <td>0.053014</td>\n",
       "      <td>-0.087194</td>\n",
       "    </tr>\n",
       "    <tr>\n",
       "      <th>2026-12-31</th>\n",
       "      <td>0.769223</td>\n",
       "      <td>0.976674</td>\n",
       "    </tr>\n",
       "    <tr>\n",
       "      <th>2027-12-31</th>\n",
       "      <td>0.379752</td>\n",
       "      <td>-0.106667</td>\n",
       "    </tr>\n",
       "    <tr>\n",
       "      <th>2028-12-31</th>\n",
       "      <td>-0.329534</td>\n",
       "      <td>-0.196473</td>\n",
       "    </tr>\n",
       "    <tr>\n",
       "      <th>2029-12-31</th>\n",
       "      <td>2.577222</td>\n",
       "      <td>0.946912</td>\n",
       "    </tr>\n",
       "    <tr>\n",
       "      <th>2030-12-31</th>\n",
       "      <td>-0.048381</td>\n",
       "      <td>-0.841472</td>\n",
       "    </tr>\n",
       "    <tr>\n",
       "      <th>2031-12-31</th>\n",
       "      <td>1.352779</td>\n",
       "      <td>-0.122262</td>\n",
       "    </tr>\n",
       "    <tr>\n",
       "      <th>2032-12-31</th>\n",
       "      <td>0.183101</td>\n",
       "      <td>0.361869</td>\n",
       "    </tr>\n",
       "    <tr>\n",
       "      <th>2033-12-31</th>\n",
       "      <td>1.657141</td>\n",
       "      <td>-0.605285</td>\n",
       "    </tr>\n",
       "    <tr>\n",
       "      <th>2034-12-31</th>\n",
       "      <td>-0.340764</td>\n",
       "      <td>0.185269</td>\n",
       "    </tr>\n",
       "  </tbody>\n",
       "</table>\n",
       "</div>"
      ],
      "text/plain": [
       "                   D         C\n",
       "2023-12-31 -0.444419 -0.604536\n",
       "2024-12-31 -0.387883  0.486265\n",
       "2025-12-31  0.053014 -0.087194\n",
       "2026-12-31  0.769223  0.976674\n",
       "2027-12-31  0.379752 -0.106667\n",
       "2028-12-31 -0.329534 -0.196473\n",
       "2029-12-31  2.577222  0.946912\n",
       "2030-12-31 -0.048381 -0.841472\n",
       "2031-12-31  1.352779 -0.122262\n",
       "2032-12-31  0.183101  0.361869\n",
       "2033-12-31  1.657141 -0.605285\n",
       "2034-12-31 -0.340764  0.185269"
      ]
     },
     "execution_count": 98,
     "metadata": {},
     "output_type": "execute_result"
    }
   ],
   "source": [
    "#slicing by index\n",
    "\n",
    "df.iloc[:,:-3:-1]"
   ]
  },
  {
   "cell_type": "code",
   "execution_count": 114,
   "id": "e597f1d6",
   "metadata": {},
   "outputs": [
    {
     "data": {
      "text/html": [
       "<div>\n",
       "<style scoped>\n",
       "    .dataframe tbody tr th:only-of-type {\n",
       "        vertical-align: middle;\n",
       "    }\n",
       "\n",
       "    .dataframe tbody tr th {\n",
       "        vertical-align: top;\n",
       "    }\n",
       "\n",
       "    .dataframe thead th {\n",
       "        text-align: right;\n",
       "    }\n",
       "</style>\n",
       "<table border=\"1\" class=\"dataframe\">\n",
       "  <thead>\n",
       "    <tr style=\"text-align: right;\">\n",
       "      <th></th>\n",
       "      <th>D</th>\n",
       "      <th>B</th>\n",
       "    </tr>\n",
       "  </thead>\n",
       "  <tbody>\n",
       "    <tr>\n",
       "      <th>2023-12-31</th>\n",
       "      <td>-0.444419</td>\n",
       "      <td>1.329116</td>\n",
       "    </tr>\n",
       "    <tr>\n",
       "      <th>2025-12-31</th>\n",
       "      <td>0.053014</td>\n",
       "      <td>-0.653833</td>\n",
       "    </tr>\n",
       "    <tr>\n",
       "      <th>2027-12-31</th>\n",
       "      <td>0.379752</td>\n",
       "      <td>1.024583</td>\n",
       "    </tr>\n",
       "    <tr>\n",
       "      <th>2029-12-31</th>\n",
       "      <td>2.577222</td>\n",
       "      <td>-0.326683</td>\n",
       "    </tr>\n",
       "  </tbody>\n",
       "</table>\n",
       "</div>"
      ],
      "text/plain": [
       "                   D         B\n",
       "2023-12-31 -0.444419  1.329116\n",
       "2025-12-31  0.053014 -0.653833\n",
       "2027-12-31  0.379752  1.024583\n",
       "2029-12-31  2.577222 -0.326683"
      ]
     },
     "execution_count": 114,
     "metadata": {},
     "output_type": "execute_result"
    }
   ],
   "source": [
    "#slicing by index\n",
    "\n",
    "#df.iloc[:7:2,[-1,-3]]     #or df.iloc[:7:2,-4:-2]\n",
    "df.iloc[:7:2,:-4:-2 ]"
   ]
  },
  {
   "cell_type": "code",
   "execution_count": 145,
   "id": "b9504705",
   "metadata": {},
   "outputs": [
    {
     "data": {
      "text/html": [
       "<div>\n",
       "<style scoped>\n",
       "    .dataframe tbody tr th:only-of-type {\n",
       "        vertical-align: middle;\n",
       "    }\n",
       "\n",
       "    .dataframe tbody tr th {\n",
       "        vertical-align: top;\n",
       "    }\n",
       "\n",
       "    .dataframe thead th {\n",
       "        text-align: right;\n",
       "    }\n",
       "</style>\n",
       "<table border=\"1\" class=\"dataframe\">\n",
       "  <thead>\n",
       "    <tr style=\"text-align: right;\">\n",
       "      <th></th>\n",
       "      <th>C</th>\n",
       "      <th>A</th>\n",
       "    </tr>\n",
       "  </thead>\n",
       "  <tbody>\n",
       "    <tr>\n",
       "      <th>2034-12-31</th>\n",
       "      <td>0.185269</td>\n",
       "      <td>0.987986</td>\n",
       "    </tr>\n",
       "    <tr>\n",
       "      <th>2031-12-31</th>\n",
       "      <td>-0.122262</td>\n",
       "      <td>0.589971</td>\n",
       "    </tr>\n",
       "    <tr>\n",
       "      <th>2028-12-31</th>\n",
       "      <td>-0.196473</td>\n",
       "      <td>-1.740405</td>\n",
       "    </tr>\n",
       "    <tr>\n",
       "      <th>2025-12-31</th>\n",
       "      <td>-0.087194</td>\n",
       "      <td>-0.804150</td>\n",
       "    </tr>\n",
       "  </tbody>\n",
       "</table>\n",
       "</div>"
      ],
      "text/plain": [
       "                   C         A\n",
       "2034-12-31  0.185269  0.987986\n",
       "2031-12-31 -0.122262  0.589971\n",
       "2028-12-31 -0.196473 -1.740405\n",
       "2025-12-31 -0.087194 -0.804150"
      ]
     },
     "execution_count": 145,
     "metadata": {},
     "output_type": "execute_result"
    }
   ],
   "source": [
    "#slicing by index\n",
    "\n",
    "df.iloc[::-3,-2 ::-2]"
   ]
  },
  {
   "cell_type": "code",
   "execution_count": 16,
   "id": "96ff0150",
   "metadata": {},
   "outputs": [
    {
     "data": {
      "text/plain": [
       "A    0.987986\n",
       "B    1.979229\n",
       "Name: 2034-12-31 00:00:00, dtype: float64"
      ]
     },
     "execution_count": 16,
     "metadata": {},
     "output_type": "execute_result"
    }
   ],
   "source": [
    "df.loc['2034-12-31', ['A','B']]       #calling 2 and more columns by name"
   ]
  },
  {
   "cell_type": "code",
   "execution_count": 148,
   "id": "7720dfb0",
   "metadata": {},
   "outputs": [
    {
     "data": {
      "text/html": [
       "<div>\n",
       "<style scoped>\n",
       "    .dataframe tbody tr th:only-of-type {\n",
       "        vertical-align: middle;\n",
       "    }\n",
       "\n",
       "    .dataframe tbody tr th {\n",
       "        vertical-align: top;\n",
       "    }\n",
       "\n",
       "    .dataframe thead th {\n",
       "        text-align: right;\n",
       "    }\n",
       "</style>\n",
       "<table border=\"1\" class=\"dataframe\">\n",
       "  <thead>\n",
       "    <tr style=\"text-align: right;\">\n",
       "      <th></th>\n",
       "      <th>C</th>\n",
       "      <th>D</th>\n",
       "    </tr>\n",
       "  </thead>\n",
       "  <tbody>\n",
       "    <tr>\n",
       "      <th>2023-12-31</th>\n",
       "      <td>-0.604536</td>\n",
       "      <td>-0.444419</td>\n",
       "    </tr>\n",
       "    <tr>\n",
       "      <th>2024-12-31</th>\n",
       "      <td>0.486265</td>\n",
       "      <td>-0.387883</td>\n",
       "    </tr>\n",
       "    <tr>\n",
       "      <th>2025-12-31</th>\n",
       "      <td>-0.087194</td>\n",
       "      <td>0.053014</td>\n",
       "    </tr>\n",
       "    <tr>\n",
       "      <th>2026-12-31</th>\n",
       "      <td>0.976674</td>\n",
       "      <td>0.769223</td>\n",
       "    </tr>\n",
       "    <tr>\n",
       "      <th>2027-12-31</th>\n",
       "      <td>-0.106667</td>\n",
       "      <td>0.379752</td>\n",
       "    </tr>\n",
       "    <tr>\n",
       "      <th>2028-12-31</th>\n",
       "      <td>-0.196473</td>\n",
       "      <td>-0.329534</td>\n",
       "    </tr>\n",
       "    <tr>\n",
       "      <th>2029-12-31</th>\n",
       "      <td>0.946912</td>\n",
       "      <td>2.577222</td>\n",
       "    </tr>\n",
       "    <tr>\n",
       "      <th>2030-12-31</th>\n",
       "      <td>-0.841472</td>\n",
       "      <td>-0.048381</td>\n",
       "    </tr>\n",
       "    <tr>\n",
       "      <th>2031-12-31</th>\n",
       "      <td>-0.122262</td>\n",
       "      <td>1.352779</td>\n",
       "    </tr>\n",
       "    <tr>\n",
       "      <th>2032-12-31</th>\n",
       "      <td>0.361869</td>\n",
       "      <td>0.183101</td>\n",
       "    </tr>\n",
       "    <tr>\n",
       "      <th>2033-12-31</th>\n",
       "      <td>-0.605285</td>\n",
       "      <td>1.657141</td>\n",
       "    </tr>\n",
       "    <tr>\n",
       "      <th>2034-12-31</th>\n",
       "      <td>0.185269</td>\n",
       "      <td>-0.340764</td>\n",
       "    </tr>\n",
       "  </tbody>\n",
       "</table>\n",
       "</div>"
      ],
      "text/plain": [
       "                   C         D\n",
       "2023-12-31 -0.604536 -0.444419\n",
       "2024-12-31  0.486265 -0.387883\n",
       "2025-12-31 -0.087194  0.053014\n",
       "2026-12-31  0.976674  0.769223\n",
       "2027-12-31 -0.106667  0.379752\n",
       "2028-12-31 -0.196473 -0.329534\n",
       "2029-12-31  0.946912  2.577222\n",
       "2030-12-31 -0.841472 -0.048381\n",
       "2031-12-31 -0.122262  1.352779\n",
       "2032-12-31  0.361869  0.183101\n",
       "2033-12-31 -0.605285  1.657141\n",
       "2034-12-31  0.185269 -0.340764"
      ]
     },
     "execution_count": 148,
     "metadata": {},
     "output_type": "execute_result"
    }
   ],
   "source": [
    "#Using the drop function\n",
    "\n",
    "df.drop(columns=['A','B'])"
   ]
  },
  {
   "cell_type": "code",
   "execution_count": null,
   "id": "4505fb2f",
   "metadata": {},
   "outputs": [],
   "source": []
  },
  {
   "cell_type": "code",
   "execution_count": 169,
   "id": "7be60388",
   "metadata": {},
   "outputs": [
    {
     "name": "stdout",
     "output_type": "stream",
     "text": [
      "     Name  Age\n",
      "0    Dele   22\n",
      "1    Iyin   33\n",
      "2  Aminat   18\n",
      "    Name  Age\n",
      "3   Dele   22\n",
      "4  Larry   20\n"
     ]
    }
   ],
   "source": [
    "#Concatenation in Pandas of two DataFrame\n",
    "\n",
    "i = pd.DataFrame({'Name':['Dele','Iyin','Aminat'], 'Age':[22,33,18]})\n",
    "j = pd.DataFrame({'Name':['Dele','Larry'], 'Age':[22,20]}, index=[3,4])\n",
    "\n",
    "print(i)\n",
    "print(j)"
   ]
  },
  {
   "cell_type": "code",
   "execution_count": 172,
   "id": "e8ab1378",
   "metadata": {},
   "outputs": [
    {
     "name": "stdout",
     "output_type": "stream",
     "text": [
      "     Name  Age\n",
      "0    Dele   22\n",
      "1    Iyin   33\n",
      "2  Aminat   18\n",
      "3    Dele   22\n",
      "4   Larry   20\n"
     ]
    },
    {
     "data": {
      "text/plain": [
       "0     True\n",
       "1    False\n",
       "2    False\n",
       "3     True\n",
       "4    False\n",
       "Name: Name, dtype: bool"
      ]
     },
     "execution_count": 172,
     "metadata": {},
     "output_type": "execute_result"
    }
   ],
   "source": [
    "#To concatenate the two dataFrame i and j\n",
    "\n",
    "i_j = pd.concat([i,j])\n",
    "print(i_j)\n",
    "i_j['Name']== 'Dele'    #to check if how many times Dele occur is in the dataFrame"
   ]
  },
  {
   "cell_type": "code",
   "execution_count": 176,
   "id": "823cfbb5",
   "metadata": {},
   "outputs": [
    {
     "data": {
      "text/html": [
       "<div>\n",
       "<style scoped>\n",
       "    .dataframe tbody tr th:only-of-type {\n",
       "        vertical-align: middle;\n",
       "    }\n",
       "\n",
       "    .dataframe tbody tr th {\n",
       "        vertical-align: top;\n",
       "    }\n",
       "\n",
       "    .dataframe thead th {\n",
       "        text-align: right;\n",
       "    }\n",
       "</style>\n",
       "<table border=\"1\" class=\"dataframe\">\n",
       "  <thead>\n",
       "    <tr style=\"text-align: right;\">\n",
       "      <th></th>\n",
       "      <th>Name</th>\n",
       "      <th>Age</th>\n",
       "    </tr>\n",
       "  </thead>\n",
       "  <tbody>\n",
       "    <tr>\n",
       "      <th>0</th>\n",
       "      <td>Dele</td>\n",
       "      <td>22</td>\n",
       "    </tr>\n",
       "    <tr>\n",
       "      <th>3</th>\n",
       "      <td>Dele</td>\n",
       "      <td>22</td>\n",
       "    </tr>\n",
       "  </tbody>\n",
       "</table>\n",
       "</div>"
      ],
      "text/plain": [
       "   Name  Age\n",
       "0  Dele   22\n",
       "3  Dele   22"
      ]
     },
     "execution_count": 176,
     "metadata": {},
     "output_type": "execute_result"
    }
   ],
   "source": [
    "#To print out in tabular form data(i.e stratisfied data)\n",
    "\n",
    "i_j[i_j['Name']== 'Dele']"
   ]
  },
  {
   "cell_type": "code",
   "execution_count": 180,
   "id": "73e1cb2a",
   "metadata": {},
   "outputs": [
    {
     "data": {
      "text/html": [
       "<div>\n",
       "<style scoped>\n",
       "    .dataframe tbody tr th:only-of-type {\n",
       "        vertical-align: middle;\n",
       "    }\n",
       "\n",
       "    .dataframe tbody tr th {\n",
       "        vertical-align: top;\n",
       "    }\n",
       "\n",
       "    .dataframe thead th {\n",
       "        text-align: right;\n",
       "    }\n",
       "</style>\n",
       "<table border=\"1\" class=\"dataframe\">\n",
       "  <thead>\n",
       "    <tr style=\"text-align: right;\">\n",
       "      <th></th>\n",
       "      <th>Name</th>\n",
       "      <th>Age</th>\n",
       "    </tr>\n",
       "  </thead>\n",
       "  <tbody>\n",
       "    <tr>\n",
       "      <th>0</th>\n",
       "      <td>Dele</td>\n",
       "      <td>22</td>\n",
       "    </tr>\n",
       "    <tr>\n",
       "      <th>1</th>\n",
       "      <td>Iyin</td>\n",
       "      <td>33</td>\n",
       "    </tr>\n",
       "    <tr>\n",
       "      <th>2</th>\n",
       "      <td>Aminat</td>\n",
       "      <td>18</td>\n",
       "    </tr>\n",
       "    <tr>\n",
       "      <th>4</th>\n",
       "      <td>Larry</td>\n",
       "      <td>20</td>\n",
       "    </tr>\n",
       "  </tbody>\n",
       "</table>\n",
       "</div>"
      ],
      "text/plain": [
       "     Name  Age\n",
       "0    Dele   22\n",
       "1    Iyin   33\n",
       "2  Aminat   18\n",
       "4   Larry   20"
      ]
     },
     "execution_count": 180,
     "metadata": {},
     "output_type": "execute_result"
    }
   ],
   "source": [
    "#To delete the duplicate function\n",
    "\n",
    "i_j.drop_duplicates('Name')"
   ]
  },
  {
   "cell_type": "code",
   "execution_count": 182,
   "id": "59bec11a",
   "metadata": {},
   "outputs": [
    {
     "data": {
      "text/html": [
       "<div>\n",
       "<style scoped>\n",
       "    .dataframe tbody tr th:only-of-type {\n",
       "        vertical-align: middle;\n",
       "    }\n",
       "\n",
       "    .dataframe tbody tr th {\n",
       "        vertical-align: top;\n",
       "    }\n",
       "\n",
       "    .dataframe thead th {\n",
       "        text-align: right;\n",
       "    }\n",
       "</style>\n",
       "<table border=\"1\" class=\"dataframe\">\n",
       "  <thead>\n",
       "    <tr style=\"text-align: right;\">\n",
       "      <th></th>\n",
       "      <th>Name</th>\n",
       "      <th>Age</th>\n",
       "    </tr>\n",
       "  </thead>\n",
       "  <tbody>\n",
       "    <tr>\n",
       "      <th>2</th>\n",
       "      <td>Aminat</td>\n",
       "      <td>18</td>\n",
       "    </tr>\n",
       "    <tr>\n",
       "      <th>4</th>\n",
       "      <td>Larry</td>\n",
       "      <td>20</td>\n",
       "    </tr>\n",
       "    <tr>\n",
       "      <th>0</th>\n",
       "      <td>Dele</td>\n",
       "      <td>22</td>\n",
       "    </tr>\n",
       "    <tr>\n",
       "      <th>3</th>\n",
       "      <td>Dele</td>\n",
       "      <td>22</td>\n",
       "    </tr>\n",
       "    <tr>\n",
       "      <th>1</th>\n",
       "      <td>Iyin</td>\n",
       "      <td>33</td>\n",
       "    </tr>\n",
       "  </tbody>\n",
       "</table>\n",
       "</div>"
      ],
      "text/plain": [
       "     Name  Age\n",
       "2  Aminat   18\n",
       "4   Larry   20\n",
       "0    Dele   22\n",
       "3    Dele   22\n",
       "1    Iyin   33"
      ]
     },
     "execution_count": 182,
     "metadata": {},
     "output_type": "execute_result"
    }
   ],
   "source": [
    "#Using sort_values() function to sort DataFrame\n",
    "\n",
    "i_j.sort_values('Age')"
   ]
  },
  {
   "cell_type": "code",
   "execution_count": 185,
   "id": "d1d1db4a",
   "metadata": {},
   "outputs": [
    {
     "data": {
      "text/html": [
       "<div>\n",
       "<style scoped>\n",
       "    .dataframe tbody tr th:only-of-type {\n",
       "        vertical-align: middle;\n",
       "    }\n",
       "\n",
       "    .dataframe tbody tr th {\n",
       "        vertical-align: top;\n",
       "    }\n",
       "\n",
       "    .dataframe thead th {\n",
       "        text-align: right;\n",
       "    }\n",
       "</style>\n",
       "<table border=\"1\" class=\"dataframe\">\n",
       "  <thead>\n",
       "    <tr style=\"text-align: right;\">\n",
       "      <th></th>\n",
       "      <th>Employer</th>\n",
       "      <th>Employer_Age</th>\n",
       "    </tr>\n",
       "  </thead>\n",
       "  <tbody>\n",
       "    <tr>\n",
       "      <th>0</th>\n",
       "      <td>Dele</td>\n",
       "      <td>22</td>\n",
       "    </tr>\n",
       "    <tr>\n",
       "      <th>1</th>\n",
       "      <td>Iyin</td>\n",
       "      <td>33</td>\n",
       "    </tr>\n",
       "    <tr>\n",
       "      <th>2</th>\n",
       "      <td>Aminat</td>\n",
       "      <td>18</td>\n",
       "    </tr>\n",
       "    <tr>\n",
       "      <th>3</th>\n",
       "      <td>Dele</td>\n",
       "      <td>22</td>\n",
       "    </tr>\n",
       "    <tr>\n",
       "      <th>4</th>\n",
       "      <td>Larry</td>\n",
       "      <td>20</td>\n",
       "    </tr>\n",
       "  </tbody>\n",
       "</table>\n",
       "</div>"
      ],
      "text/plain": [
       "  Employer  Employer_Age\n",
       "0     Dele            22\n",
       "1     Iyin            33\n",
       "2   Aminat            18\n",
       "3     Dele            22\n",
       "4    Larry            20"
      ]
     },
     "execution_count": 185,
     "metadata": {},
     "output_type": "execute_result"
    }
   ],
   "source": [
    "#Renaming the column head\n",
    "\n",
    "i_j.rename(columns={'Name':'Employer', 'Age':'Employer_Age'})"
   ]
  },
  {
   "cell_type": "code",
   "execution_count": 187,
   "id": "a06e49c8",
   "metadata": {},
   "outputs": [
    {
     "data": {
      "text/html": [
       "<div>\n",
       "<style scoped>\n",
       "    .dataframe tbody tr th:only-of-type {\n",
       "        vertical-align: middle;\n",
       "    }\n",
       "\n",
       "    .dataframe tbody tr th {\n",
       "        vertical-align: top;\n",
       "    }\n",
       "\n",
       "    .dataframe thead th {\n",
       "        text-align: right;\n",
       "    }\n",
       "</style>\n",
       "<table border=\"1\" class=\"dataframe\">\n",
       "  <thead>\n",
       "    <tr style=\"text-align: right;\">\n",
       "      <th></th>\n",
       "      <th>Age</th>\n",
       "    </tr>\n",
       "  </thead>\n",
       "  <tbody>\n",
       "    <tr>\n",
       "      <th>count</th>\n",
       "      <td>5.000000</td>\n",
       "    </tr>\n",
       "    <tr>\n",
       "      <th>mean</th>\n",
       "      <td>23.000000</td>\n",
       "    </tr>\n",
       "    <tr>\n",
       "      <th>std</th>\n",
       "      <td>5.830952</td>\n",
       "    </tr>\n",
       "    <tr>\n",
       "      <th>min</th>\n",
       "      <td>18.000000</td>\n",
       "    </tr>\n",
       "    <tr>\n",
       "      <th>25%</th>\n",
       "      <td>20.000000</td>\n",
       "    </tr>\n",
       "    <tr>\n",
       "      <th>50%</th>\n",
       "      <td>22.000000</td>\n",
       "    </tr>\n",
       "    <tr>\n",
       "      <th>75%</th>\n",
       "      <td>22.000000</td>\n",
       "    </tr>\n",
       "    <tr>\n",
       "      <th>max</th>\n",
       "      <td>33.000000</td>\n",
       "    </tr>\n",
       "  </tbody>\n",
       "</table>\n",
       "</div>"
      ],
      "text/plain": [
       "             Age\n",
       "count   5.000000\n",
       "mean   23.000000\n",
       "std     5.830952\n",
       "min    18.000000\n",
       "25%    20.000000\n",
       "50%    22.000000\n",
       "75%    22.000000\n",
       "max    33.000000"
      ]
     },
     "execution_count": 187,
     "metadata": {},
     "output_type": "execute_result"
    }
   ],
   "source": [
    "#Descriptive analysis\n",
    "\n",
    "i_j.describe()"
   ]
  },
  {
   "cell_type": "code",
   "execution_count": 189,
   "id": "d1fb266b",
   "metadata": {},
   "outputs": [
    {
     "data": {
      "text/html": [
       "<div>\n",
       "<style scoped>\n",
       "    .dataframe tbody tr th:only-of-type {\n",
       "        vertical-align: middle;\n",
       "    }\n",
       "\n",
       "    .dataframe tbody tr th {\n",
       "        vertical-align: top;\n",
       "    }\n",
       "\n",
       "    .dataframe thead th {\n",
       "        text-align: right;\n",
       "    }\n",
       "</style>\n",
       "<table border=\"1\" class=\"dataframe\">\n",
       "  <thead>\n",
       "    <tr style=\"text-align: right;\">\n",
       "      <th></th>\n",
       "      <th>Name</th>\n",
       "    </tr>\n",
       "  </thead>\n",
       "  <tbody>\n",
       "    <tr>\n",
       "      <th>count</th>\n",
       "      <td>5</td>\n",
       "    </tr>\n",
       "    <tr>\n",
       "      <th>unique</th>\n",
       "      <td>4</td>\n",
       "    </tr>\n",
       "    <tr>\n",
       "      <th>top</th>\n",
       "      <td>Dele</td>\n",
       "    </tr>\n",
       "    <tr>\n",
       "      <th>freq</th>\n",
       "      <td>2</td>\n",
       "    </tr>\n",
       "  </tbody>\n",
       "</table>\n",
       "</div>"
      ],
      "text/plain": [
       "        Name\n",
       "count      5\n",
       "unique     4\n",
       "top     Dele\n",
       "freq       2"
      ]
     },
     "execution_count": 189,
     "metadata": {},
     "output_type": "execute_result"
    }
   ],
   "source": [
    "#To get object value\n",
    "\n",
    "i_j.describe(include='object')"
   ]
  },
  {
   "cell_type": "code",
   "execution_count": 192,
   "id": "0a569dec",
   "metadata": {},
   "outputs": [
    {
     "data": {
      "text/html": [
       "<div>\n",
       "<style scoped>\n",
       "    .dataframe tbody tr th:only-of-type {\n",
       "        vertical-align: middle;\n",
       "    }\n",
       "\n",
       "    .dataframe tbody tr th {\n",
       "        vertical-align: top;\n",
       "    }\n",
       "\n",
       "    .dataframe thead th {\n",
       "        text-align: right;\n",
       "    }\n",
       "</style>\n",
       "<table border=\"1\" class=\"dataframe\">\n",
       "  <thead>\n",
       "    <tr style=\"text-align: right;\">\n",
       "      <th></th>\n",
       "      <th>Name</th>\n",
       "      <th>Age</th>\n",
       "    </tr>\n",
       "  </thead>\n",
       "  <tbody>\n",
       "    <tr>\n",
       "      <th>count</th>\n",
       "      <td>5</td>\n",
       "      <td>5.000000</td>\n",
       "    </tr>\n",
       "    <tr>\n",
       "      <th>unique</th>\n",
       "      <td>4</td>\n",
       "      <td>NaN</td>\n",
       "    </tr>\n",
       "    <tr>\n",
       "      <th>top</th>\n",
       "      <td>Dele</td>\n",
       "      <td>NaN</td>\n",
       "    </tr>\n",
       "    <tr>\n",
       "      <th>freq</th>\n",
       "      <td>2</td>\n",
       "      <td>NaN</td>\n",
       "    </tr>\n",
       "    <tr>\n",
       "      <th>mean</th>\n",
       "      <td>NaN</td>\n",
       "      <td>23.000000</td>\n",
       "    </tr>\n",
       "    <tr>\n",
       "      <th>std</th>\n",
       "      <td>NaN</td>\n",
       "      <td>5.830952</td>\n",
       "    </tr>\n",
       "    <tr>\n",
       "      <th>min</th>\n",
       "      <td>NaN</td>\n",
       "      <td>18.000000</td>\n",
       "    </tr>\n",
       "    <tr>\n",
       "      <th>25%</th>\n",
       "      <td>NaN</td>\n",
       "      <td>20.000000</td>\n",
       "    </tr>\n",
       "    <tr>\n",
       "      <th>50%</th>\n",
       "      <td>NaN</td>\n",
       "      <td>22.000000</td>\n",
       "    </tr>\n",
       "    <tr>\n",
       "      <th>75%</th>\n",
       "      <td>NaN</td>\n",
       "      <td>22.000000</td>\n",
       "    </tr>\n",
       "    <tr>\n",
       "      <th>max</th>\n",
       "      <td>NaN</td>\n",
       "      <td>33.000000</td>\n",
       "    </tr>\n",
       "  </tbody>\n",
       "</table>\n",
       "</div>"
      ],
      "text/plain": [
       "        Name        Age\n",
       "count      5   5.000000\n",
       "unique     4        NaN\n",
       "top     Dele        NaN\n",
       "freq       2        NaN\n",
       "mean     NaN  23.000000\n",
       "std      NaN   5.830952\n",
       "min      NaN  18.000000\n",
       "25%      NaN  20.000000\n",
       "50%      NaN  22.000000\n",
       "75%      NaN  22.000000\n",
       "max      NaN  33.000000"
      ]
     },
     "execution_count": 192,
     "metadata": {},
     "output_type": "execute_result"
    }
   ],
   "source": [
    "#To get more information including Numerical info\n",
    "\n",
    "i_j.describe(include='all')"
   ]
  },
  {
   "cell_type": "code",
   "execution_count": 208,
   "id": "51fe28aa",
   "metadata": {},
   "outputs": [
    {
     "name": "stdout",
     "output_type": "stream",
     "text": [
      "33\n"
     ]
    }
   ],
   "source": [
    "#Others information of descriptive analysis\n",
    "\n",
    "k = i_j.sum()                               #This calc the total sum\n",
    "l = i_j['Age'].sum()                        #This gives the age sum alone\n",
    "m = i_j['Age'].count()                      #This count the total data/column we have\n",
    "n = i_j['Age'].median()                     #This gives the median number\n",
    "o = i_j['Age'].mode()                       #Mode means highest occurence number\n",
    "p = i_j['Age'].std()                        #This gives the standard deviation of age \n",
    "q = i_j['Age'].min()                        #This gives the min value of Age\n",
    "r = i_j['Age'].max()                        #This gives the max value of Age\n",
    "\n",
    "print(r)"
   ]
  },
  {
   "cell_type": "code",
   "execution_count": 240,
   "id": "f338ec83",
   "metadata": {},
   "outputs": [
    {
     "name": "stdout",
     "output_type": "stream",
     "text": [
      "   s_name  address     contact\n",
      "1  Sreenu      Hyd  9292005440\n",
      "2    Vasu     Bang  9898989898\n",
      "3   Nivas  Chennai  9696969696\n",
      "4   Reddy     Pune  9595959595\n",
      "5     Sai   Mumbai  9292929292\n",
      "   s_name           course    fee\n",
      "1  Sreenu      DataScience  20000\n",
      "2    Vasu  MachineLearning  15000\n",
      "3   Nivas    DataAnalytics  10000\n",
      "4   Reddy                R   8000\n",
      "5     Sai           Python  10000\n"
     ]
    }
   ],
   "source": [
    "#Merging/Joining of two DataFrame\n",
    "\n",
    "student_details = pd.DataFrame({'s_name':['Sreenu','Vasu','Nivas','Reddy','Sai'], 'address':['Hyd','Bang','Chennai','Pune','Mumbai'], 'contact':[9292005440,9898989898,9696969696,9595959595,9292929292]}, index=[1,2,3,4,5])\n",
    "course_details = pd.DataFrame({'s_name':['Sreenu','Vasu','Nivas','Reddy','Sai'], 'course':['DataScience','MachineLearning','DataAnalytics','R','Python'], 'fee':[20000,15000,10000,8000,10000]}, index=[1,2,3,4,5])\n",
    "\n",
    "print(student_details)\n",
    "print(course_details)"
   ]
  },
  {
   "cell_type": "code",
   "execution_count": 241,
   "id": "39b40a0b",
   "metadata": {},
   "outputs": [
    {
     "data": {
      "text/html": [
       "<div>\n",
       "<style scoped>\n",
       "    .dataframe tbody tr th:only-of-type {\n",
       "        vertical-align: middle;\n",
       "    }\n",
       "\n",
       "    .dataframe tbody tr th {\n",
       "        vertical-align: top;\n",
       "    }\n",
       "\n",
       "    .dataframe thead th {\n",
       "        text-align: right;\n",
       "    }\n",
       "</style>\n",
       "<table border=\"1\" class=\"dataframe\">\n",
       "  <thead>\n",
       "    <tr style=\"text-align: right;\">\n",
       "      <th></th>\n",
       "      <th>s_name</th>\n",
       "      <th>address</th>\n",
       "      <th>contact</th>\n",
       "      <th>course</th>\n",
       "      <th>fee</th>\n",
       "    </tr>\n",
       "  </thead>\n",
       "  <tbody>\n",
       "    <tr>\n",
       "      <th>0</th>\n",
       "      <td>Sreenu</td>\n",
       "      <td>Hyd</td>\n",
       "      <td>9292005440</td>\n",
       "      <td>DataScience</td>\n",
       "      <td>20000</td>\n",
       "    </tr>\n",
       "    <tr>\n",
       "      <th>1</th>\n",
       "      <td>Vasu</td>\n",
       "      <td>Bang</td>\n",
       "      <td>9898989898</td>\n",
       "      <td>MachineLearning</td>\n",
       "      <td>15000</td>\n",
       "    </tr>\n",
       "    <tr>\n",
       "      <th>2</th>\n",
       "      <td>Nivas</td>\n",
       "      <td>Chennai</td>\n",
       "      <td>9696969696</td>\n",
       "      <td>DataAnalytics</td>\n",
       "      <td>10000</td>\n",
       "    </tr>\n",
       "    <tr>\n",
       "      <th>3</th>\n",
       "      <td>Reddy</td>\n",
       "      <td>Pune</td>\n",
       "      <td>9595959595</td>\n",
       "      <td>R</td>\n",
       "      <td>8000</td>\n",
       "    </tr>\n",
       "    <tr>\n",
       "      <th>4</th>\n",
       "      <td>Sai</td>\n",
       "      <td>Mumbai</td>\n",
       "      <td>9292929292</td>\n",
       "      <td>Python</td>\n",
       "      <td>10000</td>\n",
       "    </tr>\n",
       "  </tbody>\n",
       "</table>\n",
       "</div>"
      ],
      "text/plain": [
       "   s_name  address     contact           course    fee\n",
       "0  Sreenu      Hyd  9292005440      DataScience  20000\n",
       "1    Vasu     Bang  9898989898  MachineLearning  15000\n",
       "2   Nivas  Chennai  9696969696    DataAnalytics  10000\n",
       "3   Reddy     Pune  9595959595                R   8000\n",
       "4     Sai   Mumbai  9292929292           Python  10000"
      ]
     },
     "execution_count": 241,
     "metadata": {},
     "output_type": "execute_result"
    }
   ],
   "source": [
    "#Now lets merge the two data\n",
    "\n",
    "pd.merge(student_details,course_details, on='s_name', how='inner')"
   ]
  },
  {
   "cell_type": "code",
   "execution_count": 242,
   "id": "ab8b71f5",
   "metadata": {},
   "outputs": [
    {
     "name": "stdout",
     "output_type": "stream",
     "text": [
      "  student_name  address     contact\n",
      "1       Sreenu      Hyd  9292005440\n",
      "2         Vasu     Bang  9898989898\n",
      "3        Nivas  Chennai  9696969696\n",
      "4        Reddy     Pune  9595959595\n",
      "5          Sai   Mumbai  9292929292\n"
     ]
    }
   ],
   "source": [
    "#changing some/updating s_name to student_name, Nivas to Rama and Sai to Sita\n",
    "\n",
    "student_details = student_details.rename(columns={'s_name':'student_name'})\n",
    "\n",
    "print(student_details)"
   ]
  },
  {
   "cell_type": "code",
   "execution_count": 249,
   "id": "f245347d",
   "metadata": {},
   "outputs": [
    {
     "data": {
      "text/html": [
       "<div>\n",
       "<style scoped>\n",
       "    .dataframe tbody tr th:only-of-type {\n",
       "        vertical-align: middle;\n",
       "    }\n",
       "\n",
       "    .dataframe tbody tr th {\n",
       "        vertical-align: top;\n",
       "    }\n",
       "\n",
       "    .dataframe thead th {\n",
       "        text-align: right;\n",
       "    }\n",
       "</style>\n",
       "<table border=\"1\" class=\"dataframe\">\n",
       "  <thead>\n",
       "    <tr style=\"text-align: right;\">\n",
       "      <th></th>\n",
       "      <th>student_name</th>\n",
       "      <th>address</th>\n",
       "      <th>contact</th>\n",
       "    </tr>\n",
       "  </thead>\n",
       "  <tbody>\n",
       "    <tr>\n",
       "      <th>1</th>\n",
       "      <td>Sreenu</td>\n",
       "      <td>Hyd</td>\n",
       "      <td>9292005440</td>\n",
       "    </tr>\n",
       "    <tr>\n",
       "      <th>2</th>\n",
       "      <td>Vasu</td>\n",
       "      <td>Bang</td>\n",
       "      <td>9898989898</td>\n",
       "    </tr>\n",
       "    <tr>\n",
       "      <th>3</th>\n",
       "      <td>Rama</td>\n",
       "      <td>Chennai</td>\n",
       "      <td>9696969696</td>\n",
       "    </tr>\n",
       "    <tr>\n",
       "      <th>4</th>\n",
       "      <td>Reddy</td>\n",
       "      <td>Pune</td>\n",
       "      <td>9595959595</td>\n",
       "    </tr>\n",
       "    <tr>\n",
       "      <th>5</th>\n",
       "      <td>Sita</td>\n",
       "      <td>Mumbai</td>\n",
       "      <td>9292929292</td>\n",
       "    </tr>\n",
       "  </tbody>\n",
       "</table>\n",
       "</div>"
      ],
      "text/plain": [
       "  student_name  address     contact\n",
       "1       Sreenu      Hyd  9292005440\n",
       "2         Vasu     Bang  9898989898\n",
       "3         Rama  Chennai  9696969696\n",
       "4        Reddy     Pune  9595959595\n",
       "5         Sita   Mumbai  9292929292"
      ]
     },
     "execution_count": 249,
     "metadata": {},
     "output_type": "execute_result"
    }
   ],
   "source": [
    "#to change the name of Nivas and Sai\n",
    "\n",
    "#student_details['student_name'][3] = 'Vasu' or used the loc/iloc function\n",
    "student_details.iloc[2,0] = 'Rama'\n",
    "student_details.loc[5,'student_name'] = 'Sita'\n",
    "\n",
    "student_details"
   ]
  },
  {
   "cell_type": "code",
   "execution_count": 256,
   "id": "886bac5b",
   "metadata": {},
   "outputs": [
    {
     "data": {
      "text/html": [
       "<div>\n",
       "<style scoped>\n",
       "    .dataframe tbody tr th:only-of-type {\n",
       "        vertical-align: middle;\n",
       "    }\n",
       "\n",
       "    .dataframe tbody tr th {\n",
       "        vertical-align: top;\n",
       "    }\n",
       "\n",
       "    .dataframe thead th {\n",
       "        text-align: right;\n",
       "    }\n",
       "</style>\n",
       "<table border=\"1\" class=\"dataframe\">\n",
       "  <thead>\n",
       "    <tr style=\"text-align: right;\">\n",
       "      <th></th>\n",
       "      <th>student_name</th>\n",
       "      <th>address</th>\n",
       "      <th>contact</th>\n",
       "      <th>s_name</th>\n",
       "      <th>course</th>\n",
       "      <th>fee</th>\n",
       "    </tr>\n",
       "  </thead>\n",
       "  <tbody>\n",
       "    <tr>\n",
       "      <th>0</th>\n",
       "      <td>Sreenu</td>\n",
       "      <td>Hyd</td>\n",
       "      <td>9292005440</td>\n",
       "      <td>Sreenu</td>\n",
       "      <td>DataScience</td>\n",
       "      <td>20000</td>\n",
       "    </tr>\n",
       "    <tr>\n",
       "      <th>1</th>\n",
       "      <td>Vasu</td>\n",
       "      <td>Bang</td>\n",
       "      <td>9898989898</td>\n",
       "      <td>Vasu</td>\n",
       "      <td>MachineLearning</td>\n",
       "      <td>15000</td>\n",
       "    </tr>\n",
       "    <tr>\n",
       "      <th>2</th>\n",
       "      <td>Reddy</td>\n",
       "      <td>Pune</td>\n",
       "      <td>9595959595</td>\n",
       "      <td>Reddy</td>\n",
       "      <td>R</td>\n",
       "      <td>8000</td>\n",
       "    </tr>\n",
       "  </tbody>\n",
       "</table>\n",
       "</div>"
      ],
      "text/plain": [
       "  student_name address     contact  s_name           course    fee\n",
       "0       Sreenu     Hyd  9292005440  Sreenu      DataScience  20000\n",
       "1         Vasu    Bang  9898989898    Vasu  MachineLearning  15000\n",
       "2        Reddy    Pune  9595959595   Reddy                R   8000"
      ]
     },
     "execution_count": 256,
     "metadata": {},
     "output_type": "execute_result"
    }
   ],
   "source": [
    "#Using Inner how merging type\n",
    "\n",
    "pd.merge(student_details, course_details, left_on='student_name', right_on='s_name', how='inner')"
   ]
  },
  {
   "cell_type": "code",
   "execution_count": 258,
   "id": "57ee22e3",
   "metadata": {},
   "outputs": [
    {
     "data": {
      "text/html": [
       "<div>\n",
       "<style scoped>\n",
       "    .dataframe tbody tr th:only-of-type {\n",
       "        vertical-align: middle;\n",
       "    }\n",
       "\n",
       "    .dataframe tbody tr th {\n",
       "        vertical-align: top;\n",
       "    }\n",
       "\n",
       "    .dataframe thead th {\n",
       "        text-align: right;\n",
       "    }\n",
       "</style>\n",
       "<table border=\"1\" class=\"dataframe\">\n",
       "  <thead>\n",
       "    <tr style=\"text-align: right;\">\n",
       "      <th></th>\n",
       "      <th>student_name</th>\n",
       "      <th>address</th>\n",
       "      <th>contact</th>\n",
       "      <th>s_name</th>\n",
       "      <th>course</th>\n",
       "      <th>fee</th>\n",
       "    </tr>\n",
       "  </thead>\n",
       "  <tbody>\n",
       "    <tr>\n",
       "      <th>0</th>\n",
       "      <td>Sreenu</td>\n",
       "      <td>Hyd</td>\n",
       "      <td>9.292005e+09</td>\n",
       "      <td>Sreenu</td>\n",
       "      <td>DataScience</td>\n",
       "      <td>20000.0</td>\n",
       "    </tr>\n",
       "    <tr>\n",
       "      <th>1</th>\n",
       "      <td>Vasu</td>\n",
       "      <td>Bang</td>\n",
       "      <td>9.898990e+09</td>\n",
       "      <td>Vasu</td>\n",
       "      <td>MachineLearning</td>\n",
       "      <td>15000.0</td>\n",
       "    </tr>\n",
       "    <tr>\n",
       "      <th>2</th>\n",
       "      <td>Rama</td>\n",
       "      <td>Chennai</td>\n",
       "      <td>9.696970e+09</td>\n",
       "      <td>NaN</td>\n",
       "      <td>NaN</td>\n",
       "      <td>NaN</td>\n",
       "    </tr>\n",
       "    <tr>\n",
       "      <th>3</th>\n",
       "      <td>Reddy</td>\n",
       "      <td>Pune</td>\n",
       "      <td>9.595960e+09</td>\n",
       "      <td>Reddy</td>\n",
       "      <td>R</td>\n",
       "      <td>8000.0</td>\n",
       "    </tr>\n",
       "    <tr>\n",
       "      <th>4</th>\n",
       "      <td>Sita</td>\n",
       "      <td>Mumbai</td>\n",
       "      <td>9.292929e+09</td>\n",
       "      <td>NaN</td>\n",
       "      <td>NaN</td>\n",
       "      <td>NaN</td>\n",
       "    </tr>\n",
       "    <tr>\n",
       "      <th>5</th>\n",
       "      <td>NaN</td>\n",
       "      <td>NaN</td>\n",
       "      <td>NaN</td>\n",
       "      <td>Nivas</td>\n",
       "      <td>DataAnalytics</td>\n",
       "      <td>10000.0</td>\n",
       "    </tr>\n",
       "    <tr>\n",
       "      <th>6</th>\n",
       "      <td>NaN</td>\n",
       "      <td>NaN</td>\n",
       "      <td>NaN</td>\n",
       "      <td>Sai</td>\n",
       "      <td>Python</td>\n",
       "      <td>10000.0</td>\n",
       "    </tr>\n",
       "  </tbody>\n",
       "</table>\n",
       "</div>"
      ],
      "text/plain": [
       "  student_name  address       contact  s_name           course      fee\n",
       "0       Sreenu      Hyd  9.292005e+09  Sreenu      DataScience  20000.0\n",
       "1         Vasu     Bang  9.898990e+09    Vasu  MachineLearning  15000.0\n",
       "2         Rama  Chennai  9.696970e+09     NaN              NaN      NaN\n",
       "3        Reddy     Pune  9.595960e+09   Reddy                R   8000.0\n",
       "4         Sita   Mumbai  9.292929e+09     NaN              NaN      NaN\n",
       "5          NaN      NaN           NaN   Nivas    DataAnalytics  10000.0\n",
       "6          NaN      NaN           NaN     Sai           Python  10000.0"
      ]
     },
     "execution_count": 258,
     "metadata": {},
     "output_type": "execute_result"
    }
   ],
   "source": [
    "#Using Outer how merging type\n",
    "\n",
    "pd.merge(student_details, course_details, left_on='student_name', right_on='s_name', how='outer')"
   ]
  },
  {
   "cell_type": "code",
   "execution_count": 260,
   "id": "44338c6f",
   "metadata": {},
   "outputs": [
    {
     "data": {
      "text/html": [
       "<div>\n",
       "<style scoped>\n",
       "    .dataframe tbody tr th:only-of-type {\n",
       "        vertical-align: middle;\n",
       "    }\n",
       "\n",
       "    .dataframe tbody tr th {\n",
       "        vertical-align: top;\n",
       "    }\n",
       "\n",
       "    .dataframe thead th {\n",
       "        text-align: right;\n",
       "    }\n",
       "</style>\n",
       "<table border=\"1\" class=\"dataframe\">\n",
       "  <thead>\n",
       "    <tr style=\"text-align: right;\">\n",
       "      <th></th>\n",
       "      <th>student_name</th>\n",
       "      <th>address</th>\n",
       "      <th>contact</th>\n",
       "      <th>s_name</th>\n",
       "      <th>course</th>\n",
       "      <th>fee</th>\n",
       "    </tr>\n",
       "  </thead>\n",
       "  <tbody>\n",
       "    <tr>\n",
       "      <th>0</th>\n",
       "      <td>Sreenu</td>\n",
       "      <td>Hyd</td>\n",
       "      <td>9292005440</td>\n",
       "      <td>Sreenu</td>\n",
       "      <td>DataScience</td>\n",
       "      <td>20000.0</td>\n",
       "    </tr>\n",
       "    <tr>\n",
       "      <th>1</th>\n",
       "      <td>Vasu</td>\n",
       "      <td>Bang</td>\n",
       "      <td>9898989898</td>\n",
       "      <td>Vasu</td>\n",
       "      <td>MachineLearning</td>\n",
       "      <td>15000.0</td>\n",
       "    </tr>\n",
       "    <tr>\n",
       "      <th>2</th>\n",
       "      <td>Rama</td>\n",
       "      <td>Chennai</td>\n",
       "      <td>9696969696</td>\n",
       "      <td>NaN</td>\n",
       "      <td>NaN</td>\n",
       "      <td>NaN</td>\n",
       "    </tr>\n",
       "    <tr>\n",
       "      <th>3</th>\n",
       "      <td>Reddy</td>\n",
       "      <td>Pune</td>\n",
       "      <td>9595959595</td>\n",
       "      <td>Reddy</td>\n",
       "      <td>R</td>\n",
       "      <td>8000.0</td>\n",
       "    </tr>\n",
       "    <tr>\n",
       "      <th>4</th>\n",
       "      <td>Sita</td>\n",
       "      <td>Mumbai</td>\n",
       "      <td>9292929292</td>\n",
       "      <td>NaN</td>\n",
       "      <td>NaN</td>\n",
       "      <td>NaN</td>\n",
       "    </tr>\n",
       "  </tbody>\n",
       "</table>\n",
       "</div>"
      ],
      "text/plain": [
       "  student_name  address     contact  s_name           course      fee\n",
       "0       Sreenu      Hyd  9292005440  Sreenu      DataScience  20000.0\n",
       "1         Vasu     Bang  9898989898    Vasu  MachineLearning  15000.0\n",
       "2         Rama  Chennai  9696969696     NaN              NaN      NaN\n",
       "3        Reddy     Pune  9595959595   Reddy                R   8000.0\n",
       "4         Sita   Mumbai  9292929292     NaN              NaN      NaN"
      ]
     },
     "execution_count": 260,
     "metadata": {},
     "output_type": "execute_result"
    }
   ],
   "source": [
    "#Using the left outer how merging type\n",
    "\n",
    "pd.merge(student_details, course_details, left_on='student_name', right_on='s_name', how='left')"
   ]
  },
  {
   "cell_type": "code",
   "execution_count": 262,
   "id": "fff9e2bf",
   "metadata": {},
   "outputs": [
    {
     "data": {
      "text/html": [
       "<div>\n",
       "<style scoped>\n",
       "    .dataframe tbody tr th:only-of-type {\n",
       "        vertical-align: middle;\n",
       "    }\n",
       "\n",
       "    .dataframe tbody tr th {\n",
       "        vertical-align: top;\n",
       "    }\n",
       "\n",
       "    .dataframe thead th {\n",
       "        text-align: right;\n",
       "    }\n",
       "</style>\n",
       "<table border=\"1\" class=\"dataframe\">\n",
       "  <thead>\n",
       "    <tr style=\"text-align: right;\">\n",
       "      <th></th>\n",
       "      <th>student_name</th>\n",
       "      <th>address</th>\n",
       "      <th>contact</th>\n",
       "      <th>s_name</th>\n",
       "      <th>course</th>\n",
       "      <th>fee</th>\n",
       "    </tr>\n",
       "  </thead>\n",
       "  <tbody>\n",
       "    <tr>\n",
       "      <th>0</th>\n",
       "      <td>Sreenu</td>\n",
       "      <td>Hyd</td>\n",
       "      <td>9.292005e+09</td>\n",
       "      <td>Sreenu</td>\n",
       "      <td>DataScience</td>\n",
       "      <td>20000</td>\n",
       "    </tr>\n",
       "    <tr>\n",
       "      <th>1</th>\n",
       "      <td>Vasu</td>\n",
       "      <td>Bang</td>\n",
       "      <td>9.898990e+09</td>\n",
       "      <td>Vasu</td>\n",
       "      <td>MachineLearning</td>\n",
       "      <td>15000</td>\n",
       "    </tr>\n",
       "    <tr>\n",
       "      <th>2</th>\n",
       "      <td>NaN</td>\n",
       "      <td>NaN</td>\n",
       "      <td>NaN</td>\n",
       "      <td>Nivas</td>\n",
       "      <td>DataAnalytics</td>\n",
       "      <td>10000</td>\n",
       "    </tr>\n",
       "    <tr>\n",
       "      <th>3</th>\n",
       "      <td>Reddy</td>\n",
       "      <td>Pune</td>\n",
       "      <td>9.595960e+09</td>\n",
       "      <td>Reddy</td>\n",
       "      <td>R</td>\n",
       "      <td>8000</td>\n",
       "    </tr>\n",
       "    <tr>\n",
       "      <th>4</th>\n",
       "      <td>NaN</td>\n",
       "      <td>NaN</td>\n",
       "      <td>NaN</td>\n",
       "      <td>Sai</td>\n",
       "      <td>Python</td>\n",
       "      <td>10000</td>\n",
       "    </tr>\n",
       "  </tbody>\n",
       "</table>\n",
       "</div>"
      ],
      "text/plain": [
       "  student_name address       contact  s_name           course    fee\n",
       "0       Sreenu     Hyd  9.292005e+09  Sreenu      DataScience  20000\n",
       "1         Vasu    Bang  9.898990e+09    Vasu  MachineLearning  15000\n",
       "2          NaN     NaN           NaN   Nivas    DataAnalytics  10000\n",
       "3        Reddy    Pune  9.595960e+09   Reddy                R   8000\n",
       "4          NaN     NaN           NaN     Sai           Python  10000"
      ]
     },
     "execution_count": 262,
     "metadata": {},
     "output_type": "execute_result"
    }
   ],
   "source": [
    "#Using the right outer how merging type\n",
    "\n",
    "pd.merge(student_details, course_details, left_on='student_name', right_on='s_name', how='right')"
   ]
  },
  {
   "cell_type": "code",
   "execution_count": 268,
   "id": "9624357b",
   "metadata": {},
   "outputs": [
    {
     "data": {
      "text/html": [
       "<div>\n",
       "<style scoped>\n",
       "    .dataframe tbody tr th:only-of-type {\n",
       "        vertical-align: middle;\n",
       "    }\n",
       "\n",
       "    .dataframe tbody tr th {\n",
       "        vertical-align: top;\n",
       "    }\n",
       "\n",
       "    .dataframe thead th {\n",
       "        text-align: right;\n",
       "    }\n",
       "</style>\n",
       "<table border=\"1\" class=\"dataframe\">\n",
       "  <thead>\n",
       "    <tr style=\"text-align: right;\">\n",
       "      <th></th>\n",
       "      <th>student_name</th>\n",
       "      <th>address</th>\n",
       "      <th>contact</th>\n",
       "      <th>s_name</th>\n",
       "      <th>course</th>\n",
       "      <th>fee</th>\n",
       "    </tr>\n",
       "  </thead>\n",
       "  <tbody>\n",
       "    <tr>\n",
       "      <th>0</th>\n",
       "      <td>NaN</td>\n",
       "      <td>NaN</td>\n",
       "      <td>NaN</td>\n",
       "      <td>Nivas</td>\n",
       "      <td>DataAnalytics</td>\n",
       "      <td>10000</td>\n",
       "    </tr>\n",
       "    <tr>\n",
       "      <th>1</th>\n",
       "      <td>Reddy</td>\n",
       "      <td>Pune</td>\n",
       "      <td>9.595960e+09</td>\n",
       "      <td>Reddy</td>\n",
       "      <td>R</td>\n",
       "      <td>8000</td>\n",
       "    </tr>\n",
       "    <tr>\n",
       "      <th>2</th>\n",
       "      <td>NaN</td>\n",
       "      <td>NaN</td>\n",
       "      <td>NaN</td>\n",
       "      <td>Sai</td>\n",
       "      <td>Python</td>\n",
       "      <td>10000</td>\n",
       "    </tr>\n",
       "    <tr>\n",
       "      <th>3</th>\n",
       "      <td>Sreenu</td>\n",
       "      <td>Hyd</td>\n",
       "      <td>9.292005e+09</td>\n",
       "      <td>Sreenu</td>\n",
       "      <td>DataScience</td>\n",
       "      <td>20000</td>\n",
       "    </tr>\n",
       "    <tr>\n",
       "      <th>4</th>\n",
       "      <td>Vasu</td>\n",
       "      <td>Bang</td>\n",
       "      <td>9.898990e+09</td>\n",
       "      <td>Vasu</td>\n",
       "      <td>MachineLearning</td>\n",
       "      <td>15000</td>\n",
       "    </tr>\n",
       "  </tbody>\n",
       "</table>\n",
       "</div>"
      ],
      "text/plain": [
       "  student_name address       contact  s_name           course    fee\n",
       "0          NaN     NaN           NaN   Nivas    DataAnalytics  10000\n",
       "1        Reddy    Pune  9.595960e+09   Reddy                R   8000\n",
       "2          NaN     NaN           NaN     Sai           Python  10000\n",
       "3       Sreenu     Hyd  9.292005e+09  Sreenu      DataScience  20000\n",
       "4         Vasu    Bang  9.898990e+09    Vasu  MachineLearning  15000"
      ]
     },
     "execution_count": 268,
     "metadata": {},
     "output_type": "execute_result"
    }
   ],
   "source": [
    "#Using the sort\n",
    "\n",
    "pd.merge(student_details, course_details, left_on='student_name', right_on='s_name', how='right', sort=True)"
   ]
  },
  {
   "cell_type": "code",
   "execution_count": null,
   "id": "4c997c90",
   "metadata": {},
   "outputs": [],
   "source": []
  },
  {
   "cell_type": "code",
   "execution_count": 271,
   "id": "ee80abed",
   "metadata": {},
   "outputs": [
    {
     "name": "stdout",
     "output_type": "stream",
     "text": [
      "0               Michael\n",
      "1    DATAhill Solutions\n",
      "2            8114682648\n",
      "3             Hyderabad\n",
      "4      info@datahill.in\n",
      "5       www.datahill.in\n",
      "dtype: object\n"
     ]
    }
   ],
   "source": [
    "# Working with Text Data\n",
    "\n",
    "s = pd.Series(['Michael','DATAhill Solutions','8114682648','Hyderabad','info@datahill.in','www.datahill.in'])\n",
    "\n",
    "print(s)"
   ]
  },
  {
   "cell_type": "code",
   "execution_count": 289,
   "id": "6fd703c3",
   "metadata": {},
   "outputs": [
    {
     "data": {
      "text/plain": [
       "0               MICHAEL\n",
       "1    DATAHILL SOLUTIONS\n",
       "2            8114682648\n",
       "3             HYDERABAD\n",
       "4      INFO@DATAHILL.IN\n",
       "5       WWW.DATAHILL.IN\n",
       "dtype: object"
      ]
     },
     "execution_count": 289,
     "metadata": {},
     "output_type": "execute_result"
    }
   ],
   "source": [
    "s.str.islower()         #To check if all the texts are lowercase"
   ]
  },
  {
   "cell_type": "code",
   "execution_count": 290,
   "id": "a5755cd1",
   "metadata": {},
   "outputs": [
    {
     "data": {
      "text/plain": [
       "0    False\n",
       "1    False\n",
       "2    False\n",
       "3    False\n",
       "4    False\n",
       "5    False\n",
       "dtype: bool"
      ]
     },
     "execution_count": 290,
     "metadata": {},
     "output_type": "execute_result"
    }
   ],
   "source": [
    "s.str.isupper()         #To check if all the texts are upper"
   ]
  },
  {
   "cell_type": "code",
   "execution_count": 292,
   "id": "6b293d81",
   "metadata": {},
   "outputs": [
    {
     "data": {
      "text/plain": [
       "0    False\n",
       "1    False\n",
       "2     True\n",
       "3    False\n",
       "4    False\n",
       "5    False\n",
       "dtype: bool"
      ]
     },
     "execution_count": 292,
     "metadata": {},
     "output_type": "execute_result"
    }
   ],
   "source": [
    "s.str.isnumeric()        #To know if all the text are in numbers"
   ]
  },
  {
   "cell_type": "code",
   "execution_count": 294,
   "id": "bf747134",
   "metadata": {},
   "outputs": [
    {
     "data": {
      "text/plain": [
       "0               michael\n",
       "1    datahill solutions\n",
       "2            8114682648\n",
       "3             hyderabad\n",
       "4      info@datahill.in\n",
       "5       www.datahill.in\n",
       "dtype: object"
      ]
     },
     "execution_count": 294,
     "metadata": {},
     "output_type": "execute_result"
    }
   ],
   "source": [
    "s.str.lower()            #To convert all text to lowercase"
   ]
  },
  {
   "cell_type": "code",
   "execution_count": 295,
   "id": "0dd69900",
   "metadata": {},
   "outputs": [
    {
     "data": {
      "text/plain": [
       "0               MICHAEL\n",
       "1    DATAHILL SOLUTIONS\n",
       "2            8114682648\n",
       "3             HYDERABAD\n",
       "4      INFO@DATAHILL.IN\n",
       "5       WWW.DATAHILL.IN\n",
       "dtype: object"
      ]
     },
     "execution_count": 295,
     "metadata": {},
     "output_type": "execute_result"
    }
   ],
   "source": [
    "s.str.upper()            #To convert all text to uppercase"
   ]
  },
  {
   "cell_type": "code",
   "execution_count": 297,
   "id": "4112a643",
   "metadata": {},
   "outputs": [
    {
     "data": {
      "text/plain": [
       "0               mICHAEL\n",
       "1    dataHILL sOLUTIONS\n",
       "2            8114682648\n",
       "3             hYDERABAD\n",
       "4      INFO@DATAHILL.IN\n",
       "5       WWW.DATAHILL.IN\n",
       "dtype: object"
      ]
     },
     "execution_count": 297,
     "metadata": {},
     "output_type": "execute_result"
    }
   ],
   "source": [
    "s.str.swapcase()"
   ]
  },
  {
   "cell_type": "code",
   "execution_count": 299,
   "id": "212d0b90",
   "metadata": {},
   "outputs": [
    {
     "data": {
      "text/plain": [
       "0     7\n",
       "1    18\n",
       "2    10\n",
       "3     9\n",
       "4    16\n",
       "5    15\n",
       "dtype: int64"
      ]
     },
     "execution_count": 299,
     "metadata": {},
     "output_type": "execute_result"
    }
   ],
   "source": [
    "s.str.len()           #To know the length/size of each text"
   ]
  },
  {
   "cell_type": "code",
   "execution_count": 304,
   "id": "03021f86",
   "metadata": {},
   "outputs": [
    {
     "data": {
      "text/plain": [
       "'Michael DATAhill Solutions 8114682648 Hyderabad info@datahill.in www.datahill.in'"
      ]
     },
     "execution_count": 304,
     "metadata": {},
     "output_type": "execute_result"
    }
   ],
   "source": [
    "s.str.cat()            #This is for concatenating text together\n",
    "s.str.cat(sep=' ')     #with seperator we can give space to the text concatenated"
   ]
  },
  {
   "cell_type": "code",
   "execution_count": 306,
   "id": "17f5baa4",
   "metadata": {},
   "outputs": [
    {
     "data": {
      "text/plain": [
       "0               Michael\n",
       "1    DATAhill Solutions\n",
       "2            8114682648\n",
       "3             Hyderabad\n",
       "4      info$datahill.in\n",
       "5       www.datahill.in\n",
       "dtype: object"
      ]
     },
     "execution_count": 306,
     "metadata": {},
     "output_type": "execute_result"
    }
   ],
   "source": [
    "s.str.replace('@','$')     #This is used to replace text/string to another words"
   ]
  },
  {
   "cell_type": "code",
   "execution_count": 308,
   "id": "e4f3679d",
   "metadata": {},
   "outputs": [
    {
     "data": {
      "text/plain": [
       "0                          MichaelMichael\n",
       "1    DATAhill SolutionsDATAhill Solutions\n",
       "2                    81146826488114682648\n",
       "3                      HyderabadHyderabad\n",
       "4        info@datahill.ininfo@datahill.in\n",
       "5          www.datahill.inwww.datahill.in\n",
       "dtype: object"
      ]
     },
     "execution_count": 308,
     "metadata": {},
     "output_type": "execute_result"
    }
   ],
   "source": [
    "s.str.repeat(2)           #This is used to repeat the text/string twice(2)"
   ]
  },
  {
   "cell_type": "code",
   "execution_count": 310,
   "id": "2b7fea3f",
   "metadata": {},
   "outputs": [
    {
     "data": {
      "text/plain": [
       "0    0\n",
       "1    1\n",
       "2    0\n",
       "3    0\n",
       "4    0\n",
       "5    0\n",
       "dtype: int64"
      ]
     },
     "execution_count": 310,
     "metadata": {},
     "output_type": "execute_result"
    }
   ],
   "source": [
    "s.str.count('s')       #This is used to count s in each text"
   ]
  },
  {
   "cell_type": "code",
   "execution_count": 312,
   "id": "9bf6ae23",
   "metadata": {},
   "outputs": [
    {
     "data": {
      "text/plain": [
       "0    False\n",
       "1    False\n",
       "2    False\n",
       "3    False\n",
       "4    False\n",
       "5    False\n",
       "dtype: bool"
      ]
     },
     "execution_count": 312,
     "metadata": {},
     "output_type": "execute_result"
    }
   ],
   "source": [
    "s.str.startswith ('P')    #To know if the text starts with a word i.e letter 'P'"
   ]
  },
  {
   "cell_type": "code",
   "execution_count": 315,
   "id": "da16fc82",
   "metadata": {},
   "outputs": [
    {
     "data": {
      "text/plain": [
       "0     True\n",
       "1    False\n",
       "2    False\n",
       "3    False\n",
       "4    False\n",
       "5    False\n",
       "dtype: bool"
      ]
     },
     "execution_count": 315,
     "metadata": {},
     "output_type": "execute_result"
    }
   ],
   "source": [
    "s.str.endswith('l')       #To know if the text/string end with a word, i.e 'l'"
   ]
  },
  {
   "cell_type": "code",
   "execution_count": null,
   "id": "8a83afc1",
   "metadata": {},
   "outputs": [],
   "source": [
    "  "
   ]
  },
  {
   "cell_type": "code",
   "execution_count": 317,
   "id": "7db158dd",
   "metadata": {},
   "outputs": [
    {
     "data": {
      "text/html": [
       "<div>\n",
       "<style scoped>\n",
       "    .dataframe tbody tr th:only-of-type {\n",
       "        vertical-align: middle;\n",
       "    }\n",
       "\n",
       "    .dataframe tbody tr th {\n",
       "        vertical-align: top;\n",
       "    }\n",
       "\n",
       "    .dataframe thead th {\n",
       "        text-align: right;\n",
       "    }\n",
       "</style>\n",
       "<table border=\"1\" class=\"dataframe\">\n",
       "  <thead>\n",
       "    <tr style=\"text-align: right;\">\n",
       "      <th></th>\n",
       "      <th>A</th>\n",
       "      <th>B</th>\n",
       "      <th>C</th>\n",
       "      <th>D</th>\n",
       "    </tr>\n",
       "  </thead>\n",
       "  <tbody>\n",
       "    <tr>\n",
       "      <th>2023-12-31</th>\n",
       "      <td>0.257745</td>\n",
       "      <td>1.329116</td>\n",
       "      <td>-0.604536</td>\n",
       "      <td>-0.444419</td>\n",
       "    </tr>\n",
       "    <tr>\n",
       "      <th>2024-12-31</th>\n",
       "      <td>0.301003</td>\n",
       "      <td>0.091395</td>\n",
       "      <td>0.486265</td>\n",
       "      <td>-0.387883</td>\n",
       "    </tr>\n",
       "    <tr>\n",
       "      <th>2025-12-31</th>\n",
       "      <td>-0.804150</td>\n",
       "      <td>-0.653833</td>\n",
       "      <td>-0.087194</td>\n",
       "      <td>0.053014</td>\n",
       "    </tr>\n",
       "    <tr>\n",
       "      <th>2026-12-31</th>\n",
       "      <td>-0.033653</td>\n",
       "      <td>-0.708977</td>\n",
       "      <td>0.976674</td>\n",
       "      <td>0.769223</td>\n",
       "    </tr>\n",
       "    <tr>\n",
       "      <th>2027-12-31</th>\n",
       "      <td>0.092031</td>\n",
       "      <td>1.024583</td>\n",
       "      <td>-0.106667</td>\n",
       "      <td>0.379752</td>\n",
       "    </tr>\n",
       "    <tr>\n",
       "      <th>2028-12-31</th>\n",
       "      <td>-1.740405</td>\n",
       "      <td>0.246261</td>\n",
       "      <td>-0.196473</td>\n",
       "      <td>-0.329534</td>\n",
       "    </tr>\n",
       "    <tr>\n",
       "      <th>2029-12-31</th>\n",
       "      <td>-0.006534</td>\n",
       "      <td>-0.326683</td>\n",
       "      <td>0.946912</td>\n",
       "      <td>2.577222</td>\n",
       "    </tr>\n",
       "    <tr>\n",
       "      <th>2030-12-31</th>\n",
       "      <td>1.292778</td>\n",
       "      <td>0.491238</td>\n",
       "      <td>-0.841472</td>\n",
       "      <td>-0.048381</td>\n",
       "    </tr>\n",
       "    <tr>\n",
       "      <th>2031-12-31</th>\n",
       "      <td>0.589971</td>\n",
       "      <td>-0.456979</td>\n",
       "      <td>-0.122262</td>\n",
       "      <td>1.352779</td>\n",
       "    </tr>\n",
       "    <tr>\n",
       "      <th>2032-12-31</th>\n",
       "      <td>1.424908</td>\n",
       "      <td>0.892540</td>\n",
       "      <td>0.361869</td>\n",
       "      <td>0.183101</td>\n",
       "    </tr>\n",
       "    <tr>\n",
       "      <th>2033-12-31</th>\n",
       "      <td>0.187481</td>\n",
       "      <td>0.547269</td>\n",
       "      <td>-0.605285</td>\n",
       "      <td>1.657141</td>\n",
       "    </tr>\n",
       "    <tr>\n",
       "      <th>2034-12-31</th>\n",
       "      <td>0.987986</td>\n",
       "      <td>1.979229</td>\n",
       "      <td>0.185269</td>\n",
       "      <td>-0.340764</td>\n",
       "    </tr>\n",
       "  </tbody>\n",
       "</table>\n",
       "</div>"
      ],
      "text/plain": [
       "                   A         B         C         D\n",
       "2023-12-31  0.257745  1.329116 -0.604536 -0.444419\n",
       "2024-12-31  0.301003  0.091395  0.486265 -0.387883\n",
       "2025-12-31 -0.804150 -0.653833 -0.087194  0.053014\n",
       "2026-12-31 -0.033653 -0.708977  0.976674  0.769223\n",
       "2027-12-31  0.092031  1.024583 -0.106667  0.379752\n",
       "2028-12-31 -1.740405  0.246261 -0.196473 -0.329534\n",
       "2029-12-31 -0.006534 -0.326683  0.946912  2.577222\n",
       "2030-12-31  1.292778  0.491238 -0.841472 -0.048381\n",
       "2031-12-31  0.589971 -0.456979 -0.122262  1.352779\n",
       "2032-12-31  1.424908  0.892540  0.361869  0.183101\n",
       "2033-12-31  0.187481  0.547269 -0.605285  1.657141\n",
       "2034-12-31  0.987986  1.979229  0.185269 -0.340764"
      ]
     },
     "execution_count": 317,
     "metadata": {},
     "output_type": "execute_result"
    }
   ],
   "source": [
    "# Function Application in DataFrame\n",
    "\n",
    "df"
   ]
  },
  {
   "cell_type": "code",
   "execution_count": 319,
   "id": "a402b3f7",
   "metadata": {},
   "outputs": [
    {
     "data": {
      "text/html": [
       "<div>\n",
       "<style scoped>\n",
       "    .dataframe tbody tr th:only-of-type {\n",
       "        vertical-align: middle;\n",
       "    }\n",
       "\n",
       "    .dataframe tbody tr th {\n",
       "        vertical-align: top;\n",
       "    }\n",
       "\n",
       "    .dataframe thead th {\n",
       "        text-align: right;\n",
       "    }\n",
       "</style>\n",
       "<table border=\"1\" class=\"dataframe\">\n",
       "  <thead>\n",
       "    <tr style=\"text-align: right;\">\n",
       "      <th></th>\n",
       "      <th>A</th>\n",
       "      <th>B</th>\n",
       "      <th>C</th>\n",
       "      <th>D</th>\n",
       "    </tr>\n",
       "  </thead>\n",
       "  <tbody>\n",
       "    <tr>\n",
       "      <th>2023-12-31</th>\n",
       "      <td>10.257745</td>\n",
       "      <td>11.329116</td>\n",
       "      <td>9.395464</td>\n",
       "      <td>9.555581</td>\n",
       "    </tr>\n",
       "    <tr>\n",
       "      <th>2024-12-31</th>\n",
       "      <td>10.301003</td>\n",
       "      <td>10.091395</td>\n",
       "      <td>10.486265</td>\n",
       "      <td>9.612117</td>\n",
       "    </tr>\n",
       "    <tr>\n",
       "      <th>2025-12-31</th>\n",
       "      <td>9.195850</td>\n",
       "      <td>9.346167</td>\n",
       "      <td>9.912806</td>\n",
       "      <td>10.053014</td>\n",
       "    </tr>\n",
       "    <tr>\n",
       "      <th>2026-12-31</th>\n",
       "      <td>9.966347</td>\n",
       "      <td>9.291023</td>\n",
       "      <td>10.976674</td>\n",
       "      <td>10.769223</td>\n",
       "    </tr>\n",
       "    <tr>\n",
       "      <th>2027-12-31</th>\n",
       "      <td>10.092031</td>\n",
       "      <td>11.024583</td>\n",
       "      <td>9.893333</td>\n",
       "      <td>10.379752</td>\n",
       "    </tr>\n",
       "    <tr>\n",
       "      <th>2028-12-31</th>\n",
       "      <td>8.259595</td>\n",
       "      <td>10.246261</td>\n",
       "      <td>9.803527</td>\n",
       "      <td>9.670466</td>\n",
       "    </tr>\n",
       "    <tr>\n",
       "      <th>2029-12-31</th>\n",
       "      <td>9.993466</td>\n",
       "      <td>9.673317</td>\n",
       "      <td>10.946912</td>\n",
       "      <td>12.577222</td>\n",
       "    </tr>\n",
       "    <tr>\n",
       "      <th>2030-12-31</th>\n",
       "      <td>11.292778</td>\n",
       "      <td>10.491238</td>\n",
       "      <td>9.158528</td>\n",
       "      <td>9.951619</td>\n",
       "    </tr>\n",
       "    <tr>\n",
       "      <th>2031-12-31</th>\n",
       "      <td>10.589971</td>\n",
       "      <td>9.543021</td>\n",
       "      <td>9.877738</td>\n",
       "      <td>11.352779</td>\n",
       "    </tr>\n",
       "    <tr>\n",
       "      <th>2032-12-31</th>\n",
       "      <td>11.424908</td>\n",
       "      <td>10.892540</td>\n",
       "      <td>10.361869</td>\n",
       "      <td>10.183101</td>\n",
       "    </tr>\n",
       "    <tr>\n",
       "      <th>2033-12-31</th>\n",
       "      <td>10.187481</td>\n",
       "      <td>10.547269</td>\n",
       "      <td>9.394715</td>\n",
       "      <td>11.657141</td>\n",
       "    </tr>\n",
       "    <tr>\n",
       "      <th>2034-12-31</th>\n",
       "      <td>10.987986</td>\n",
       "      <td>11.979229</td>\n",
       "      <td>10.185269</td>\n",
       "      <td>9.659236</td>\n",
       "    </tr>\n",
       "  </tbody>\n",
       "</table>\n",
       "</div>"
      ],
      "text/plain": [
       "                    A          B          C          D\n",
       "2023-12-31  10.257745  11.329116   9.395464   9.555581\n",
       "2024-12-31  10.301003  10.091395  10.486265   9.612117\n",
       "2025-12-31   9.195850   9.346167   9.912806  10.053014\n",
       "2026-12-31   9.966347   9.291023  10.976674  10.769223\n",
       "2027-12-31  10.092031  11.024583   9.893333  10.379752\n",
       "2028-12-31   8.259595  10.246261   9.803527   9.670466\n",
       "2029-12-31   9.993466   9.673317  10.946912  12.577222\n",
       "2030-12-31  11.292778  10.491238   9.158528   9.951619\n",
       "2031-12-31  10.589971   9.543021   9.877738  11.352779\n",
       "2032-12-31  11.424908  10.892540  10.361869  10.183101\n",
       "2033-12-31  10.187481  10.547269   9.394715  11.657141\n",
       "2034-12-31  10.987986  11.979229  10.185269   9.659236"
      ]
     },
     "execution_count": 319,
     "metadata": {},
     "output_type": "execute_result"
    }
   ],
   "source": [
    "#lets use the pipe() function\n",
    "\n",
    "def add(a,b):\n",
    "    return a+b\n",
    "\n",
    "df.pipe(add,10)"
   ]
  },
  {
   "cell_type": "code",
   "execution_count": 321,
   "id": "848389ed",
   "metadata": {},
   "outputs": [
    {
     "data": {
      "text/plain": [
       "A    <class 'pandas.core.series.Series'>\n",
       "B    <class 'pandas.core.series.Series'>\n",
       "C    <class 'pandas.core.series.Series'>\n",
       "D    <class 'pandas.core.series.Series'>\n",
       "dtype: object"
      ]
     },
     "execution_count": 321,
     "metadata": {},
     "output_type": "execute_result"
    }
   ],
   "source": [
    "#Lets use the colomn and row wise, apply() function\n",
    "\n",
    "df.apply(type)"
   ]
  },
  {
   "cell_type": "code",
   "execution_count": 333,
   "id": "163b5d43",
   "metadata": {},
   "outputs": [
    {
     "data": {
      "text/plain": [
       "A    0.212430\n",
       "B    0.371263\n",
       "C    0.032758\n",
       "D    0.451771\n",
       "dtype: float64"
      ]
     },
     "execution_count": 333,
     "metadata": {},
     "output_type": "execute_result"
    }
   ],
   "source": [
    "df.apply(np.mean)"
   ]
  },
  {
   "cell_type": "code",
   "execution_count": 328,
   "id": "607e9dab",
   "metadata": {},
   "outputs": [
    {
     "data": {
      "text/plain": [
       "2023-12-31    0.134476\n",
       "2024-12-31    0.122695\n",
       "2025-12-31   -0.373041\n",
       "2026-12-31    0.250817\n",
       "2027-12-31    0.347425\n",
       "2028-12-31   -0.505038\n",
       "2029-12-31    0.797729\n",
       "2030-12-31    0.223541\n",
       "2031-12-31    0.340877\n",
       "2032-12-31    0.715604\n",
       "2033-12-31    0.446652\n",
       "2034-12-31    0.702930\n",
       "Freq: A-DEC, dtype: float64"
      ]
     },
     "execution_count": 328,
     "metadata": {},
     "output_type": "execute_result"
    }
   ],
   "source": [
    "df.apply(np.mean, 1)"
   ]
  },
  {
   "cell_type": "code",
   "execution_count": 330,
   "id": "f2397274",
   "metadata": {},
   "outputs": [
    {
     "data": {
      "text/plain": [
       "2023-12-31    <class 'pandas.core.series.Series'>\n",
       "2024-12-31    <class 'pandas.core.series.Series'>\n",
       "2025-12-31    <class 'pandas.core.series.Series'>\n",
       "2026-12-31    <class 'pandas.core.series.Series'>\n",
       "2027-12-31    <class 'pandas.core.series.Series'>\n",
       "2028-12-31    <class 'pandas.core.series.Series'>\n",
       "2029-12-31    <class 'pandas.core.series.Series'>\n",
       "2030-12-31    <class 'pandas.core.series.Series'>\n",
       "2031-12-31    <class 'pandas.core.series.Series'>\n",
       "2032-12-31    <class 'pandas.core.series.Series'>\n",
       "2033-12-31    <class 'pandas.core.series.Series'>\n",
       "2034-12-31    <class 'pandas.core.series.Series'>\n",
       "Freq: A-DEC, dtype: object"
      ]
     },
     "execution_count": 330,
     "metadata": {},
     "output_type": "execute_result"
    }
   ],
   "source": [
    "#using the appl aPP for your application\n",
    "\n",
    "\n",
    "df.apply(type, axis=1)"
   ]
  },
  {
   "cell_type": "code",
   "execution_count": null,
   "id": "1ad0e3e0",
   "metadata": {},
   "outputs": [],
   "source": []
  }
 ],
 "metadata": {
  "kernelspec": {
   "display_name": "Python 3 (ipykernel)",
   "language": "python",
   "name": "python3"
  },
  "language_info": {
   "codemirror_mode": {
    "name": "ipython",
    "version": 3
   },
   "file_extension": ".py",
   "mimetype": "text/x-python",
   "name": "python",
   "nbconvert_exporter": "python",
   "pygments_lexer": "ipython3",
   "version": "3.10.9"
  }
 },
 "nbformat": 4,
 "nbformat_minor": 5
}
