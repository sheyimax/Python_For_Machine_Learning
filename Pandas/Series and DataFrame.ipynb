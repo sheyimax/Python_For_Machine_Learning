{
 "cells": [
  {
   "cell_type": "code",
   "execution_count": 3,
   "id": "b8e5936c",
   "metadata": {},
   "outputs": [
    {
     "name": "stdout",
     "output_type": "stream",
     "text": [
      "1    10\n",
      "2    20\n",
      "3    30\n",
      "dtype: int64\n"
     ]
    }
   ],
   "source": [
    "import pandas as pd\n",
    "\n",
    "a = pd.Series([10, 20, 30], index=[1, 2, 3])\n",
    "\n",
    "print(a)"
   ]
  },
  {
   "cell_type": "code",
   "execution_count": 9,
   "id": "c531dc50",
   "metadata": {},
   "outputs": [
    {
     "name": "stdout",
     "output_type": "stream",
     "text": [
      "a    10\n",
      "b    20\n",
      "c    30\n",
      "dtype: int64\n"
     ]
    }
   ],
   "source": [
    "#Using string for indexes\n",
    "\n",
    "import pandas as pd\n",
    "\n",
    "a = pd.Series([10, 20, 30], index=['a', 'b', 'c'])\n",
    "\n",
    "print(a)"
   ]
  },
  {
   "cell_type": "code",
   "execution_count": 20,
   "id": "1e5bed25",
   "metadata": {},
   "outputs": [
    {
     "name": "stdout",
     "output_type": "stream",
     "text": [
      "[10, 20, 30, 'Michael'] <class 'list'>\n",
      "0         10\n",
      "1         20\n",
      "2         30\n",
      "3    Michael\n",
      "dtype: object\n"
     ]
    },
    {
     "data": {
      "text/plain": [
       "pandas.core.series.Series"
      ]
     },
     "execution_count": 20,
     "metadata": {},
     "output_type": "execute_result"
    }
   ],
   "source": [
    "# Pandas as a DataFrame\n",
    "\n",
    "a =  [10, 20, 30, 'Michael']\n",
    "print(a, type(a))\n",
    "\n",
    "b = pd.Series(a)\n",
    "print(b)\n",
    "type(b)"
   ]
  },
  {
   "cell_type": "code",
   "execution_count": 23,
   "id": "1fb28e25",
   "metadata": {},
   "outputs": [
    {
     "name": "stdout",
     "output_type": "stream",
     "text": [
      "    0\n",
      "0  10\n",
      "1  20\n",
      "2  30\n",
      "3  40\n",
      "4  50\n"
     ]
    },
    {
     "data": {
      "text/plain": [
       "pandas.core.frame.DataFrame"
      ]
     },
     "execution_count": 23,
     "metadata": {},
     "output_type": "execute_result"
    }
   ],
   "source": [
    "# DataFrame\n",
    "\n",
    "a = [10, 20, 30, 40 ,50]\n",
    "df = pd.DataFrame(a)\n",
    "\n",
    "print(df)\n",
    "type(df)"
   ]
  },
  {
   "cell_type": "code",
   "execution_count": 32,
   "id": "a650452c",
   "metadata": {},
   "outputs": [
    {
     "name": "stdout",
     "output_type": "stream",
     "text": [
      "[['A.y', 89], ['Mike', 97], ['Debby', 2000]]\n",
      "       0     1\n",
      "0    A.y    89\n",
      "1   Mike    97\n",
      "2  Debby  2000\n"
     ]
    }
   ],
   "source": [
    "#Creating a Dataframe with head\n",
    "\n",
    "a = [['A.y', 89],['Mike', 97], ['Debby', 2000]]\n",
    "print(a)\n",
    "df = pd.DataFrame(a)\n",
    "\n",
    "print(df)"
   ]
  },
  {
   "cell_type": "code",
   "execution_count": 7,
   "id": "0a58d980",
   "metadata": {},
   "outputs": [
    {
     "name": "stdout",
     "output_type": "stream",
     "text": [
      "    Name  Years\n",
      "0    A.y     89\n",
      "1   Mike     97\n",
      "2  Debby   2000\n"
     ]
    }
   ],
   "source": [
    "#To create a column for the data above\n",
    "\n",
    "a = [['A.y', 89],['Mike', 97], ['Debby', 2000]]\n",
    "df = pd.DataFrame(a, columns=['Name', 'Years'])\n",
    "\n",
    "print(df)"
   ]
  },
  {
   "cell_type": "code",
   "execution_count": 8,
   "id": "235d8d07",
   "metadata": {},
   "outputs": [
    {
     "name": "stdout",
     "output_type": "stream",
     "text": [
      "0      A.y\n",
      "1     Mike\n",
      "2    Debby\n",
      "Name: Name, dtype: object\n"
     ]
    }
   ],
   "source": [
    "#To call a for 'Name' alone\n",
    "\n",
    "a = df['Name']\n",
    "print(a)"
   ]
  },
  {
   "cell_type": "code",
   "execution_count": 10,
   "id": "34035744",
   "metadata": {},
   "outputs": [
    {
     "name": "stdout",
     "output_type": "stream",
     "text": [
      "0      A.y\n",
      "1     Mike\n",
      "2    Debby\n",
      "Name: Name, dtype: object\n",
      "<class 'pandas.core.series.Series'>\n",
      "    Name\n",
      "0    A.y\n",
      "1   Mike\n",
      "2  Debby\n",
      "<class 'pandas.core.frame.DataFrame'>\n"
     ]
    }
   ],
   "source": [
    "#Differennces between DataFrame and Series\n",
    "\n",
    "a = [['A.y', 89],['Mike', 97], ['Debby', 2000]]\n",
    "df = pd.DataFrame(a, columns=['Name', 'Years'])\n",
    "\n",
    "c = df['Name']\n",
    "d = df[['Name']]\n",
    "\n",
    "print(c)\n",
    "print(type(c))\n",
    "print(d)\n",
    "print(type(d))"
   ]
  },
  {
   "cell_type": "code",
   "execution_count": 65,
   "id": "d205d8db",
   "metadata": {},
   "outputs": [
    {
     "name": "stdout",
     "output_type": "stream",
     "text": [
      "    Name  Years\n",
      "0    A.y     89\n",
      "1   Mike     97\n",
      "2  Debby   2000\n"
     ]
    }
   ],
   "source": [
    "# Creating a DataFrame column using another method..(comprehension)\n",
    "\n",
    "a = {'Name': ['A.y','Mike','Debby'], 'Years':[89, 97, 2000]}\n",
    "df = pd.DataFrame(a)\n",
    "\n",
    "print(df)"
   ]
  },
  {
   "cell_type": "code",
   "execution_count": 4,
   "id": "0a3f7014",
   "metadata": {},
   "outputs": [
    {
     "name": "stdout",
     "output_type": "stream",
     "text": [
      "[[1 2]\n",
      " [3 4]]\n",
      "   0  1\n",
      "0  1  2\n",
      "1  3  4\n",
      "[[1 2]\n",
      " [3 4]]\n"
     ]
    }
   ],
   "source": [
    "# You can convert this to an array\n",
    "\n",
    "import numpy as np\n",
    "\n",
    "a = np.array([[1,2],[3,4]])\n",
    "print(a)\n",
    "\n",
    "b = pd.DataFrame(a)\n",
    "print(b)\n",
    "\n",
    "#Lets also convert DataFrame to array\n",
    "c = np.array(b)\n",
    "print(c)"
   ]
  },
  {
   "cell_type": "code",
   "execution_count": null,
   "id": "b3d53bb0",
   "metadata": {},
   "outputs": [],
   "source": []
  }
 ],
 "metadata": {
  "kernelspec": {
   "display_name": "Python 3 (ipykernel)",
   "language": "python",
   "name": "python3"
  },
  "language_info": {
   "codemirror_mode": {
    "name": "ipython",
    "version": 3
   },
   "file_extension": ".py",
   "mimetype": "text/x-python",
   "name": "python",
   "nbconvert_exporter": "python",
   "pygments_lexer": "ipython3",
   "version": "3.10.9"
  }
 },
 "nbformat": 4,
 "nbformat_minor": 5
}
